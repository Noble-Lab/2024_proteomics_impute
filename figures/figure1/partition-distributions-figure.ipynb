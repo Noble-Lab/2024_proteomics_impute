{
 "cells": [
  {
   "cell_type": "markdown",
   "metadata": {},
   "source": [
    "# partition-distributions-figure\n",
    "6.17.24\n",
    "\n",
    "Want to make a publication quality figure showing the distribution \n",
    "of quants following partitioning with both MCAR and MNAR schemes. \n",
    "Haven't previously done this for the entire joint quants matrix."
   ]
  },
  {
   "cell_type": "code",
   "execution_count": 14,
   "metadata": {},
   "outputs": [],
   "source": [
    "import pandas as pd \n",
    "import numpy as np\n",
    "import torch\n",
    "import sys\n",
    "import matplotlib.pyplot as plt\n",
    "import seaborn as sns\n",
    "\n",
    "# Import my utils module\n",
    "sys.path.append(\"../../../bin/\")\n",
    "from utils import *\n",
    "\n",
    "# And my imputation models\n",
    "sys.path.append(\"../../../bin/models/\")\n",
    "from lupine_models import Lupine\n",
    "\n",
    "# plotting templates\n",
    "sns.set(context=\"talk\", style=\"ticks\") \n",
    "sns.set_palette(\"tab10\")"
   ]
  },
  {
   "cell_type": "markdown",
   "metadata": {},
   "source": [
    "#### Some configs"
   ]
  },
  {
   "cell_type": "code",
   "execution_count": 15,
   "metadata": {},
   "outputs": [],
   "source": [
    "# Paths for the component quants matrices\n",
    "datasets_stem=\"/net/noble/vol2/home/lincolnh/data/quant-data/UMich-quants-matrices/\"\n",
    "joint_mat=\"joint-quants-matrix-umich.csv\"\n",
    "\n",
    "# Partitioning params\n",
    "val_frac=0.0\n",
    "test_frac=0.2\n",
    "q_anchor=0.3\n",
    "t_std=1.6\n",
    "brnl_prob=0.6\n",
    "min_pres=0\n",
    "rand_seed=18"
   ]
  },
  {
   "cell_type": "markdown",
   "metadata": {},
   "source": [
    "#### Read in the joint quants matrix"
   ]
  },
  {
   "cell_type": "code",
   "execution_count": 16,
   "metadata": {},
   "outputs": [],
   "source": [
    "joint = pd.read_csv(datasets_stem + joint_mat, index_col=0)\n",
    "quants = np.array(joint)"
   ]
  },
  {
   "cell_type": "markdown",
   "metadata": {},
   "source": [
    "#### MCAR partition "
   ]
  },
  {
   "cell_type": "code",
   "execution_count": 17,
   "metadata": {},
   "outputs": [],
   "source": [
    "train_mcar, val_mcar, test_mcar, discard = \\\n",
    "    mcar_partition(\n",
    "        quants, \n",
    "        val_frac=val_frac,\n",
    "        test_frac=test_frac,\n",
    "        min_present=min_pres,\n",
    "        random_state=rand_seed,\n",
    ")"
   ]
  },
  {
   "cell_type": "markdown",
   "metadata": {},
   "source": [
    "#### MNAR partition "
   ]
  },
  {
   "cell_type": "code",
   "execution_count": 18,
   "metadata": {},
   "outputs": [],
   "source": [
    "# train_mnar, val_mnar, test_mnar, discard = \\\n",
    "#     mnar_partition_thresholds_matrix(\n",
    "#         quants, \n",
    "#         q_anchor,\n",
    "#         t_std,\n",
    "#         brnl_prob,\n",
    "#         min_pres=min_pres,\n",
    "#         rand_state=rand_seed,\n",
    "# )\n",
    "\n",
    "train_mnar, test_mnar = mnar_partition_single_split(\n",
    "                            quants, \n",
    "                            q_anchor,\n",
    "                            t_std,\n",
    "                            brnl_prob,\n",
    "                            min_pres=min_pres,\n",
    "                            rand_state=rand_seed,\n",
    ")"
   ]
  },
  {
   "cell_type": "markdown",
   "metadata": {},
   "source": [
    "#### Pre-process, for MCAR"
   ]
  },
  {
   "cell_type": "code",
   "execution_count": 19,
   "metadata": {},
   "outputs": [],
   "source": [
    "# Flatten\n",
    "quants_rav = quants.ravel()\n",
    "train_rav_mcar = train_mcar.ravel()\n",
    "val_rav_mcar = val_mcar.ravel()\n",
    "test_rav_mcar = test_mcar.ravel()\n",
    "\n",
    "# Get the present values from the original matrix\n",
    "orig_nans_mcar = np.isnan(quants_rav)\n",
    "orig_pres_mcar = quants_rav[~orig_nans_mcar]\n",
    "\n",
    "# Get present values from the training matrix\n",
    "train_nans_mcar = np.isnan(train_rav_mcar)\n",
    "train_pres_mcar = train_rav_mcar[~train_nans_mcar]\n",
    "\n",
    "# Get present values from the validation matrix\n",
    "val_nans_mcar = np.isnan(val_rav_mcar)\n",
    "val_pres_mcar = val_rav_mcar[~val_nans_mcar]\n",
    "\n",
    "# Get present values from the test matrix\n",
    "test_nans_mcar = np.isnan(test_rav_mcar)\n",
    "test_pres_mcar = test_rav_mcar[~test_nans_mcar]"
   ]
  },
  {
   "cell_type": "markdown",
   "metadata": {},
   "source": [
    "#### Pre-process, for MNAR"
   ]
  },
  {
   "cell_type": "code",
   "execution_count": 20,
   "metadata": {},
   "outputs": [],
   "source": [
    "# Flatten\n",
    "train_rav_mnar = train_mnar.ravel()\n",
    "#val_rav_mnar = val_mnar.ravel()\n",
    "test_rav_mnar = test_mnar.ravel()\n",
    "\n",
    "# Get the present values from the original matrix\n",
    "orig_nans_mnar = np.isnan(quants_rav)\n",
    "orig_pres_mnar = quants_rav[~orig_nans_mnar]\n",
    "\n",
    "# Get present values from the training matrix\n",
    "train_nans_mnar = np.isnan(train_rav_mnar)\n",
    "train_pres_mnar = train_rav_mnar[~train_nans_mnar]\n",
    "\n",
    "# Get present values from the validation matrix\n",
    "# val_nans_mnar = np.isnan(val_rav_mnar)\n",
    "# val_pres_mnar = val_rav_mnar[~val_nans_mnar]\n",
    "\n",
    "# Get present values from the test matrix\n",
    "test_nans_mnar = np.isnan(test_rav_mnar)\n",
    "test_pres_mnar = test_rav_mnar[~test_nans_mnar]"
   ]
  },
  {
   "cell_type": "markdown",
   "metadata": {},
   "source": [
    "#### Plot 'em side-by-side"
   ]
  },
  {
   "cell_type": "code",
   "execution_count": 21,
   "metadata": {
    "scrolled": true
   },
   "outputs": [],
   "source": [
    "# fig, ax = plt.subplots(1, 2, figsize=(12,4))\n",
    "\n",
    "# # THE MCAR PARTITION \n",
    "# #    The original (unpartitioned) matrix\n",
    "# ax[0].hist(\n",
    "#     orig_pres_mcar, \n",
    "#     bins=100,\n",
    "#     linewidth=0.01,\n",
    "#     color='#1f77b4', \n",
    "#     edgecolor='#1f77b4', \n",
    "#     alpha=1.0, \n",
    "#     label=\"Unpartitioned\",\n",
    "# )\n",
    "# # The training set\n",
    "# ax[0].hist(\n",
    "#     train_pres_mcar, \n",
    "#     bins=100,\n",
    "#     linewidth=0.01,\n",
    "#     color='#ff7f0e', \n",
    "#     edgecolor='#ff7f0e', \n",
    "#     alpha=1.0, \n",
    "#     label=\"Training\",\n",
    "# )\n",
    "# # The validation set\n",
    "# ax[0].hist(\n",
    "#     val_pres_mcar, \n",
    "#     bins=60,\n",
    "#     linewidth=0.01,\n",
    "#     color='#d62728', \n",
    "#     edgecolor='#d62728', \n",
    "#     alpha=1.0, \n",
    "#     label=\"Validation\",\n",
    "# )\n",
    "# # The test set\n",
    "# ax[0].hist(\n",
    "#     test_pres_mcar, \n",
    "#     bins=60,\n",
    "#     linewidth=0.01,\n",
    "#     color='#2ca02c', \n",
    "#     edgecolor='#2ca02c', \n",
    "#     alpha=1.0, \n",
    "#     label=\"Test\",\n",
    "# )\n",
    "# #ax[0].set_title(\"MCAR partition\", pad=20, size=24)\n",
    "# ax[0].set_title(\"Missing Completely \\nat Random\", pad=20, size=20)\n",
    "# ax[0].set_xlabel(\"Protein Quant\", labelpad=8)\n",
    "# ax[0].set_ylabel(\"Counts\", labelpad=8)\n",
    "# ax[0].ticklabel_format(style='sci', axis='y', scilimits=(0,0))\n",
    "\n",
    "# # THE MNAR PARTITION \n",
    "# #    The original (unpartitioned) matrix\n",
    "# ax[1].hist(\n",
    "#     orig_pres_mnar, \n",
    "#     bins=100,\n",
    "#     linewidth=0.01,\n",
    "#     color='#1f77b4', \n",
    "#     edgecolor='#1f77b4', \n",
    "#     alpha=1.0, \n",
    "#     label=\"Unpartitioned\",\n",
    "# )\n",
    "# # The training set\n",
    "# ax[1].hist(\n",
    "#     train_pres_mnar, \n",
    "#     bins=100,\n",
    "#     linewidth=0.01,\n",
    "#     color='#ff7f0e', \n",
    "#     edgecolor='#ff7f0e', \n",
    "#     alpha=1.0, \n",
    "#     label=\"Training\",\n",
    "# )\n",
    "# # The validation set\n",
    "# ax[1].hist(\n",
    "#     val_pres_mnar, \n",
    "#     bins=60,\n",
    "#     linewidth=0.01,\n",
    "#     color='#d62728', \n",
    "#     edgecolor='#d62728', \n",
    "#     alpha=1.0, \n",
    "#     label=\"Validation\",\n",
    "# )\n",
    "# # The test set\n",
    "# ax[1].hist(\n",
    "#     test_pres_mnar, \n",
    "#     bins=60,\n",
    "#     linewidth=0.01,\n",
    "#     color='#2ca02c', \n",
    "#     edgecolor='#2ca02c', \n",
    "#     alpha=1.0, \n",
    "#     label=\"Test\",\n",
    "# )\n",
    "# #ax[1].set_title(\"MNAR partition\", pad=20, size=24)\n",
    "# ax[1].set_title(\"Missing Not \\nat Random\", pad=20, size=20)\n",
    "# ax[1].set_xlabel(\"Protein Quant\", labelpad=8)\n",
    "# ax[1].set_ylabel(\"\")\n",
    "\n",
    "# plt.minorticks_off()\n",
    "\n",
    "# leg = plt.legend(bbox_to_anchor=(1.05, 1.05), edgecolor=\"k\")\n",
    "# for lh in leg.legendHandles: \n",
    "#     lh.set_alpha(1)\n",
    "    \n",
    "# ax[1].ticklabel_format(style='sci', axis='y', scilimits=(0,0))\n",
    "\n",
    "# plt.show()\n",
    "# #plt.savefig(\"figures/partitions-figure.pdf\", bbox_inches=\"tight\")"
   ]
  },
  {
   "cell_type": "markdown",
   "metadata": {},
   "source": [
    "---\n",
    "## Plot 'em individually\n",
    "This is maybe for my Cascadia talk "
   ]
  },
  {
   "cell_type": "markdown",
   "metadata": {},
   "source": [
    "#### MCAR split"
   ]
  },
  {
   "cell_type": "code",
   "execution_count": 22,
   "metadata": {},
   "outputs": [
    {
     "name": "stderr",
     "output_type": "stream",
     "text": [
      "/tmp/ipykernel_2226774/4021599830.py:45: MatplotlibDeprecationWarning: The legendHandles attribute was deprecated in Matplotlib 3.7 and will be removed two minor releases later. Use legend_handles instead.\n",
      "  for lh in leg.legendHandles:\n"
     ]
    },
    {
     "data": {
      "image/png": "[encoded data removed]",
      "text/plain": [
       "<Figure size 500x400 with 1 Axes>"
      ]
     },
     "metadata": {},
     "output_type": "display_data"
    }
   ],
   "source": [
    "plt.figure(figsize=(5,4))\n",
    "\n",
    "# The original (unpartitioned) matrix\n",
    "plt.hist(\n",
    "    orig_pres_mcar, \n",
    "    bins=200,\n",
    "    linewidth=0.01,\n",
    "    color='#1f77b4', \n",
    "    edgecolor='#1f77b4', \n",
    "    alpha=1.0, \n",
    "    label=\"Original\",\n",
    ")\n",
    "# The training set\n",
    "plt.hist(\n",
    "    train_pres_mcar, \n",
    "    bins=200,\n",
    "    linewidth=0.01,\n",
    "    color='#ff7f0e', \n",
    "    edgecolor='#ff7f0e', \n",
    "    alpha=1.0, \n",
    "    label=\"Training\",\n",
    ")\n",
    "# # The validation set\n",
    "# plt.hist(\n",
    "#     val_pres_mcar, \n",
    "#     bins=60,\n",
    "#     linewidth=0.01,\n",
    "#     color='#d62728', \n",
    "#     edgecolor='#d62728', \n",
    "#     alpha=1.0, \n",
    "#     label=\"Validation\",\n",
    "# )\n",
    "# The test set\n",
    "plt.hist(\n",
    "    test_pres_mcar, \n",
    "    bins=100,\n",
    "    linewidth=0.01,\n",
    "    color='#2ca02c', \n",
    "    edgecolor='#2ca02c', \n",
    "    alpha=1.0, \n",
    "    label=\"Test\",\n",
    ")\n",
    "\n",
    "leg = plt.legend(bbox_to_anchor=(1.05, 1.05), edgecolor=\"k\")\n",
    "for lh in leg.legendHandles: \n",
    "    lh.set_alpha(1)\n",
    "    \n",
    "plt.title(\"Missing Completely \\nat Random\", pad=20, size=20)\n",
    "plt.xlabel(\"Protein Quant\", labelpad=8)\n",
    "plt.ylabel(\"Counts\", labelpad=8)\n",
    "plt.ticklabel_format(style='sci', axis='y', scilimits=(0,0))\n",
    "\n",
    "plt.show()\n",
    "#plt.savefig(\"../figures/partitions-MCAR.pdf\", bbox_inches=\"tight\")"
   ]
  },
  {
   "cell_type": "markdown",
   "metadata": {},
   "source": [
    "#### The MNAR partition "
   ]
  },
  {
   "cell_type": "code",
   "execution_count": 23,
   "metadata": {},
   "outputs": [
    {
     "name": "stderr",
     "output_type": "stream",
     "text": [
      "/tmp/ipykernel_2226774/249202658.py:50: MatplotlibDeprecationWarning: The legendHandles attribute was deprecated in Matplotlib 3.7 and will be removed two minor releases later. Use legend_handles instead.\n",
      "  for lh in leg.legendHandles:\n"
     ]
    },
    {
     "data": {
      "image/png": "[encoded data removed]",
      "text/plain": [
       "<Figure size 500x400 with 1 Axes>"
      ]
     },
     "metadata": {},
     "output_type": "display_data"
    }
   ],
   "source": [
    "plt.figure(figsize=(5,4))\n",
    "\n",
    "# The original (unpartitioned) matrix\n",
    "plt.hist(\n",
    "    orig_pres_mnar, \n",
    "    bins=200,\n",
    "    linewidth=0.01,\n",
    "    color='#1f77b4', \n",
    "    edgecolor='#1f77b4', \n",
    "    alpha=1.0, \n",
    "    label=\"Original\",\n",
    ")\n",
    "# The training set\n",
    "plt.hist(\n",
    "    train_pres_mnar, \n",
    "    bins=200,\n",
    "    linewidth=0.01,\n",
    "    color='#ff7f0e', \n",
    "    edgecolor='#ff7f0e', \n",
    "    alpha=1.0, \n",
    "    label=\"Training\",\n",
    ")\n",
    "# The validation set\n",
    "# plt.hist(\n",
    "#     val_pres_mnar, \n",
    "#     bins=60,\n",
    "#     linewidth=0.01,\n",
    "#     color='#d62728', \n",
    "#     edgecolor='#d62728', \n",
    "#     alpha=1.0, \n",
    "#     label=\"Validation\",\n",
    "# )\n",
    "# The test set\n",
    "plt.hist(\n",
    "    test_pres_mnar, \n",
    "    bins=100,\n",
    "    linewidth=0.01,\n",
    "    color='#2ca02c', \n",
    "    edgecolor='#2ca02c', \n",
    "    alpha=1.0, \n",
    "    label=\"Test\",\n",
    ")\n",
    "plt.title(\"Missing Not \\nat Random\", pad=20, size=20)\n",
    "plt.xlabel(\"Protein Quant\", labelpad=8)\n",
    "plt.ylabel(\"Counts\", labelpad=8)\n",
    "\n",
    "plt.minorticks_off()\n",
    "\n",
    "leg = plt.legend(bbox_to_anchor=(1.05, 1.05), edgecolor=\"k\")\n",
    "for lh in leg.legendHandles: \n",
    "    lh.set_alpha(1)\n",
    "    \n",
    "plt.ticklabel_format(style='sci', axis='y', scilimits=(0,0))\n",
    "\n",
    "plt.show()\n",
    "#plt.savefig(\"../figures/partitions-MNAR.pdf\", bbox_inches=\"tight\")"
   ]
  },
  {
   "cell_type": "markdown",
   "metadata": {},
   "source": [
    "---\n",
    "## What if I look into the data loaders a bit? \n",
    "And plot the results of the biased batch selection process. "
   ]
  },
  {
   "cell_type": "markdown",
   "metadata": {},
   "source": [
    "#### Get the data loader"
   ]
  },
  {
   "cell_type": "code",
   "execution_count": 24,
   "metadata": {},
   "outputs": [],
   "source": [
    "batch_size=64\n",
    "biased=True\n",
    "rand_seed=19\n",
    "\n",
    "train_loader = FactorizationDataset(\n",
    "                        X=train_mnar,\n",
    "                        X_val=None, \n",
    "                        partition=\"Train\",\n",
    "                        batch_size=batch_size, \n",
    "                        biased=biased,\n",
    "                        shuffle=True, \n",
    "                        missing=False,\n",
    "                        testing=False,\n",
    "                        anchor=0.2,\n",
    "                        iters=3,\n",
    "                        std=0.4,\n",
    "                        b_prob=0.8,\n",
    "                        rand_seed=rand_seed,\n",
    ")\n",
    "train_loader.get_biased_loader()"
   ]
  },
  {
   "cell_type": "markdown",
   "metadata": {},
   "source": [
    "#### Get all of the X_ijs in the loader\n",
    "This takes an absurdly long time. But we likely don't have to wait until the very end. "
   ]
  },
  {
   "cell_type": "code",
   "execution_count": 25,
   "metadata": {},
   "outputs": [
    {
     "name": "stderr",
     "output_type": "stream",
     "text": [
      "\n",
      "KeyboardInterrupt\n",
      "\n"
     ]
    }
   ],
   "source": [
    "train_targets = np.array([])\n",
    "\n",
    "for locs, target in train_loader:\n",
    "    locs = locs.numpy()\n",
    "    target = target.numpy()\n",
    "    train_targets = np.append(train_targets, target)"
   ]
  },
  {
   "cell_type": "markdown",
   "metadata": {},
   "source": [
    "#### Plot, including the biased data loader "
   ]
  },
  {
   "cell_type": "code",
   "execution_count": 27,
   "metadata": {},
   "outputs": [
    {
     "name": "stderr",
     "output_type": "stream",
     "text": [
      "/tmp/ipykernel_2226774/416186100.py:53: MatplotlibDeprecationWarning: The legendHandles attribute was deprecated in Matplotlib 3.7 and will be removed two minor releases later. Use legend_handles instead.\n",
      "  for lh in leg.legendHandles:\n"
     ]
    },
    {
     "data": {
      "image/png": "[encoded data removed]",
      "text/plain": [
       "<Figure size 500x400 with 1 Axes>"
      ]
     },
     "metadata": {},
     "output_type": "display_data"
    }
   ],
   "source": [
    "cutoff = int(np.floor(len(train_targets)*0.75))\n",
    "\n",
    "plt.figure(figsize=(5,4))\n",
    "\n",
    "# The original (unpartitioned) matrix\n",
    "plt.hist(\n",
    "    orig_pres_mnar, \n",
    "    bins=200,\n",
    "    linewidth=0.01,\n",
    "    color='#1f77b4', \n",
    "    edgecolor='#1f77b4', \n",
    "    alpha=1.0, \n",
    "    label=\"Original\",\n",
    ")\n",
    "# The training set\n",
    "plt.hist(\n",
    "    train_pres_mnar, \n",
    "    bins=200,\n",
    "    linewidth=0.01,\n",
    "    color='#ff7f0e', \n",
    "    edgecolor='#ff7f0e', \n",
    "    alpha=1.0, \n",
    "    label=\"Training\",\n",
    ")\n",
    "# The training data loader \n",
    "plt.hist(\n",
    "    train_targets[:cutoff], \n",
    "    bins=130,\n",
    "    linewidth=0.01,\n",
    "    color='#9467bd', \n",
    "    edgecolor='#9467bd', \n",
    "    alpha=1.0, \n",
    "    label=\"Train Batches\",\n",
    ")\n",
    "# The test set\n",
    "plt.hist(\n",
    "    test_pres_mnar, \n",
    "    bins=100,\n",
    "    linewidth=0.01,\n",
    "    color='#2ca02c', \n",
    "    edgecolor='#2ca02c', \n",
    "    alpha=1.0, \n",
    "    label=\"Test\",\n",
    ")\n",
    "plt.title(\"Missing Not \\nat Random\", pad=20, size=20)\n",
    "plt.xlabel(\"Log$_{2}$ Intensity\", labelpad=8)\n",
    "\n",
    "plt.ylabel(\"Counts\", labelpad=8)\n",
    "\n",
    "plt.minorticks_off()\n",
    "\n",
    "leg = plt.legend(edgecolor=\"k\", prop={\"size\":11})\n",
    "for lh in leg.legendHandles: \n",
    "    lh.set_alpha(1)\n",
    "    \n",
    "plt.ticklabel_format(style='sci', axis='y', scilimits=(0,0))\n",
    "\n",
    "plt.show()\n",
    "#plt.savefig(\"../figures/partitions-MNAR-v4.pdf\", bbox_inches=\"tight\")"
   ]
  },
  {
   "cell_type": "markdown",
   "metadata": {},
   "source": [
    "---\n",
    "## Plot 'em side-by-side, again. \n",
    "No validation sets. "
   ]
  },
  {
   "cell_type": "code",
   "execution_count": null,
   "metadata": {},
   "outputs": [],
   "source": [
    "# fig, ax = plt.subplots(1, 2, figsize=(12,4))\n",
    "\n",
    "# # THE MCAR PARTITION \n",
    "# #    The original (unpartitioned) matrix\n",
    "# ax[0].hist(\n",
    "#     orig_pres_mcar, \n",
    "#     bins=200,\n",
    "#     linewidth=0.01,\n",
    "#     color='#1f77b4', \n",
    "#     edgecolor='#1f77b4', \n",
    "#     alpha=1.0, \n",
    "#     label=\"Unpartitioned\",\n",
    "# )\n",
    "# # The training set\n",
    "# ax[0].hist(\n",
    "#     train_pres_mcar, \n",
    "#     bins=200,\n",
    "#     linewidth=0.01,\n",
    "#     color='#ff7f0e', \n",
    "#     edgecolor='#ff7f0e', \n",
    "#     alpha=1.0, \n",
    "#     label=\"Training\",\n",
    "# )\n",
    "# # The test set\n",
    "# ax[0].hist(\n",
    "#     test_pres_mcar, \n",
    "#     bins=100,\n",
    "#     linewidth=0.01,\n",
    "#     color='#2ca02c', \n",
    "#     edgecolor='#2ca02c', \n",
    "#     alpha=1.0, \n",
    "#     label=\"Test\",\n",
    "# )\n",
    "# #ax[0].set_title(\"MCAR partition\", pad=20, size=24)\n",
    "# ax[0].set_title(\"Missing Completely \\nat Random\", pad=20, size=20)\n",
    "# ax[0].set_xlabel(\"Protein Quant\", labelpad=8)\n",
    "# ax[0].set_ylabel(\"Counts\", labelpad=8)\n",
    "# ax[0].ticklabel_format(style='sci', axis='y', scilimits=(0,0))\n",
    "\n",
    "# # THE MNAR PARTITION \n",
    "# #    The original (unpartitioned) matrix\n",
    "# ax[1].hist(\n",
    "#     orig_pres_mnar, \n",
    "#     bins=200,\n",
    "#     linewidth=0.01,\n",
    "#     color='#1f77b4', \n",
    "#     edgecolor='#1f77b4', \n",
    "#     alpha=1.0, \n",
    "#     label=\"Unpartitioned\",\n",
    "# )\n",
    "# # The training set\n",
    "# ax[1].hist(\n",
    "#     train_pres_mnar, \n",
    "#     bins=200,\n",
    "#     linewidth=0.01,\n",
    "#     color='#ff7f0e', \n",
    "#     edgecolor='#ff7f0e', \n",
    "#     alpha=1.0, \n",
    "#     label=\"Training\",\n",
    "# )\n",
    "# # The test set\n",
    "# ax[1].hist(\n",
    "#     test_pres_mnar, \n",
    "#     bins=100,\n",
    "#     linewidth=0.01,\n",
    "#     color='#2ca02c', \n",
    "#     edgecolor='#2ca02c', \n",
    "#     alpha=1.0, \n",
    "#     label=\"Test\",\n",
    "# )\n",
    "# #ax[1].set_title(\"MNAR partition\", pad=20, size=24)\n",
    "# ax[1].set_title(\"Missing Not \\nat Random\", pad=20, size=20)\n",
    "# ax[1].set_xlabel(\"Protein Quant\", labelpad=8)\n",
    "# ax[1].set_ylabel(\"\")\n",
    "\n",
    "# plt.minorticks_off()\n",
    "\n",
    "# leg = plt.legend(bbox_to_anchor=(1.05, 1.05), edgecolor=\"k\")\n",
    "# for lh in leg.legendHandles: \n",
    "#     lh.set_alpha(1)\n",
    "    \n",
    "# ax[1].ticklabel_format(style='sci', axis='y', scilimits=(0,0))\n",
    "\n",
    "# #plt.show()\n",
    "# #plt.savefig(\"../figures/partitions-figure-v1.pdf\", bbox_inches=\"tight\")"
   ]
  },
  {
   "cell_type": "markdown",
   "metadata": {},
   "source": [
    "#### Plot 'em on top of each other"
   ]
  },
  {
   "cell_type": "code",
   "execution_count": null,
   "metadata": {},
   "outputs": [],
   "source": [
    "fig, (ax1, ax2) = plt.subplots(2, 1, figsize=(7,7), sharex=True)\n",
    "\n",
    "# THE MCAR PARTITION \n",
    "#    The original (unpartitioned) matrix\n",
    "ax1.hist(\n",
    "    orig_pres_mcar, \n",
    "    bins=200,\n",
    "    linewidth=0.01,\n",
    "    color='#1f77b4', \n",
    "    edgecolor='#1f77b4', \n",
    "    alpha=1.0, \n",
    "    label=\"Unpartitioned\",\n",
    ")\n",
    "# The training set\n",
    "ax1.hist(\n",
    "    train_pres_mcar, \n",
    "    bins=200,\n",
    "    linewidth=0.01,\n",
    "    color='#ff7f0e', \n",
    "    edgecolor='#ff7f0e', \n",
    "    alpha=1.0, \n",
    "    label=\"Training\",\n",
    ")\n",
    "# The test set\n",
    "ax1.hist(\n",
    "    test_pres_mcar, \n",
    "    bins=100,\n",
    "    linewidth=0.01,\n",
    "    color='#2ca02c', \n",
    "    edgecolor='#2ca02c', \n",
    "    alpha=1.0, \n",
    "    label=\"Test\",\n",
    ")\n",
    "ax1.set_title(\"MCAR partition\", pad=12, size=22)\n",
    "ax1.set_xlabel(\"\", labelpad=8)\n",
    "ax1.set_ylabel(\"Counts\", labelpad=8)\n",
    "ax1.ticklabel_format(style='sci', axis='y', scilimits=(0,0))\n",
    "\n",
    "ax1.legend(bbox_to_anchor=(1.05, 1.05), edgecolor=\"k\")\n",
    "\n",
    "# leg = plt.legend(bbox_to_anchor=(1.05, 1.05), edgecolor=\"k\")\n",
    "# for lh in leg.legendHandles: \n",
    "#     lh.set_alpha(1)\n",
    "\n",
    "# THE MNAR PARTITION \n",
    "#    The original (unpartitioned) matrix\n",
    "ax2.hist(\n",
    "    orig_pres_mnar, \n",
    "    bins=200,\n",
    "    linewidth=0.01,\n",
    "    color='#1f77b4', \n",
    "    edgecolor='#1f77b4', \n",
    "    alpha=1.0, \n",
    "    label=\"Unpartitioned\",\n",
    ")\n",
    "# The training set\n",
    "ax2.hist(\n",
    "    train_pres_mnar, \n",
    "    bins=200,\n",
    "    linewidth=0.01,\n",
    "    color='#ff7f0e', \n",
    "    edgecolor='#ff7f0e', \n",
    "    alpha=1.0, \n",
    "    label=\"Training\",\n",
    ")\n",
    "# The test set\n",
    "ax2.hist(\n",
    "    test_pres_mnar, \n",
    "    bins=100,\n",
    "    linewidth=0.01,\n",
    "    color='#2ca02c', \n",
    "    edgecolor='#2ca02c', \n",
    "    alpha=1.0, \n",
    "    label=\"Test\",\n",
    ")\n",
    "ax2.set_title(\"MNAR partition\", pad=12, size=22)\n",
    "ax2.set_xlabel(\"Log$_{2}$ Intensity\", labelpad=8)\n",
    "ax2.set_ylabel(\"Counts\", labelpad=8)\n",
    "\n",
    "plt.minorticks_off()\n",
    "\n",
    "ax2.ticklabel_format(style='sci', axis='y', scilimits=(0,0))\n",
    "\n",
    "plt.tight_layout()\n",
    "plt.show()\n",
    "#plt.savefig(\"../figures/partitions-figure-v1.pdf\", bbox_inches=\"tight\")"
   ]
  }
 ],
 "metadata": {
  "kernelspec": {
   "display_name": "deep-impute",
   "language": "python",
   "name": "deep-impute"
  },
  "language_info": {
   "codemirror_mode": {
    "name": "ipython",
    "version": 3
   },
   "file_extension": ".py",
   "mimetype": "text/x-python",
   "name": "python",
   "nbconvert_exporter": "python",
   "pygments_lexer": "ipython3",
   "version": "3.9.19"
  }
 },
 "nbformat": 4,
 "nbformat_minor": 4
}
