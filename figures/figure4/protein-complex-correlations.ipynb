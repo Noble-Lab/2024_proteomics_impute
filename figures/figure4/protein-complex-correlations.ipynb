{
 "cells": [
  {
   "cell_type": "markdown",
   "id": "ca83bc3c",
   "metadata": {},
   "source": [
    "# protein-complex-correlations\n",
    "6.19.24\n",
    "\n",
    "Get the Spearman correlations between every pair of proteins in the same complex. \n",
    "And then compare to the same procedure but for randomly selected proteins. This\n",
    "notebook plots all 10 cohorts at once (but takes forever)."
   ]
  },
  {
   "cell_type": "code",
   "execution_count": 1,
   "id": "6e5ed8f5",
   "metadata": {},
   "outputs": [],
   "source": [
    "import pandas as pd\n",
    "import numpy as np \n",
    "from tqdm import tqdm\n",
    "from Bio import SeqIO\n",
    "from scipy.stats import spearmanr, ttest_ind #, false_discovery_control \n",
    "\n",
    "import matplotlib.pyplot as plt\n",
    "import seaborn as sns\n",
    "\n",
    "# plotting templates\n",
    "sns.set(context=\"talk\", style=\"ticks\") \n",
    "pal = sns.color_palette(\"tab10\")"
   ]
  },
  {
   "cell_type": "markdown",
   "id": "13d53148",
   "metadata": {},
   "source": [
    "#### Configs"
   ]
  },
  {
   "cell_type": "code",
   "execution_count": 2,
   "id": "8334f992",
   "metadata": {},
   "outputs": [],
   "source": [
    "CORUM_df_path=\"/net/noble/vol2/home/lincolnh/data/humanComplexes.txt\"\n",
    "\n",
    "# The Lupine ensemble imputed matrix\n",
    "lupine_recon_path=\"/net/noble/vol2/home/lincolnh/code/2023_harris_deep_impute/results/2024-05-30_DE_sandbox/results/lupine-ensemble-imputed.csv\"\n",
    "\n",
    "# The unimputed joint quants matrix\n",
    "joint_fname=\"/net/noble/vol2/home/lincolnh/data/quant-data/UMich-normalized/joint-quants-normalized-shifted.csv\"\n",
    "\n",
    "# The Ensemble (GENCODEv44) fasta\n",
    "ensembl_path=\"/net/noble/vol2/home/lincolnh/code/2023_harris_deep_impute/results/2023-11-13_UMich_dataset/fastas/\"\n",
    "ensembl_df=\"gencode.v44.pc_translations.fa\"\n",
    "\n",
    "# The HGNC database file\n",
    "hgnc_database_path=\"/net/noble/vol2/home/lincolnh/data/quant-data/HGNC_database.txt\"\n",
    "\n",
    "# The handbuilt metadata file\n",
    "meta_path=\"/net/noble/vol2/home/lincolnh/code/2023_harris_deep_impute/results/2024-05-10_metadata_mapping/meta-dict.csv\"\n",
    "\n",
    "cohorts=[\"BRCA\", \"CCRCC\", \"COAD\", \"GBM\", \"HGSC\", \n",
    "         \"HNSCC\", \"LSCC\", \"LUAD\", \"PDAC\", \"UCEC\"]\n",
    "#cohorts=[\"BRCA\", \"CCRCC\", \"COAD\"]\n",
    "\n",
    "# For the unimputed joint quants matrix\n",
    "min_pres=18\n",
    "pres_frac_thresh = 0.5\n",
    "\n",
    "# For the decoy protein search\n",
    "rng = np.random.default_rng(seed=18)\n",
    "# alpha = 0.01\n",
    "\n",
    "# For plotting\n",
    "cust_palette = [\"#ff7f0e\", \"#1f77b4\", \"#2ca02c\"]"
   ]
  },
  {
   "cell_type": "markdown",
   "id": "07b421d6",
   "metadata": {},
   "source": [
    "#### Functions"
   ]
  },
  {
   "cell_type": "code",
   "execution_count": 3,
   "id": "aeca20e8",
   "metadata": {},
   "outputs": [],
   "source": [
    "def get_single_cohort_quants(_meta, _cohort, _recon):\n",
    "    \"\"\"\n",
    "    For a cohort of interest, subset the Lupine imputed joint quants\n",
    "    matrix down to only runs from the current cohort. We can also use\n",
    "    this function to remove proteins with greater than 50% initial \n",
    "    missingness. \n",
    "    \n",
    "    Parameters\n",
    "    ----------\n",
    "    _meta : pandas.DataFrame, \n",
    "        The hand built metadata df\n",
    "    _cohort : str, \n",
    "        The cohort of interest\n",
    "    _recon : pandas.DataFrame, \n",
    "        The Lupine imputed joint quants matrix\n",
    "    \n",
    "    Returns\n",
    "    ----------\n",
    "    recon_cohort : pandas.DataFrame,\n",
    "        Lupine imputed quants for only the cohort of interest.\n",
    "    pres_fracs : np.array, \n",
    "        A list of the present value fractions for each protein in the\n",
    "        input matrix. \n",
    "    \"\"\"\n",
    "    meta_cohort = _meta[_meta[\"cohort\"] == _cohort]\n",
    "    meta_cohort_nt = meta_cohort[meta_cohort[\"sample_type\"] == \"Tumor\"]\n",
    "    #meta_cohort_nt = meta_cohort[meta_cohort[\"sample_type\"] == \"Normal\"]\n",
    "\n",
    "    cohort_ids = list(meta_cohort_nt[\"aliquot_ID\"])\n",
    "    #cohort_ids = list(meta_cohort[\"aliquot_ID\"])\n",
    "\n",
    "    # Subset the Lupine imputed joint quants matrix\n",
    "    recon_cohort = _recon[cohort_ids]\n",
    "\n",
    "    # Get the present value fractions for each protein \n",
    "    num_present = np.sum(~np.isnan(recon_cohort), axis=1)\n",
    "    pres_fracs = num_present / recon_cohort.shape[1]\n",
    "    \n",
    "    return recon_cohort, pres_fracs\n",
    "\n",
    "def run_spearman_correlations(quants):\n",
    "    \"\"\"\n",
    "    Get the correlation between imputed quants for every \n",
    "    pair of proteins in the same subunit. We're doing a lot\n",
    "    of pair-wise comparisons, so this is very slow. \n",
    "    \n",
    "    Parameters\n",
    "    ----------\n",
    "    quants : pandas.DataFrame\n",
    "        The matrix of protein quantifications for imputed\n",
    "        proteins belonging to the same subunit. \n",
    "    \n",
    "    Returns\n",
    "    -----------\n",
    "    corrs, pvals : list, \n",
    "        The Spearman correlation coefficients and\n",
    "        associated p-values, respectively. \n",
    "    \"\"\"\n",
    "    corrs = []\n",
    "    pvals = []\n",
    "\n",
    "    for i in range(0, quants.shape[0]):\n",
    "        protA = np.array(quants.iloc[i])\n",
    "        for j in range(0, quants.shape[0]):\n",
    "            if i == j:\n",
    "                continue\n",
    "            protB = np.array(quants.iloc[j])\n",
    "\n",
    "            corr, pval = spearmanr(protA, protB, nan_policy=\"omit\")\n",
    "            corrs.append(corr)\n",
    "            pvals.append(pval)\n",
    "            \n",
    "    return corrs, pvals\n",
    "\n",
    "def bh_correction(_pvals, _alpha=0.05):\n",
    "    \"\"\"\n",
    "    Performs the Benjamini-Hochberg procedure\n",
    "    for FDR control here, bruh! Returns a boolean\n",
    "    specifying which p-values to keep per the FDR \n",
    "    controlled at the specified threshold. \n",
    "    \n",
    "    Parameters\n",
    "    ----------\n",
    "    _pvals : np.ndarray, \n",
    "        The sorted list of uncorrected p-values\n",
    "    _alpha : float, \n",
    "        The alpha value \n",
    "    \n",
    "    Returns\n",
    "    -----------\n",
    "    keep_arr : list, \n",
    "        A boolean list specifying which p-values to\n",
    "        keep.\n",
    "    \"\"\"\n",
    "    _jstats = []\n",
    "\n",
    "    for i in range(0, len(_pvals)):\n",
    "        rank = i + 1\n",
    "        jstat = (rank * _alpha) / len(_pvals)\n",
    "        _jstats.append(jstat)\n",
    "\n",
    "    keep_arr = _jstats > _pvals\n",
    "    \n",
    "    return keep_arr\n",
    "\n",
    "def compare_distributions(_plotter, colA, colB):\n",
    "    \"\"\"\n",
    "    Compares two distributions of correlation coefficients \n",
    "    with a paired sample t-test.\n",
    "    \n",
    "    Parameters\n",
    "    ----------\n",
    "    _plotter : `pandas.DataFrame`, \n",
    "        The output/plotting dataframe containing arrays of\n",
    "        Spearman correlations for w/in complex and decoy\n",
    "        proteins. \n",
    "    colA, colB : str, \n",
    "        The names of the two columns in the plotter dataframe\n",
    "        to compare. \n",
    "    \n",
    "    Returns\n",
    "    ----------\n",
    "    pval : float, \n",
    "        The p-value. \n",
    "    \"\"\"\n",
    "    complex_dist = np.array(_plotter[colA])\n",
    "    decoy_dist = np.array(_plotter[colB])\n",
    "\n",
    "    nans = np.isnan(complex_dist) | np.isnan(decoy_dist)\n",
    "\n",
    "    complex_dist_pres = complex_dist[~nans]\n",
    "    decoy_dist_pres = decoy_dist[~nans]\n",
    "\n",
    "    tstat, pval = ttest_ind(complex_dist_pres, decoy_dist_pres)\n",
    "    return pval"
   ]
  },
  {
   "cell_type": "markdown",
   "id": "f31b38eb",
   "metadata": {},
   "source": [
    "#### Read in the CORUM database\n",
    "This comes from [here](https://mips.helmholtz-muenchen.de/corum/). I think the `subunits(Gene name)` column is what we want. These appear to be HGNC gene IDs."
   ]
  },
  {
   "cell_type": "code",
   "execution_count": 4,
   "id": "3ce6bb23",
   "metadata": {},
   "outputs": [],
   "source": [
    "corum = pd.read_csv(CORUM_df_path, sep=\"\\t\")\n",
    "#corum.head(2)"
   ]
  },
  {
   "cell_type": "markdown",
   "id": "7cae8fac",
   "metadata": {},
   "source": [
    "#### Read in the ensemble imputed Lupine quants\n",
    "And the associated metadata"
   ]
  },
  {
   "cell_type": "code",
   "execution_count": 5,
   "id": "4319b9ff",
   "metadata": {},
   "outputs": [],
   "source": [
    "lupine_recon = pd.read_csv(lupine_recon_path, index_col=0)\n",
    "meta = pd.read_csv(meta_path)"
   ]
  },
  {
   "cell_type": "markdown",
   "id": "d49908d2",
   "metadata": {},
   "source": [
    "#### Map Ensembl protein IDs to Ensembl gene IDs"
   ]
  },
  {
   "cell_type": "code",
   "execution_count": 6,
   "id": "6b6781f4",
   "metadata": {},
   "outputs": [],
   "source": [
    "# Read in the ENSEMBL fasta\n",
    "ensembl_fasta = ensembl_path + ensembl_df\n",
    "fasta_seqs = SeqIO.parse(open(ensembl_fasta), \"fasta\")\n",
    "\n",
    "# Init both dictionaries\n",
    "gene_x_prot = {}\n",
    "prot_x_gene = {}\n",
    "\n",
    "# Fill in the dictionary \n",
    "for fasta in fasta_seqs:\n",
    "    name, descript, sequence = \\\n",
    "        fasta.id, fasta.description, str(fasta.seq)\n",
    "    # Get the ENSP and ENSG IDs\n",
    "    ensp_id = name.split(\"|\")[0]\n",
    "    ensg_id = name.split(\"|\")[2]\n",
    "    # Strip the \".x\" characters. Hope this is ok.\n",
    "    ensp_id = ensp_id.split(\".\")[0]\n",
    "    ensg_id = ensg_id.split(\".\")[0]\n",
    "\n",
    "    # Update the first dictionary\n",
    "    prot_x_gene[ensp_id] = ensg_id\n",
    "\n",
    "    # Update the second\n",
    "    if ensg_id in gene_x_prot:\n",
    "        gene_x_prot[ensg_id].append(ensp_id)\n",
    "    else:\n",
    "        gene_x_prot[ensg_id] = [ensp_id]"
   ]
  },
  {
   "cell_type": "markdown",
   "id": "15e2037b",
   "metadata": {},
   "source": [
    "#### Init a dataframe to store gene/protein ID mappings"
   ]
  },
  {
   "cell_type": "code",
   "execution_count": 7,
   "id": "dbef356c",
   "metadata": {},
   "outputs": [
    {
     "name": "stderr",
     "output_type": "stream",
     "text": [
      "/tmp/ipykernel_2343445/1129614679.py:2: DtypeWarning: Columns (31,38) have mixed types. Specify dtype option on import or set low_memory=False.\n",
      "  hgnc_db = pd.read_csv(hgnc_database_path, sep=\"\\t\")\n"
     ]
    }
   ],
   "source": [
    "# Read in the HGNC database file\n",
    "hgnc_db = pd.read_csv(hgnc_database_path, sep=\"\\t\")\n",
    " \n",
    "gene_names_df = pd.DataFrame(columns=[\"ENSP\", \"ENSG\", \"HGNC\"])\n",
    "gene_names_df[\"ENSP\"] = lupine_recon.index"
   ]
  },
  {
   "cell_type": "markdown",
   "id": "2af9ce01",
   "metadata": {},
   "source": [
    "#### Map on the ENSGs and HGNC symbols"
   ]
  },
  {
   "cell_type": "code",
   "execution_count": 8,
   "id": "a0d5bef8",
   "metadata": {},
   "outputs": [],
   "source": [
    "# Map the ENSGs to the existing ENSPs\n",
    "for idx in range(0, gene_names_df.shape[0]):\n",
    "    curr_row = gene_names_df.iloc[idx]\n",
    "    curr_ensp = curr_row[\"ENSP\"]\n",
    "    \n",
    "    try:\n",
    "        curr_ensg = prot_x_gene[curr_ensp]\n",
    "    except KeyError:\n",
    "        curr_ensg = np.nan\n",
    "\n",
    "    gene_names_df.loc[idx, \"ENSG\"] = curr_ensg\n",
    "    #gene_names_df.iloc[idx][\"ENSG\"] = curr_ensg\n",
    "    \n",
    "    # Add in the HGNC gene ID as well \n",
    "    if curr_ensg is not None:\n",
    "        try:\n",
    "            hgnc_row = hgnc_db[hgnc_db[\"ensembl_gene_id\"] == curr_ensg]\n",
    "            hgnc_id = hgnc_row[\"symbol\"].item()\n",
    "\n",
    "            gene_names_df.loc[idx, \"HGNC\"] = hgnc_id\n",
    "            #gene_names_df.iloc[idx][\"HGNC\"] = hgnc_id\n",
    "            \n",
    "        except ValueError:\n",
    "            pass"
   ]
  },
  {
   "cell_type": "markdown",
   "id": "707e246c-0d63-412e-a66e-bd555102e83d",
   "metadata": {},
   "source": [
    "### Pre-process the unimputed joint quants matrix"
   ]
  },
  {
   "cell_type": "code",
   "execution_count": 9,
   "id": "43258fad-735a-4048-aaec-b33070ba89e7",
   "metadata": {},
   "outputs": [],
   "source": [
    "# Read in the joint quants matrix\n",
    "joint_mat = pd.read_csv(joint_fname, index_col=0)\n",
    "\n",
    "# Remove some of these extraneous runs\n",
    "keywords = [\"RefInt\", \"QC\", \"pool\", \"Tumor\", \"Pooled\", \n",
    "            \"Pool\", \"Reference\", \"NCI\", \"NX\", \"Ref\"]\n",
    "to_drop = []\n",
    "\n",
    "for sample_id in list(joint_mat.columns):\n",
    "    exclude=False\n",
    "    for kw in keywords:\n",
    "        if kw in sample_id:\n",
    "            exclude=True\n",
    "            break\n",
    "    to_drop.append(exclude)\n",
    "\n",
    "keep_cols = np.array(joint_mat.columns)[~np.array(to_drop)]\n",
    "joint_mat = joint_mat[keep_cols]\n",
    "\n",
    "joint = np.array(joint_mat)\n",
    "\n",
    "# Remove proteins with too many missing values\n",
    "num_present = np.sum(~np.isnan(joint), axis=1)\n",
    "discard = num_present < min_pres\n",
    "joint = np.delete(joint, discard, axis=0)\n",
    "keep_prots = np.array(joint_mat.index)[~discard]\n",
    "\n",
    "unimputed = pd.DataFrame(joint, index=lupine_recon.index, columns=lupine_recon.columns)"
   ]
  },
  {
   "cell_type": "markdown",
   "id": "532b5fb2",
   "metadata": {},
   "source": [
    "#### Replace the Lupine protein IDs with HGNC symbols"
   ]
  },
  {
   "cell_type": "code",
   "execution_count": 10,
   "id": "0a488a2a",
   "metadata": {
    "scrolled": true
   },
   "outputs": [
    {
     "name": "stderr",
     "output_type": "stream",
     "text": [
      "/tmp/ipykernel_2343445/2207167163.py:4: FutureWarning: The 'axis' keyword in DataFrame.groupby is deprecated and will be removed in a future version.\n",
      "  lupine_recon = lupine_recon.groupby(by=lupine_recon.index, axis=0).mean()\n",
      "/tmp/ipykernel_2343445/2207167163.py:5: FutureWarning: The 'axis' keyword in DataFrame.groupby is deprecated and will be removed in a future version.\n",
      "  unimputed = unimputed.groupby(by=unimputed.index, axis=0).mean()\n"
     ]
    },
    {
     "name": "stdout",
     "output_type": "stream",
     "text": [
      "(14297, 1755)\n",
      "(14297, 1755)\n"
     ]
    }
   ],
   "source": [
    "lupine_recon.index = gene_names_df[\"HGNC\"]\n",
    "unimputed.index = gene_names_df[\"HGNC\"]\n",
    "\n",
    "lupine_recon = lupine_recon.groupby(by=lupine_recon.index, axis=0).mean()\n",
    "unimputed = unimputed.groupby(by=unimputed.index, axis=0).mean()\n",
    "\n",
    "print(lupine_recon.shape)\n",
    "print(unimputed.shape)"
   ]
  },
  {
   "cell_type": "markdown",
   "id": "7ff2ec53",
   "metadata": {},
   "source": [
    "#### Subset the CORUM database to only complexes for which our joint quants matrix has all subunits"
   ]
  },
  {
   "cell_type": "code",
   "execution_count": 11,
   "id": "d7e6754e",
   "metadata": {},
   "outputs": [],
   "source": [
    "keep_complexes = []\n",
    "\n",
    "for i in range(0, corum.shape[0]):\n",
    "    curr = corum.iloc[i]\n",
    "    curr_subunits = curr[\"subunits(Gene name)\"]\n",
    "    curr_subunits = curr_subunits.split(\";\")\n",
    "    \n",
    "    keep = True\n",
    "    for pid in curr_subunits:\n",
    "        if pid not in list(lupine_recon.index):\n",
    "            keep = False\n",
    "            continue\n",
    "            \n",
    "    if keep:\n",
    "        keep_complexes.append(i)\n",
    "\n",
    "# Subset down\n",
    "corum_sub = corum.iloc[keep_complexes]\n",
    "corum_sub = corum_sub.reset_index(drop=True)"
   ]
  },
  {
   "cell_type": "markdown",
   "id": "7d6c9523",
   "metadata": {},
   "source": [
    "#### Generate a simplier df with protein complex and subunit metadata"
   ]
  },
  {
   "cell_type": "code",
   "execution_count": 12,
   "id": "3bee9baf",
   "metadata": {},
   "outputs": [],
   "source": [
    "colnames = [\"Complex\", \"Subunits\"]\n",
    "complex_meta = pd.DataFrame(columns=colnames)\n",
    "\n",
    "complex_meta[\"Complex\"] = corum_sub[\"ComplexName\"]\n",
    "complex_meta[\"Subunits\"] = corum_sub[\"subunits(Gene name)\"]\n",
    "\n",
    "# Remove complexes with only 1 subunit\n",
    "n_subunits = \\\n",
    "    np.array([len(x.split(\";\")) for x in complex_meta[\"Subunits\"]])\n",
    "complex_meta[n_subunits > 1]\n",
    "\n",
    "complex_meta = complex_meta.reset_index(drop=True)"
   ]
  },
  {
   "cell_type": "markdown",
   "id": "681b074a",
   "metadata": {},
   "source": [
    "#### Standardize the metadata `sample_type` labels"
   ]
  },
  {
   "cell_type": "code",
   "execution_count": 13,
   "id": "51070d9d",
   "metadata": {
    "scrolled": true
   },
   "outputs": [
    {
     "name": "stderr",
     "output_type": "stream",
     "text": [
      "/tmp/ipykernel_2343445/3322365204.py:4: FutureWarning: ChainedAssignmentError: behaviour will change in pandas 3.0!\n",
      "You are setting values through chained assignment. Currently this works in certain cases, but when using Copy-on-Write (which will become the default behaviour in pandas 3.0) this will never work to update the original DataFrame or Series, because the intermediate object on which we are setting values will behave as a copy.\n",
      "A typical example is when you are setting values in a column of a DataFrame, like:\n",
      "\n",
      "df[\"col\"][row_indexer] = value\n",
      "\n",
      "Use `df.loc[row_indexer, \"col\"] = values` instead, to perform the assignment in a single step and ensure this keeps updating the original `df`.\n",
      "\n",
      "See the caveats in the documentation: https://pandas.pydata.org/pandas-docs/stable/user_guide/indexing.html#returning-a-view-versus-a-copy\n",
      "\n",
      "  meta.iloc[i][\"sample_type\"] = \"Tumor\"\n",
      "/tmp/ipykernel_2343445/3322365204.py:6: FutureWarning: ChainedAssignmentError: behaviour will change in pandas 3.0!\n",
      "You are setting values through chained assignment. Currently this works in certain cases, but when using Copy-on-Write (which will become the default behaviour in pandas 3.0) this will never work to update the original DataFrame or Series, because the intermediate object on which we are setting values will behave as a copy.\n",
      "A typical example is when you are setting values in a column of a DataFrame, like:\n",
      "\n",
      "df[\"col\"][row_indexer] = value\n",
      "\n",
      "Use `df.loc[row_indexer, \"col\"] = values` instead, to perform the assignment in a single step and ensure this keeps updating the original `df`.\n",
      "\n",
      "See the caveats in the documentation: https://pandas.pydata.org/pandas-docs/stable/user_guide/indexing.html#returning-a-view-versus-a-copy\n",
      "\n",
      "  meta.iloc[i][\"sample_type\"] = \"Normal\"\n",
      "/tmp/ipykernel_2343445/3322365204.py:8: FutureWarning: ChainedAssignmentError: behaviour will change in pandas 3.0!\n",
      "You are setting values through chained assignment. Currently this works in certain cases, but when using Copy-on-Write (which will become the default behaviour in pandas 3.0) this will never work to update the original DataFrame or Series, because the intermediate object on which we are setting values will behave as a copy.\n",
      "A typical example is when you are setting values in a column of a DataFrame, like:\n",
      "\n",
      "df[\"col\"][row_indexer] = value\n",
      "\n",
      "Use `df.loc[row_indexer, \"col\"] = values` instead, to perform the assignment in a single step and ensure this keeps updating the original `df`.\n",
      "\n",
      "See the caveats in the documentation: https://pandas.pydata.org/pandas-docs/stable/user_guide/indexing.html#returning-a-view-versus-a-copy\n",
      "\n",
      "  meta.iloc[i][\"sample_type\"] = np.nan\n",
      "/tmp/ipykernel_2343445/3322365204.py:10: FutureWarning: ChainedAssignmentError: behaviour will change in pandas 3.0!\n",
      "You are setting values through chained assignment. Currently this works in certain cases, but when using Copy-on-Write (which will become the default behaviour in pandas 3.0) this will never work to update the original DataFrame or Series, because the intermediate object on which we are setting values will behave as a copy.\n",
      "A typical example is when you are setting values in a column of a DataFrame, like:\n",
      "\n",
      "df[\"col\"][row_indexer] = value\n",
      "\n",
      "Use `df.loc[row_indexer, \"col\"] = values` instead, to perform the assignment in a single step and ensure this keeps updating the original `df`.\n",
      "\n",
      "See the caveats in the documentation: https://pandas.pydata.org/pandas-docs/stable/user_guide/indexing.html#returning-a-view-versus-a-copy\n",
      "\n",
      "  meta.iloc[i][\"sample_type\"] = np.nan\n",
      "/tmp/ipykernel_2343445/3322365204.py:12: FutureWarning: ChainedAssignmentError: behaviour will change in pandas 3.0!\n",
      "You are setting values through chained assignment. Currently this works in certain cases, but when using Copy-on-Write (which will become the default behaviour in pandas 3.0) this will never work to update the original DataFrame or Series, because the intermediate object on which we are setting values will behave as a copy.\n",
      "A typical example is when you are setting values in a column of a DataFrame, like:\n",
      "\n",
      "df[\"col\"][row_indexer] = value\n",
      "\n",
      "Use `df.loc[row_indexer, \"col\"] = values` instead, to perform the assignment in a single step and ensure this keeps updating the original `df`.\n",
      "\n",
      "See the caveats in the documentation: https://pandas.pydata.org/pandas-docs/stable/user_guide/indexing.html#returning-a-view-versus-a-copy\n",
      "\n",
      "  meta.iloc[i][\"sample_type\"] = np.nan\n"
     ]
    }
   ],
   "source": [
    "for i in range(0, meta.shape[0]):\n",
    "    curr = meta.iloc[i]\n",
    "    if curr[\"sample_type\"] == \"Primary Tumor\":\n",
    "        meta.iloc[i][\"sample_type\"] = \"Tumor\"\n",
    "    elif curr[\"sample_type\"] == \"Solid Tissue Normal\":\n",
    "        meta.iloc[i][\"sample_type\"] = \"Normal\"\n",
    "    elif curr[\"sample_type\"] == \"Not Reported\":\n",
    "        meta.iloc[i][\"sample_type\"] = np.nan\n",
    "    elif curr[\"sample_type\"] == \"Unknown\":\n",
    "        meta.iloc[i][\"sample_type\"] = np.nan\n",
    "    elif curr[\"sample_type\"] == \"C\":\n",
    "        meta.iloc[i][\"sample_type\"] = np.nan"
   ]
  },
  {
   "cell_type": "markdown",
   "id": "541f711f",
   "metadata": {},
   "source": [
    "#### Within-complex Spearman correlations -- Lupine imputed"
   ]
  },
  {
   "cell_type": "code",
   "execution_count": 14,
   "id": "c0f0cf62",
   "metadata": {
    "scrolled": true
   },
   "outputs": [
    {
     "name": "stdout",
     "output_type": "stream",
     "text": [
      "working on: BRCA\n",
      "(9640, 125)\n"
     ]
    },
    {
     "name": "stderr",
     "output_type": "stream",
     "text": [
      "100%|██████████████████████████████| 2997/2997 [01:55<00:00, 26.06complex/s]\n"
     ]
    },
    {
     "name": "stdout",
     "output_type": "stream",
     "text": [
      "working on: CCRCC\n",
      "(8820, 110)\n"
     ]
    },
    {
     "name": "stderr",
     "output_type": "stream",
     "text": [
      "100%|██████████████████████████████| 2997/2997 [01:42<00:00, 29.20complex/s]\n"
     ]
    },
    {
     "name": "stdout",
     "output_type": "stream",
     "text": [
      "working on: COAD\n",
      "(6827, 97)\n"
     ]
    },
    {
     "name": "stderr",
     "output_type": "stream",
     "text": [
      "100%|██████████████████████████████| 2997/2997 [01:21<00:00, 36.74complex/s]\n"
     ]
    },
    {
     "name": "stdout",
     "output_type": "stream",
     "text": [
      "working on: GBM\n",
      "(10141, 100)\n"
     ]
    },
    {
     "name": "stderr",
     "output_type": "stream",
     "text": [
      "100%|██████████████████████████████| 2997/2997 [01:50<00:00, 27.17complex/s]\n"
     ]
    },
    {
     "name": "stdout",
     "output_type": "stream",
     "text": [
      "working on: HGSC\n",
      "(8222, 84)\n"
     ]
    },
    {
     "name": "stderr",
     "output_type": "stream",
     "text": [
      "100%|██████████████████████████████| 2997/2997 [01:37<00:00, 30.85complex/s]\n"
     ]
    },
    {
     "name": "stdout",
     "output_type": "stream",
     "text": [
      "working on: HNSCC\n",
      "(9262, 111)\n"
     ]
    },
    {
     "name": "stderr",
     "output_type": "stream",
     "text": [
      "100%|██████████████████████████████| 2997/2997 [01:48<00:00, 27.69complex/s]\n"
     ]
    },
    {
     "name": "stdout",
     "output_type": "stream",
     "text": [
      "working on: LSCC\n",
      "(10682, 110)\n"
     ]
    },
    {
     "name": "stderr",
     "output_type": "stream",
     "text": [
      "100%|██████████████████████████████| 2997/2997 [01:58<00:00, 25.27complex/s]\n"
     ]
    },
    {
     "name": "stdout",
     "output_type": "stream",
     "text": [
      "working on: LUAD\n",
      "(10115, 111)\n"
     ]
    },
    {
     "name": "stderr",
     "output_type": "stream",
     "text": [
      "100%|██████████████████████████████| 2997/2997 [01:55<00:00, 25.93complex/s]\n"
     ]
    },
    {
     "name": "stdout",
     "output_type": "stream",
     "text": [
      "working on: PDAC\n",
      "(8705, 146)\n"
     ]
    },
    {
     "name": "stderr",
     "output_type": "stream",
     "text": [
      "100%|██████████████████████████████| 2997/2997 [01:42<00:00, 29.25complex/s]\n"
     ]
    },
    {
     "name": "stdout",
     "output_type": "stream",
     "text": [
      "working on: UCEC\n",
      "(9629, 104)\n"
     ]
    },
    {
     "name": "stderr",
     "output_type": "stream",
     "text": [
      "100%|██████████████████████████████| 2997/2997 [01:53<00:00, 26.51complex/s]\n"
     ]
    }
   ],
   "source": [
    "cohort_corrs = {}\n",
    "\n",
    "for cohort in cohorts: \n",
    "    print(f\"working on: {cohort}\")\n",
    "\n",
    "    lupine_recon_cohort, _ = \\\n",
    "        get_single_cohort_quants(meta, cohort, lupine_recon)\n",
    "    unimputed_cohort, pres_fracs = \\\n",
    "        get_single_cohort_quants(meta, cohort, unimputed)\n",
    "\n",
    "    # Remove proteins with >50% initial missingness\n",
    "    lupine_recon_cohort = lupine_recon_cohort[pres_fracs >= pres_frac_thresh]\n",
    "    \n",
    "    spearmanr_cohort = []\n",
    "    print(lupine_recon_cohort.shape)\n",
    "\n",
    "    for i in tqdm(range(0, complex_meta.shape[0]), unit=\"complex\"):\n",
    "        curr = complex_meta.iloc[i]\n",
    "        subunits = curr[\"Subunits\"].split(\";\")\n",
    "        subunits_found = np.intersect1d(subunits, list(lupine_recon_cohort.index))\n",
    "        \n",
    "        if len(subunits_found) > 1:\n",
    "            subunit_quants = lupine_recon_cohort.loc[subunits_found]\n",
    "            corrs, pvals = run_spearman_correlations(subunit_quants)\n",
    "        else:\n",
    "            pvals = [np.nan]\n",
    "            corrs = [np.nan]\n",
    "            \n",
    "        pvals = np.array(pvals)\n",
    "        corrs = np.array(corrs)\n",
    "        \n",
    "        spearmanr_cohort.append(corrs)\n",
    "        \n",
    "    spearmanr_cohort = np.concatenate(spearmanr_cohort)\n",
    "    cohort_corrs[cohort] = spearmanr_cohort"
   ]
  },
  {
   "cell_type": "markdown",
   "id": "b5416065",
   "metadata": {},
   "source": [
    "#### Random protein correlations -- Lupine imputed"
   ]
  },
  {
   "cell_type": "code",
   "execution_count": 15,
   "id": "440a7c67",
   "metadata": {
    "scrolled": true
   },
   "outputs": [
    {
     "name": "stdout",
     "output_type": "stream",
     "text": [
      "working on: BRCA\n",
      "(9640, 125)\n"
     ]
    },
    {
     "name": "stderr",
     "output_type": "stream",
     "text": [
      "100%|██████████████████████████████| 2997/2997 [01:53<00:00, 26.52complex/s]\n"
     ]
    },
    {
     "name": "stdout",
     "output_type": "stream",
     "text": [
      "working on: CCRCC\n",
      "(8820, 110)\n"
     ]
    },
    {
     "name": "stderr",
     "output_type": "stream",
     "text": [
      "100%|██████████████████████████████| 2997/2997 [01:52<00:00, 26.58complex/s]\n"
     ]
    },
    {
     "name": "stdout",
     "output_type": "stream",
     "text": [
      "working on: COAD\n",
      "(6827, 97)\n"
     ]
    },
    {
     "name": "stderr",
     "output_type": "stream",
     "text": [
      "100%|██████████████████████████████| 2997/2997 [01:52<00:00, 26.66complex/s]\n"
     ]
    },
    {
     "name": "stdout",
     "output_type": "stream",
     "text": [
      "working on: GBM\n",
      "(10141, 100)\n"
     ]
    },
    {
     "name": "stderr",
     "output_type": "stream",
     "text": [
      "100%|██████████████████████████████| 2997/2997 [01:51<00:00, 26.79complex/s]\n"
     ]
    },
    {
     "name": "stdout",
     "output_type": "stream",
     "text": [
      "working on: HGSC\n",
      "(8222, 84)\n"
     ]
    },
    {
     "name": "stderr",
     "output_type": "stream",
     "text": [
      "100%|██████████████████████████████| 2997/2997 [01:50<00:00, 27.12complex/s]\n"
     ]
    },
    {
     "name": "stdout",
     "output_type": "stream",
     "text": [
      "working on: HNSCC\n",
      "(9262, 111)\n"
     ]
    },
    {
     "name": "stderr",
     "output_type": "stream",
     "text": [
      "100%|██████████████████████████████| 2997/2997 [01:50<00:00, 27.08complex/s]\n"
     ]
    },
    {
     "name": "stdout",
     "output_type": "stream",
     "text": [
      "working on: LSCC\n",
      "(10682, 110)\n"
     ]
    },
    {
     "name": "stderr",
     "output_type": "stream",
     "text": [
      "100%|██████████████████████████████| 2997/2997 [01:52<00:00, 26.73complex/s]\n"
     ]
    },
    {
     "name": "stdout",
     "output_type": "stream",
     "text": [
      "working on: LUAD\n",
      "(10115, 111)\n"
     ]
    },
    {
     "name": "stderr",
     "output_type": "stream",
     "text": [
      "100%|██████████████████████████████| 2997/2997 [01:50<00:00, 27.14complex/s]\n"
     ]
    },
    {
     "name": "stdout",
     "output_type": "stream",
     "text": [
      "working on: PDAC\n",
      "(8705, 146)\n"
     ]
    },
    {
     "name": "stderr",
     "output_type": "stream",
     "text": [
      "100%|██████████████████████████████| 2997/2997 [01:51<00:00, 26.83complex/s]\n"
     ]
    },
    {
     "name": "stdout",
     "output_type": "stream",
     "text": [
      "working on: UCEC\n",
      "(9629, 104)\n"
     ]
    },
    {
     "name": "stderr",
     "output_type": "stream",
     "text": [
      "100%|██████████████████████████████| 2997/2997 [01:50<00:00, 27.19complex/s]\n"
     ]
    }
   ],
   "source": [
    "cohort_decoy_corrs = {}\n",
    "\n",
    "for cohort in cohorts: \n",
    "    print(f\"working on: {cohort}\")\n",
    "\n",
    "    lupine_recon_cohort, _ = get_single_cohort_quants(meta, cohort, lupine_recon)\n",
    "    unimputed_cohort, pres_fracs = get_single_cohort_quants(meta, cohort, unimputed)\n",
    "    \n",
    "    # Remove proteins with >50% initial missingness\n",
    "    lupine_recon_cohort = lupine_recon_cohort[pres_fracs >= pres_frac_thresh]\n",
    "\n",
    "    spearmanr_cohort_decoy = []\n",
    "    print(lupine_recon_cohort.shape)\n",
    "\n",
    "    for i in tqdm(range(0, complex_meta.shape[0]), unit=\"complex\"):\n",
    "        curr = complex_meta.iloc[i]\n",
    "        subunits = curr[\"Subunits\"].split(\";\")\n",
    "        n_subunits = len(subunits)\n",
    "\n",
    "        idxs = rng.integers(\n",
    "                    low=0, \n",
    "                    high=lupine_recon_cohort.shape[0], \n",
    "                    size=n_subunits,\n",
    "        )\n",
    "        subunit_quants = lupine_recon_cohort.iloc[idxs]\n",
    "        corrs, pvals = run_spearman_correlations(subunit_quants)\n",
    "\n",
    "        pvals = np.array(pvals)\n",
    "        corrs = np.array(corrs)\n",
    "\n",
    "        spearmanr_cohort_decoy.append(corrs)\n",
    "        \n",
    "    spearmanr_cohort_decoy = np.concatenate(spearmanr_cohort_decoy)\n",
    "    cohort_decoy_corrs[cohort] = spearmanr_cohort_decoy"
   ]
  },
  {
   "cell_type": "markdown",
   "id": "dd2bdecd-c51f-4ef1-9d1a-39d0ba1f60b3",
   "metadata": {},
   "source": [
    "#### Within complex correlations -- unimputed"
   ]
  },
  {
   "cell_type": "code",
   "execution_count": 16,
   "id": "51945fec-7d2c-4e82-84cf-52efc88cd1f4",
   "metadata": {},
   "outputs": [
    {
     "name": "stdout",
     "output_type": "stream",
     "text": [
      "working on: BRCA\n",
      "(9640, 125)\n"
     ]
    },
    {
     "name": "stderr",
     "output_type": "stream",
     "text": [
      "100%|██████████████████████████████| 2997/2997 [01:52<00:00, 26.71complex/s]\n"
     ]
    },
    {
     "name": "stdout",
     "output_type": "stream",
     "text": [
      "working on: CCRCC\n",
      "(8820, 110)\n"
     ]
    },
    {
     "name": "stderr",
     "output_type": "stream",
     "text": [
      "100%|██████████████████████████████| 2997/2997 [01:52<00:00, 26.61complex/s]\n"
     ]
    },
    {
     "name": "stdout",
     "output_type": "stream",
     "text": [
      "working on: COAD\n",
      "(6827, 97)\n"
     ]
    },
    {
     "name": "stderr",
     "output_type": "stream",
     "text": [
      "100%|██████████████████████████████| 2997/2997 [01:52<00:00, 26.70complex/s]\n"
     ]
    },
    {
     "name": "stdout",
     "output_type": "stream",
     "text": [
      "working on: GBM\n",
      "(10141, 100)\n"
     ]
    },
    {
     "name": "stderr",
     "output_type": "stream",
     "text": [
      "100%|██████████████████████████████| 2997/2997 [01:52<00:00, 26.69complex/s]\n"
     ]
    },
    {
     "name": "stdout",
     "output_type": "stream",
     "text": [
      "working on: HGSC\n",
      "(8222, 84)\n"
     ]
    },
    {
     "name": "stderr",
     "output_type": "stream",
     "text": [
      "100%|██████████████████████████████| 2997/2997 [01:52<00:00, 26.67complex/s]\n"
     ]
    },
    {
     "name": "stdout",
     "output_type": "stream",
     "text": [
      "working on: HNSCC\n",
      "(9262, 111)\n"
     ]
    },
    {
     "name": "stderr",
     "output_type": "stream",
     "text": [
      "100%|██████████████████████████████| 2997/2997 [01:52<00:00, 26.68complex/s]\n"
     ]
    },
    {
     "name": "stdout",
     "output_type": "stream",
     "text": [
      "working on: LSCC\n",
      "(10682, 110)\n"
     ]
    },
    {
     "name": "stderr",
     "output_type": "stream",
     "text": [
      "100%|██████████████████████████████| 2997/2997 [01:52<00:00, 26.68complex/s]\n"
     ]
    },
    {
     "name": "stdout",
     "output_type": "stream",
     "text": [
      "working on: LUAD\n",
      "(10115, 111)\n"
     ]
    },
    {
     "name": "stderr",
     "output_type": "stream",
     "text": [
      "100%|██████████████████████████████| 2997/2997 [01:52<00:00, 26.70complex/s]\n"
     ]
    },
    {
     "name": "stdout",
     "output_type": "stream",
     "text": [
      "working on: PDAC\n",
      "(8705, 146)\n"
     ]
    },
    {
     "name": "stderr",
     "output_type": "stream",
     "text": [
      "100%|██████████████████████████████| 2997/2997 [01:52<00:00, 26.66complex/s]\n"
     ]
    },
    {
     "name": "stdout",
     "output_type": "stream",
     "text": [
      "working on: UCEC\n",
      "(9629, 104)\n"
     ]
    },
    {
     "name": "stderr",
     "output_type": "stream",
     "text": [
      "100%|██████████████████████████████| 2997/2997 [01:52<00:00, 26.67complex/s]\n"
     ]
    }
   ],
   "source": [
    "cohort_corrs_unimputed = {}\n",
    "\n",
    "for cohort in cohorts: \n",
    "    print(f\"working on: {cohort}\")\n",
    "\n",
    "    unimputed_cohort, pres_fracs = \\\n",
    "        get_single_cohort_quants(meta, cohort, unimputed)\n",
    "\n",
    "    # Remove proteins with >50% initial missingness\n",
    "    unimputed_cohort = unimputed_cohort[pres_fracs >= pres_frac_thresh]\n",
    "\n",
    "    spearmanr_cohort = []\n",
    "    print(unimputed_cohort.shape)\n",
    "\n",
    "    for i in tqdm(range(0, complex_meta.shape[0]), unit=\"complex\"):\n",
    "        curr = complex_meta.iloc[i]\n",
    "        subunits = curr[\"Subunits\"].split(\";\")\n",
    "\n",
    "        subunits_found = np.intersect1d(subunits, list(lupine_recon_cohort.index))\n",
    "        if len(subunits_found) > 1:\n",
    "            subunit_quants = lupine_recon_cohort.loc[subunits_found]\n",
    "            corrs, pvals = run_spearman_correlations(subunit_quants)\n",
    "        else:\n",
    "            pvals = [np.nan]\n",
    "            corrs = [np.nan]\n",
    "\n",
    "        pvals = np.array(pvals)\n",
    "        corrs = np.array(corrs)\n",
    "        \n",
    "        spearmanr_cohort.append(corrs)\n",
    "        \n",
    "    spearmanr_cohort = np.concatenate(spearmanr_cohort)\n",
    "    cohort_corrs_unimputed[cohort] = spearmanr_cohort"
   ]
  },
  {
   "cell_type": "markdown",
   "id": "a68ae503-d0ad-41d9-90db-2837b00555fe",
   "metadata": {},
   "source": [
    "#### Non-complex protein correlations -- unimputed"
   ]
  },
  {
   "cell_type": "code",
   "execution_count": 17,
   "id": "5fc21d1e-85d8-4fde-bdff-0c518952f92b",
   "metadata": {
    "scrolled": true
   },
   "outputs": [
    {
     "name": "stdout",
     "output_type": "stream",
     "text": [
      "working on: BRCA\n",
      "(9640, 125)\n"
     ]
    },
    {
     "name": "stderr",
     "output_type": "stream",
     "text": [
      "100%|██████████████████████████████| 2997/2997 [01:56<00:00, 25.65complex/s]\n"
     ]
    },
    {
     "name": "stdout",
     "output_type": "stream",
     "text": [
      "working on: CCRCC\n",
      "(8820, 110)\n"
     ]
    },
    {
     "name": "stderr",
     "output_type": "stream",
     "text": [
      "100%|██████████████████████████████| 2997/2997 [01:57<00:00, 25.57complex/s]\n"
     ]
    },
    {
     "name": "stdout",
     "output_type": "stream",
     "text": [
      "working on: COAD\n",
      "(6827, 97)\n"
     ]
    },
    {
     "name": "stderr",
     "output_type": "stream",
     "text": [
      "100%|██████████████████████████████| 2997/2997 [01:58<00:00, 25.32complex/s]\n"
     ]
    },
    {
     "name": "stdout",
     "output_type": "stream",
     "text": [
      "working on: GBM\n",
      "(10141, 100)\n"
     ]
    },
    {
     "name": "stderr",
     "output_type": "stream",
     "text": [
      "100%|██████████████████████████████| 2997/2997 [01:56<00:00, 25.82complex/s]\n"
     ]
    },
    {
     "name": "stdout",
     "output_type": "stream",
     "text": [
      "working on: HGSC\n",
      "(8222, 84)\n"
     ]
    },
    {
     "name": "stderr",
     "output_type": "stream",
     "text": [
      "100%|██████████████████████████████| 2997/2997 [01:56<00:00, 25.81complex/s]\n"
     ]
    },
    {
     "name": "stdout",
     "output_type": "stream",
     "text": [
      "working on: HNSCC\n",
      "(9262, 111)\n"
     ]
    },
    {
     "name": "stderr",
     "output_type": "stream",
     "text": [
      "100%|██████████████████████████████| 2997/2997 [01:56<00:00, 25.70complex/s]\n"
     ]
    },
    {
     "name": "stdout",
     "output_type": "stream",
     "text": [
      "working on: LSCC\n",
      "(10682, 110)\n"
     ]
    },
    {
     "name": "stderr",
     "output_type": "stream",
     "text": [
      "100%|██████████████████████████████| 2997/2997 [01:56<00:00, 25.65complex/s]\n"
     ]
    },
    {
     "name": "stdout",
     "output_type": "stream",
     "text": [
      "working on: LUAD\n",
      "(10115, 111)\n"
     ]
    },
    {
     "name": "stderr",
     "output_type": "stream",
     "text": [
      "100%|██████████████████████████████| 2997/2997 [01:56<00:00, 25.71complex/s]\n"
     ]
    },
    {
     "name": "stdout",
     "output_type": "stream",
     "text": [
      "working on: PDAC\n",
      "(8705, 146)\n"
     ]
    },
    {
     "name": "stderr",
     "output_type": "stream",
     "text": [
      "100%|██████████████████████████████| 2997/2997 [01:59<00:00, 25.14complex/s]\n"
     ]
    },
    {
     "name": "stdout",
     "output_type": "stream",
     "text": [
      "working on: UCEC\n",
      "(9629, 104)\n"
     ]
    },
    {
     "name": "stderr",
     "output_type": "stream",
     "text": [
      "100%|██████████████████████████████| 2997/2997 [01:57<00:00, 25.45complex/s]\n"
     ]
    }
   ],
   "source": [
    "cohort_decoy_corrs_unimputed = {}\n",
    "\n",
    "for cohort in cohorts: \n",
    "    print(f\"working on: {cohort}\")\n",
    "\n",
    "    unimputed_cohort, pres_fracs = get_single_cohort_quants(meta, cohort, unimputed)\n",
    "    spearmanr_cohort_decoy = []\n",
    "\n",
    "    # Remove proteins with >50% initial missingness\n",
    "    unimputed_cohort = unimputed_cohort[pres_fracs >= pres_frac_thresh]\n",
    "    print(unimputed_cohort.shape)\n",
    "\n",
    "    for i in tqdm(range(0, complex_meta.shape[0]), unit=\"complex\"):\n",
    "        curr = complex_meta.iloc[i]\n",
    "        subunits = curr[\"Subunits\"].split(\";\")\n",
    "        n_subunits = len(subunits)\n",
    "\n",
    "        idxs = rng.integers(\n",
    "                    low=0, \n",
    "                    high=unimputed_cohort.shape[0], \n",
    "                    size=n_subunits,\n",
    "        )\n",
    "        subunit_quants = unimputed_cohort.iloc[idxs]\n",
    "        try:\n",
    "            corrs, pvals = run_spearman_correlations(subunit_quants)\n",
    "        except ValueError:\n",
    "            corrs = [np.nan]\n",
    "            pvals = [np.nan]\n",
    "\n",
    "        pvals = np.array(pvals)\n",
    "        corrs = np.array(corrs)\n",
    "\n",
    "        spearmanr_cohort_decoy.append(corrs)\n",
    "        \n",
    "    spearmanr_cohort_decoy = np.concatenate(spearmanr_cohort_decoy)\n",
    "    cohort_decoy_corrs_unimputed[cohort] = spearmanr_cohort_decoy"
   ]
  },
  {
   "cell_type": "markdown",
   "id": "245551b0",
   "metadata": {},
   "source": [
    "#### Standardize the lengths of the vectors\n",
    "These are different because we're using a significance threshold to determine which \n",
    "pvals to keep. There's no guarentee that the same number of comparisons will pass the significance threshold every time. "
   ]
  },
  {
   "cell_type": "code",
   "execution_count": 18,
   "id": "e4ba8304",
   "metadata": {},
   "outputs": [],
   "source": [
    "lens1 = [len(x) for x in cohort_corrs.values()]\n",
    "lens2 = [len(x) for x in cohort_decoy_corrs.values()]\n",
    "lens3 = [len(x) for x in cohort_corrs_unimputed.values()]\n",
    "lens4 = [len(x) for x in cohort_decoy_corrs_unimputed.values()]\n",
    "max_len = np.max([lens1, lens2, lens3, lens4])\n",
    "\n",
    "# Add padding for the protein complex correlations\n",
    "for key in cohort_corrs.keys():\n",
    "    vec = cohort_corrs[key]\n",
    "    toadd = max_len - len(vec)\n",
    "    pad = np.zeros(toadd)\n",
    "    pad[:] = np.nan\n",
    "    new_vec = np.concatenate([vec, pad])\n",
    "    cohort_corrs[key] = new_vec\n",
    "\n",
    "# Add padding for the decoy protein correlations \n",
    "for key in cohort_decoy_corrs.keys():\n",
    "    vec = cohort_decoy_corrs[key]\n",
    "    toadd = max_len - len(vec)\n",
    "    pad = np.zeros(toadd)\n",
    "    pad[:] = np.nan\n",
    "    new_vec = np.concatenate([vec, pad])\n",
    "    cohort_decoy_corrs[key] = new_vec\n",
    "\n",
    "# And for the unimputed complex correlations \n",
    "for key in cohort_corrs_unimputed.keys():\n",
    "    vec = cohort_corrs_unimputed[key]\n",
    "    toadd = max_len - len(vec)\n",
    "    pad = np.zeros(toadd)\n",
    "    pad[:] = np.nan\n",
    "    new_vec = np.concatenate([vec, pad])\n",
    "    cohort_corrs_unimputed[key] = new_vec\n",
    "\n",
    "# Finally, for the unimputed decoy protein correlations \n",
    "for key in cohort_decoy_corrs_unimputed.keys():\n",
    "    vec = cohort_decoy_corrs_unimputed[key]\n",
    "    toadd = max_len - len(vec)\n",
    "    pad = np.zeros(toadd)\n",
    "    pad[:] = np.nan\n",
    "    new_vec = np.concatenate([vec, pad])\n",
    "    cohort_decoy_corrs_unimputed[key] = new_vec"
   ]
  },
  {
   "cell_type": "markdown",
   "id": "a6a346ce",
   "metadata": {},
   "source": [
    "#### Generate a dataframe for plotting\n",
    "Lol this could be better. "
   ]
  },
  {
   "cell_type": "code",
   "execution_count": 19,
   "id": "7b96e926",
   "metadata": {},
   "outputs": [],
   "source": [
    "cols=[\"BRCA_complex_lupine\", \"BRCA_complex_unimputed\", \"BRCA_random_lupine\", \"BRCA_random_unimputed\",\n",
    "      \"CCRCC_complex_lupine\", \"CCRCC_complex_unimputed\", \"CCRCC_random_lupine\", \"CCRCC_random_unimputed\",\n",
    "      \"COAD_complex_lupine\",\"COAD_complex_unimputed\", \"COAD_random_lupine\", \"COAD_random_unimputed\",\n",
    "      \"GBM_complex_lupine\", \"GBM_complex_unimputed\", \"GBM_random_lupine\", \"GBM_random_unimputed\",\n",
    "      \"HGSC_complex_lupine\", \"HGSC_complex_unimputed\", \"HGSC_random_lupine\", \"HGSC_random_unimputed\",\n",
    "      \"HNSCC_complex_lupine\", \"HNSCC_complex_unimputed\", \"HNSCC_random_lupine\", \"HNSCC_random_unimputed\",\n",
    "      \"LSCC_complex_lupine\", \"LSCC_complex_unimputed\",  \"LSCC_random_lupine\", \"LSCC_random_unimputed\",\n",
    "      \"LUAD_complex_lupine\", \"LUAD_complex_unimputed\", \"LUAD_random_lupine\", \"LUAD_random_unimputed\",\n",
    "      \"PDAC_complex_lupine\", \"PDAC_complex_unimputed\", \"PDAC_random_lupine\", \"PDAC_random_unimputed\",\n",
    "      \"UCEC_complex_lupine\", \"UCEC_complex_unimputed\", \"UCEC_random_lupine\", \"UCEC_random_unimputed\",\n",
    "]\n",
    "plotter = pd.DataFrame(columns=cols)\n",
    "\n",
    "plotter[\"BRCA_complex_lupine\"] = cohort_corrs[\"BRCA\"]\n",
    "plotter[\"BRCA_complex_unimputed\"] = cohort_corrs_unimputed[\"BRCA\"]\n",
    "plotter[\"BRCA_random_lupine\"] = cohort_decoy_corrs[\"BRCA\"]\n",
    "plotter[\"BRCA_random_unimputed\"] = cohort_decoy_corrs_unimputed[\"BRCA\"]\n",
    "\n",
    "plotter[\"CCRCC_complex_lupine\"] = cohort_corrs[\"CCRCC\"]\n",
    "plotter[\"CCRCC_complex_unimputed\"] = cohort_corrs_unimputed[\"CCRCC\"]\n",
    "plotter[\"CCRCC_random_lupine\"] = cohort_decoy_corrs[\"CCRCC\"]\n",
    "plotter[\"CCRCC_random_unimputed\"] = cohort_decoy_corrs_unimputed[\"CCRCC\"]\n",
    "\n",
    "plotter[\"COAD_complex_lupine\"] = cohort_corrs[\"COAD\"]\n",
    "plotter[\"COAD_complex_unimputed\"] = cohort_corrs_unimputed[\"COAD\"]\n",
    "plotter[\"COAD_random_lupine\"] = cohort_decoy_corrs[\"COAD\"]\n",
    "plotter[\"COAD_random_unimputed\"] = cohort_decoy_corrs_unimputed[\"COAD\"]\n",
    "\n",
    "plotter[\"GBM_complex_lupine\"] = cohort_corrs[\"GBM\"]\n",
    "plotter[\"GBM_complex_unimputed\"] = cohort_corrs_unimputed[\"GBM\"]\n",
    "plotter[\"GBM_random_lupine\"] = cohort_decoy_corrs[\"GBM\"]\n",
    "plotter[\"GBM_random_unimputed\"] = cohort_decoy_corrs_unimputed[\"GBM\"]\n",
    "\n",
    "plotter[\"HGSC_complex_lupine\"] = cohort_corrs[\"HGSC\"]\n",
    "plotter[\"HGSC_complex_unimputed\"] = cohort_corrs_unimputed[\"HGSC\"]\n",
    "plotter[\"HGSC_random_lupine\"] = cohort_decoy_corrs[\"HGSC\"]\n",
    "plotter[\"HGSC_random_unimputed\"] = cohort_decoy_corrs_unimputed[\"HGSC\"]\n",
    "\n",
    "plotter[\"HNSCC_complex_lupine\"] = cohort_corrs[\"HNSCC\"]\n",
    "plotter[\"HNSCC_complex_unimputed\"] = cohort_corrs_unimputed[\"HNSCC\"]\n",
    "plotter[\"HNSCC_random_lupine\"] = cohort_decoy_corrs[\"HNSCC\"]\n",
    "plotter[\"HNSCC_random_unimputed\"] = cohort_decoy_corrs_unimputed[\"HNSCC\"]\n",
    "\n",
    "plotter[\"LSCC_complex_lupine\"] = cohort_corrs[\"LSCC\"]\n",
    "plotter[\"LSCC_complex_unimputed\"] = cohort_corrs_unimputed[\"LSCC\"]\n",
    "plotter[\"LSCC_random_lupine\"] = cohort_decoy_corrs[\"LSCC\"]\n",
    "plotter[\"LSCC_random_unimputed\"] = cohort_decoy_corrs_unimputed[\"LSCC\"]\n",
    "\n",
    "plotter[\"LUAD_complex_lupine\"] = cohort_corrs[\"LUAD\"]\n",
    "plotter[\"LUAD_complex_unimputed\"] = cohort_corrs_unimputed[\"LUAD\"]\n",
    "plotter[\"LUAD_random_lupine\"] = cohort_decoy_corrs[\"LUAD\"]\n",
    "plotter[\"LUAD_random_unimputed\"] = cohort_decoy_corrs_unimputed[\"LUAD\"]\n",
    "\n",
    "plotter[\"PDAC_complex_lupine\"] = cohort_corrs[\"PDAC\"]\n",
    "plotter[\"PDAC_complex_unimputed\"] = cohort_corrs_unimputed[\"PDAC\"]\n",
    "plotter[\"PDAC_random_lupine\"] = cohort_decoy_corrs[\"PDAC\"]\n",
    "plotter[\"PDAC_random_unimputed\"] = cohort_decoy_corrs_unimputed[\"PDAC\"]\n",
    "\n",
    "plotter[\"UCEC_complex_lupine\"] = cohort_corrs[\"UCEC\"]\n",
    "plotter[\"UCEC_complex_unimputed\"] = cohort_corrs_unimputed[\"UCEC\"]\n",
    "plotter[\"UCEC_random_lupine\"] = cohort_decoy_corrs[\"UCEC\"]\n",
    "plotter[\"UCEC_random_unimputed\"] = cohort_decoy_corrs_unimputed[\"UCEC\"]"
   ]
  },
  {
   "cell_type": "markdown",
   "id": "5f05169f",
   "metadata": {},
   "source": [
    "#### Do some wrangling"
   ]
  },
  {
   "cell_type": "code",
   "execution_count": 20,
   "id": "0b251b7d",
   "metadata": {},
   "outputs": [],
   "source": [
    "plotter_melt = plotter.melt()\n",
    "\n",
    "cohort = [x.split(\"_\")[0] for x in plotter_melt[\"variable\"]]\n",
    "condition = [x.split(\"_\")[1] for x in plotter_melt[\"variable\"]]\n",
    "method = [x.split(\"_\")[2] for x in plotter_melt[\"variable\"]]\n",
    "\n",
    "plotter_melt[\"cohort\"] = cohort\n",
    "plotter_melt[\"condition\"] = condition\n",
    "plotter_melt[\"method\"] = method\n",
    "\n",
    "plotter_melt = plotter_melt.rename(columns={\"value\":\"corr\"})\n",
    "plotter_melt = plotter_melt.drop(columns=[\"variable\"])\n",
    "\n",
    "joint_strs = plotter_melt[\"condition\"] + \"_\" + plotter_melt[\"method\"]\n",
    "plotter_melt[\"joint_vars\"] = joint_strs"
   ]
  },
  {
   "cell_type": "markdown",
   "id": "ebba0167-527e-4d0a-bc5a-4c917005a18a",
   "metadata": {},
   "source": [
    "#### Can I come up with a better legend labeling scheme? "
   ]
  },
  {
   "cell_type": "code",
   "execution_count": 21,
   "id": "86d6ba56-9c13-455f-9349-5520a46ed124",
   "metadata": {
    "scrolled": true
   },
   "outputs": [],
   "source": [
    "sub0 = plotter_melt[plotter_melt[\"joint_vars\"] == \"complex_lupine\"]\n",
    "sub0_idx = np.array(sub0.index)\n",
    "plotter_melt.loc[sub0_idx, \"label\"] = \"Lupine Complex\"\n",
    "\n",
    "sub1 = plotter_melt[plotter_melt[\"joint_vars\"] == \"random_lupine\"]\n",
    "sub1_idx = np.array(sub1.index)\n",
    "plotter_melt.loc[sub1_idx, \"label\"] = \"Lupine Random\"\n",
    "\n",
    "sub2 = plotter_melt[plotter_melt[\"joint_vars\"] == \"complex_unimputed\"]\n",
    "sub2_idx = np.array(sub2.index)\n",
    "plotter_melt.loc[sub2_idx, \"label\"] = \"Unimputed Complex\"\n",
    "\n",
    "sub3 = plotter_melt[plotter_melt[\"joint_vars\"] == \"random_unimputed\"]\n",
    "sub3_idx = np.array(sub3.index)\n",
    "plotter_melt.loc[sub3_idx, \"label\"] = \"Unimputed Random\""
   ]
  },
  {
   "cell_type": "markdown",
   "id": "6d6df7cc",
   "metadata": {},
   "source": [
    "#### Generate grouped box plot"
   ]
  },
  {
   "cell_type": "code",
   "execution_count": 22,
   "id": "61c120e2-bbc3-47a9-98ba-d8cb1bfecbe3",
   "metadata": {},
   "outputs": [],
   "source": [
    "pal = [\"#1f77b4\", \"#ff7f0e\", \"#2ca02c\", \"#9467bd\"]"
   ]
  },
  {
   "cell_type": "code",
   "execution_count": 23,
   "id": "18541f48",
   "metadata": {},
   "outputs": [
    {
     "data": {
      "image/png": "[encoded data removed]",
      "text/plain": [
       "<Figure size 1200x600 with 1 Axes>"
      ]
     },
     "metadata": {},
     "output_type": "display_data"
    }
   ],
   "source": [
    "plt.figure(figsize=(12,6))\n",
    "\n",
    "ax = sns.boxplot(\n",
    "        data=plotter_melt, \n",
    "        x=\"cohort\", \n",
    "        y=\"corr\", \n",
    "        hue=\"label\", \n",
    "        palette=pal,\n",
    "        saturation=1.0,\n",
    "        fliersize=0,\n",
    ")\n",
    "ax.set_xlabel(\"\")\n",
    "ax.set_ylabel(\"Spearman Correlation\", labelpad=10, size=22)\n",
    "ax.legend(title=\"\", edgecolor=\"k\", prop={'size': 14}, bbox_to_anchor=(1.01, 1.01))\n",
    "ax.tick_params(axis='x', labelrotation=90)\n",
    "\n",
    "plt.show()\n",
    "#plt.savefig(\"../figures/protein-complex-correlations-v2.pdf\", bbox_inches=\"tight\")"
   ]
  },
  {
   "cell_type": "markdown",
   "id": "76b62e17",
   "metadata": {},
   "source": [
    "#### Get p-values for each pair of Lupine imputed complex/decoy proteins"
   ]
  },
  {
   "cell_type": "code",
   "execution_count": 24,
   "id": "da09f292",
   "metadata": {
    "scrolled": true
   },
   "outputs": [
    {
     "name": "stdout",
     "output_type": "stream",
     "text": [
      "0.0\n",
      "0.0\n",
      "0.0\n",
      "0.0\n",
      "0.0\n",
      "0.0\n",
      "0.0\n",
      "0.0\n",
      "0.0\n",
      "0.0\n"
     ]
    }
   ],
   "source": [
    "brca_pval = compare_distributions(plotter, \"BRCA_complex_lupine\", \"BRCA_random_lupine\")\n",
    "ccrcc_pval = compare_distributions(plotter, \"CCRCC_complex_lupine\", \"CCRCC_random_lupine\")\n",
    "coad_pval = compare_distributions(plotter, \"COAD_complex_lupine\", \"COAD_random_lupine\")\n",
    "gbm_pval = compare_distributions(plotter, \"GBM_complex_lupine\", \"GBM_random_lupine\")\n",
    "hgsc_pval = compare_distributions(plotter, \"HGSC_complex_lupine\", \"HGSC_random_lupine\")\n",
    "hnscc_pval = compare_distributions(plotter, \"HNSCC_complex_lupine\", \"HNSCC_random_lupine\")\n",
    "lscc_pval = compare_distributions(plotter, \"LSCC_complex_lupine\", \"LSCC_random_lupine\")\n",
    "luad_pval = compare_distributions(plotter, \"LUAD_complex_lupine\", \"LUAD_random_lupine\")\n",
    "pdac_pval = compare_distributions(plotter, \"PDAC_complex_lupine\", \"PDAC_random_lupine\")\n",
    "ucec_pval = compare_distributions(plotter, \"UCEC_complex_lupine\", \"UCEC_random_lupine\")\n",
    "\n",
    "pvals_list = [brca_pval, ccrcc_pval, coad_pval, gbm_pval, hgsc_pval, \n",
    "              hnscc_pval, lscc_pval, luad_pval, pdac_pval, ucec_pval]\n",
    "\n",
    "print(brca_pval)\n",
    "print(ccrcc_pval)\n",
    "print(coad_pval)\n",
    "print(gbm_pval)\n",
    "print(hgsc_pval)\n",
    "print(hnscc_pval)\n",
    "print(lscc_pval)\n",
    "print(luad_pval)\n",
    "print(pdac_pval)\n",
    "print(ucec_pval)"
   ]
  },
  {
   "cell_type": "markdown",
   "id": "264eed03-0f13-45de-b61b-a6c8b3da7cab",
   "metadata": {},
   "source": [
    "#### Get the means and standard deviations (Lupine imputed)"
   ]
  },
  {
   "cell_type": "code",
   "execution_count": 25,
   "id": "cc076db0-29d4-4f03-a927-4447dc001dc7",
   "metadata": {},
   "outputs": [
    {
     "name": "stdout",
     "output_type": "stream",
     "text": [
      "0.2695146758955576\n",
      "0.002796947264643108\n"
     ]
    }
   ],
   "source": [
    "complex_cols = [\"BRCA_complex_lupine\", \"CCRCC_complex_lupine\", \"COAD_complex_lupine\", \n",
    "                \"GBM_complex_lupine\", \"HGSC_complex_lupine\", \"HNSCC_complex_lupine\", \n",
    "                \"LSCC_complex_lupine\", \"LUAD_complex_lupine\", \"PDAC_complex_lupine\", \n",
    "                \"UCEC_complex_lupine\"]\n",
    "noncomplex_cols = [\"BRCA_random_lupine\", \"CCRCC_random_lupine\", \"COAD_random_lupine\", \n",
    "                   \"GBM_random_lupine\", \"HGSC_random_lupine\", \"HNSCC_random_lupine\", \n",
    "                   \"LSCC_random_lupine\", \"LUAD_random_lupine\", \"PDAC_random_lupine\", \n",
    "                   \"UCEC_random_lupine\"]\n",
    "\n",
    "complex_corrs = []\n",
    "noncomplex_corrs = []\n",
    "\n",
    "for col in complex_cols:\n",
    "    curr = list(plotter[col])\n",
    "    complex_corrs = complex_corrs + curr\n",
    "\n",
    "for col in noncomplex_cols:\n",
    "    curr = list(plotter[col])\n",
    "    noncomplex_corrs = noncomplex_corrs + curr\n",
    "\n",
    "print(np.nanmean(complex_corrs))\n",
    "print(np.mean(noncomplex_corrs))"
   ]
  },
  {
   "cell_type": "markdown",
   "id": "e54a2ac0-02c2-4e21-b969-b6e7dbe269c5",
   "metadata": {},
   "source": [
    "#### Repeat, for unimputed quants"
   ]
  },
  {
   "cell_type": "code",
   "execution_count": 26,
   "id": "fb3b73e4-7816-47d1-87c4-0b16f9b6baa3",
   "metadata": {},
   "outputs": [
    {
     "name": "stdout",
     "output_type": "stream",
     "text": [
      "0.28369178497724484\n",
      "0.0013444325226135852\n"
     ]
    }
   ],
   "source": [
    "complex_cols = [\"BRCA_complex_unimputed\", \"CCRCC_complex_unimputed\", \"COAD_complex_unimputed\", \n",
    "                \"GBM_complex_unimputed\", \"HGSC_complex_unimputed\", \"HNSCC_complex_unimputed\", \n",
    "                \"LSCC_complex_unimputed\", \"LUAD_complex_unimputed\", \"PDAC_complex_unimputed\", \n",
    "                \"UCEC_complex_unimputed\"]\n",
    "noncomplex_cols = [\"BRCA_random_unimputed\", \"CCRCC_random_unimputed\", \"COAD_random_unimputed\", \n",
    "                   \"GBM_random_unimputed\", \"HGSC_random_unimputed\", \"HNSCC_random_unimputed\", \n",
    "                   \"LSCC_random_unimputed\", \"LUAD_random_unimputed\", \"PDAC_random_unimputed\", \n",
    "                   \"UCEC_random_unimputed\"]\n",
    "\n",
    "complex_corrs = []\n",
    "noncomplex_corrs = []\n",
    "\n",
    "for col in complex_cols:\n",
    "    curr = list(plotter[col])\n",
    "    complex_corrs = complex_corrs + curr\n",
    "\n",
    "for col in noncomplex_cols:\n",
    "    curr = list(plotter[col])\n",
    "    noncomplex_corrs = noncomplex_corrs + curr\n",
    "\n",
    "print(np.nanmean(complex_corrs))\n",
    "print(np.mean(noncomplex_corrs))"
   ]
  },
  {
   "cell_type": "code",
   "execution_count": null,
   "id": "5f4e7e0a-b004-4b25-aac9-001f97f1e1f6",
   "metadata": {},
   "outputs": [],
   "source": []
  }
 ],
 "metadata": {
  "kernelspec": {
   "display_name": "deep-impute",
   "language": "python",
   "name": "deep-impute"
  },
  "language_info": {
   "codemirror_mode": {
    "name": "ipython",
    "version": 3
   },
   "file_extension": ".py",
   "mimetype": "text/x-python",
   "name": "python",
   "nbconvert_exporter": "python",
   "pygments_lexer": "ipython3",
   "version": "3.9.19"
  }
 },
 "nbformat": 4,
 "nbformat_minor": 5
}
