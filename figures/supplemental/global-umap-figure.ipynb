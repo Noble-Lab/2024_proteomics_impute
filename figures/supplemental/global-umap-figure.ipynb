{
 "cells": [
  {
   "cell_type": "markdown",
   "id": "eba20502",
   "metadata": {},
   "source": [
    "# global-umap-figure\n",
    "7.25.24"
   ]
  },
  {
   "cell_type": "code",
   "execution_count": 1,
   "id": "f5328a2d-c5af-4aef-98c6-a54393d211c1",
   "metadata": {},
   "outputs": [
    {
     "name": "stderr",
     "output_type": "stream",
     "text": [
      "/net/noble/vol2/home/lincolnh/miniconda3/envs/deep-impute/lib/python3.9/site-packages/threadpoolctl.py:1214: RuntimeWarning: \n",
      "Found Intel OpenMP ('libiomp') and LLVM OpenMP ('libomp') loaded at\n",
      "the same time. Both libraries are known to be incompatible and this\n",
      "can cause random crashes or deadlocks on Linux when loaded in the\n",
      "same Python program.\n",
      "Using threadpoolctl may cause crashes or deadlocks. For more\n",
      "information and possible workarounds, please see\n",
      "    https://github.com/joblib/threadpoolctl/blob/master/multiple_openmp.md\n",
      "\n",
      "  warnings.warn(msg, RuntimeWarning)\n"
     ]
    }
   ],
   "source": [
    "import pandas as pd\n",
    "import numpy as np \n",
    "import torch\n",
    "from tqdm import tqdm\n",
    "import os\n",
    "import sys\n",
    "import umap\n",
    "from sklearn.decomposition import PCA\n",
    "import sklearn.cluster as cluster\n",
    "\n",
    "import matplotlib.pyplot as plt\n",
    "import seaborn as sns\n",
    "\n",
    "# plotting templates\n",
    "sns.set(context=\"talk\", style=\"ticks\") \n",
    "pal = sns.color_palette(\"tab10\")"
   ]
  },
  {
   "cell_type": "markdown",
   "id": "2887d283-4ece-4f9c-978a-32e5d6458784",
   "metadata": {},
   "source": [
    "#### Configs"
   ]
  },
  {
   "cell_type": "code",
   "execution_count": 33,
   "id": "f47b121f-30f9-42b5-8610-c7acb9a2d386",
   "metadata": {},
   "outputs": [],
   "source": [
    "CORUM_df_path=\"/net/noble/vol2/home/lincolnh/data/humanComplexes.txt\"\n",
    "\n",
    "# The Lupine ensemble imputed matrix\n",
    "lupine_recon_path=\"/net/noble/vol2/home/lincolnh/code/2023_harris_deep_impute/results/2024-02-20_dream_compare/ensemble-normalized/results/lupine-ensemble-recon.csv\"\n",
    "\n",
    "# The unimputed joint quants matrix\n",
    "joint_fname=\"/net/noble/vol2/home/lincolnh/code/2023_harris_deep_impute/results/2024-02-20_dream_compare/ensemble-normalized/data/lupine-train-pandas.csv\"\n",
    "\n",
    "# The Ensemble (GENCODEv44) fasta\n",
    "ensembl_path=\"/net/noble/vol2/home/lincolnh/code/2023_harris_deep_impute/results/2023-11-13_UMich_dataset/fastas/\"\n",
    "ensembl_df=\"gencode.v44.pc_translations.fa\"\n",
    "\n",
    "# The HGNC database file\n",
    "hgnc_database_path=\"/net/noble/vol2/home/lincolnh/data/quant-data/HGNC_database.txt\"\n",
    "\n",
    "# The handbuilt metadata file\n",
    "meta_path=\"/net/noble/vol2/home/lincolnh/code/2023_harris_deep_impute/results/2024-05-10_metadata_mapping/meta-dict.csv\"\n",
    "\n",
    "cohorts=[\"BRCA\", \"CCRCC\", \"COAD\", \"GBM\", \"HGSC\", \n",
    "         \"HNSCC\", \"LSCC\", \"LUAD\", \"PDAC\", \"UCEC\"]\n",
    "\n",
    "# For the unimputed joint quants matrix\n",
    "min_pres=18\n",
    "\n",
    "# For the decoy protein search\n",
    "rng = np.random.default_rng(seed=18)\n",
    "# alpha = 0.01\n",
    "\n",
    "# For plotting\n",
    "cust_palette = [\"#ff7f0e\", \"#1f77b4\"]\n",
    "\n",
    "# UMAP configs\n",
    "#   A lower value of `k_neighbors` will prioritize local structure, a \n",
    "#   higher value will prioritize global structure\n",
    "k_neighbors=32\n",
    "min_dist=0.9\n",
    "rand_state=42"
   ]
  },
  {
   "cell_type": "markdown",
   "id": "cbc46dcd-a09e-42ea-8db3-231b3732be6a",
   "metadata": {},
   "source": [
    "#### Functions"
   ]
  },
  {
   "cell_type": "code",
   "execution_count": 34,
   "id": "4a06d6bb-c3bd-4687-add8-aaa0864e4561",
   "metadata": {},
   "outputs": [],
   "source": [
    "def run_umap(mat):\n",
    "    \"\"\"\n",
    "    Runs the UMAP with scikit learn's UMAP function. Default is\n",
    "    to reduce to two UMAP components. The rest of the UMAP \n",
    "    params are globally declared. \n",
    "    \n",
    "    Parameters\n",
    "    ----------\n",
    "    mat : np.array, \n",
    "        The matrix to run UMAP on. Note that this will be \n",
    "        transposed. \n",
    "    \n",
    "    Returns\n",
    "    ----------\n",
    "    df : pandas.DataFrame,\n",
    "        A dataframe containing the UMAP dimensions as separate\n",
    "        columns.\n",
    "    \"\"\"\n",
    "    # Init the UMAP object\n",
    "    reducer = umap.UMAP(\n",
    "                n_neighbors=k_neighbors,\n",
    "                n_components=2,\n",
    "                min_dist=min_dist,\n",
    "                random_state=rand_state,\n",
    "                low_memory=True,\n",
    "    )\n",
    "    # Get the UMAP projections. Note that we're TRANSPOSING the input\n",
    "    #    matrix here.\n",
    "    dims = reducer.fit_transform(mat.T)\n",
    "\n",
    "    # Save results to a dataframe\n",
    "    df = pd.DataFrame(dims, columns=[\"UMAP1\", \"UMAP2\"])\n",
    "    return df\n",
    "\n",
    "def splitter(x):\n",
    "    \"\"\"Splits the input, returns left of the comma.\"\"\"\n",
    "    return x.split(\",\")[0]\n",
    "\n",
    "def get_tmt_batch_dict(tmt_meta):\n",
    "    \"\"\"\n",
    "    Create a dictionary mapping the sample IDs to the TMT batch \n",
    "    labels. For a single metadata input file. Why do there seem to\n",
    "    be duplicated sample IDs? \n",
    "    \n",
    "    Parameters\n",
    "    ----------\n",
    "    tmt_meta : `pandas.DataFrame`\n",
    "        The reagent label to biospecimine metadata file, for a \n",
    "        single PDC ID. \n",
    "    \n",
    "    Returns\n",
    "    ----------\n",
    "    samples_dict : dictionary, \n",
    "        A dictionary mapping the sample IDs in the current cohort\n",
    "        to their respective TMT batch label \n",
    "    \"\"\"\n",
    "    tmt_meta.index = tmt_meta[\"Run Metadata ID\"]\n",
    "    tmt_meta = tmt_meta.drop(columns=[\"Run Metadata ID\"])\n",
    "\n",
    "    samples_dict = {}\n",
    "\n",
    "    for i in range(0, tmt_meta.shape[0]):\n",
    "        for j in range(0, tmt_meta.shape[1]):\n",
    "            curr = tmt_meta.iloc[i,j]\n",
    "            samples_dict[curr] = tmt_meta.index[i]\n",
    "            \n",
    "    return samples_dict\n",
    "\n",
    "def random_draw_impute(vec):\n",
    "    \"\"\"\n",
    "    Imputes for a single *column* at a time using the Gaussian\n",
    "    random draw procedure. This closely resembles the Perseus\n",
    "    procedure described here: \n",
    "    https://cox-labs.github.io/coxdocs/replacemissingfromgaussian.html\n",
    "    This is the newer (more accurate) version of this function. \n",
    "    \n",
    "    Parameters\n",
    "    ----------\n",
    "    vec : np.array, \n",
    "        A 1D vector, that is, column from the matrix\n",
    "        to be imputed. \n",
    "\n",
    "    Returns\n",
    "    ----------\n",
    "    vec_recon : np.array, \n",
    "        The imputed vector\n",
    "    \"\"\"\n",
    "    width_param=0.3\n",
    "    downshift_param=1.8\n",
    "    \n",
    "    # Get the means and std\n",
    "    v_mean = np.nanmean(vec)\n",
    "    v_std = np.nanstd(vec)\n",
    "    \n",
    "    # Get the locations of the MVs\n",
    "    nans = np.isnan(vec)\n",
    "    vec_recon = vec.copy()\n",
    "    \n",
    "    # How many total MVs? \n",
    "    n_mv = np.count_nonzero(nans)\n",
    "    \n",
    "    center = v_mean - (v_std * downshift_param)\n",
    "\n",
    "    # Replace missing values with random draws\n",
    "    vec_recon[nans] = rng.normal(\n",
    "                        loc=center,\n",
    "                        scale=v_std*width_param,\n",
    "                        size=n_mv\n",
    "    )\n",
    "    # Make sure we don't have any negative values\n",
    "    vec_recon = np.abs(vec_recon)\n",
    "    \n",
    "    return vec_recon\n",
    "\n",
    "def min_impute(mat):\n",
    "    \"\"\"\n",
    "    Take the minimum value of each column, replace missing values with\n",
    "    this, return the reconstructed matrix.\n",
    "    \n",
    "    Parameters\n",
    "    ----------\n",
    "    mat : np.ndarray, \n",
    "        The matrix to impute\n",
    "    \n",
    "    Returns\n",
    "    -----------\n",
    "    cm_imputed : np.ndarray, \n",
    "        The column min imputed matrix.  \n",
    "    \"\"\"\n",
    "    cm_imputed = mat.copy()\n",
    "\n",
    "    # Get the column mins\n",
    "    col_mins = np.nanmin(cm_imputed, axis=0)\n",
    "\n",
    "    # Get the indices that contain NaNs\n",
    "    nan_idxs = np.where(np.isnan(cm_imputed))\n",
    "\n",
    "    # Replace the NaNs with their corresponding col mins\n",
    "    for x, y in zip(nan_idxs[0], nan_idxs[1]):\n",
    "        col_min = col_mins[y]\n",
    "        cm_imputed[x,y] = col_min\n",
    "\n",
    "    return cm_imputed"
   ]
  },
  {
   "cell_type": "markdown",
   "id": "e45bdb72-723b-4d8c-8e25-5e732cf69e1c",
   "metadata": {},
   "source": [
    "#### Read in the metadata, then do some operations"
   ]
  },
  {
   "cell_type": "code",
   "execution_count": 35,
   "id": "abff040b-bf05-4384-8fa7-87c6da2e3fd2",
   "metadata": {},
   "outputs": [],
   "source": [
    "meta = pd.read_csv(meta_path)"
   ]
  },
  {
   "cell_type": "markdown",
   "id": "9d9dd03e-3ed1-4f1d-9456-59c5ab962625",
   "metadata": {},
   "source": [
    "#### Standardize the metadata `sample_type` labels"
   ]
  },
  {
   "cell_type": "code",
   "execution_count": 36,
   "id": "106ecab1-fb5a-4a86-bc5d-24758304ffc8",
   "metadata": {},
   "outputs": [],
   "source": [
    "for i in range(0, meta.shape[0]):\n",
    "    curr = meta.iloc[i]\n",
    "    if curr[\"sample_type\"] == \"Primary Tumor\":\n",
    "        meta.loc[i, \"sample_type\"] = \"Tumor\"\n",
    "    elif curr[\"sample_type\"] == \"Solid Tissue Normal\":\n",
    "        meta.loc[i, \"sample_type\"] = \"Non-tumor\"\n",
    "    elif curr[\"sample_type\"] == \"Normal\":\n",
    "        meta.loc[i, \"sample_type\"] = \"Non-tumor\"\n",
    "    elif curr[\"sample_type\"] == \"Not Reported\":\n",
    "        meta.loc[i, \"sample_type\"] = np.nan\n",
    "    elif curr[\"sample_type\"] == \"Unknown\":\n",
    "        meta.loc[i, \"sample_type\"] = np.nan\n",
    "    elif curr[\"sample_type\"] == \"C\":\n",
    "        meta.loc[i, \"sample_type\"] = np.nan"
   ]
  },
  {
   "cell_type": "markdown",
   "id": "f36a6772-13e2-439d-bac1-a9f50205e294",
   "metadata": {},
   "source": [
    "#### Generate a TMT sample ID to batch dictionary "
   ]
  },
  {
   "cell_type": "code",
   "execution_count": 37,
   "id": "92a1a8ea-423e-4485-8795-0b4d804e2b5d",
   "metadata": {
    "scrolled": true
   },
   "outputs": [
    {
     "name": "stderr",
     "output_type": "stream",
     "text": [
      "/tmp/2556770.1.noble-login.q/ipykernel_969924/1117261479.py:17: FutureWarning: DataFrame.applymap has been deprecated. Use DataFrame.map instead.\n",
      "  tmt_meta = tmt_meta.applymap(splitter)\n",
      "/tmp/2556770.1.noble-login.q/ipykernel_969924/1117261479.py:17: FutureWarning: DataFrame.applymap has been deprecated. Use DataFrame.map instead.\n",
      "  tmt_meta = tmt_meta.applymap(splitter)\n",
      "/tmp/2556770.1.noble-login.q/ipykernel_969924/1117261479.py:17: FutureWarning: DataFrame.applymap has been deprecated. Use DataFrame.map instead.\n",
      "  tmt_meta = tmt_meta.applymap(splitter)\n",
      "/tmp/2556770.1.noble-login.q/ipykernel_969924/1117261479.py:17: FutureWarning: DataFrame.applymap has been deprecated. Use DataFrame.map instead.\n",
      "  tmt_meta = tmt_meta.applymap(splitter)\n",
      "/tmp/2556770.1.noble-login.q/ipykernel_969924/1117261479.py:17: FutureWarning: DataFrame.applymap has been deprecated. Use DataFrame.map instead.\n",
      "  tmt_meta = tmt_meta.applymap(splitter)\n",
      "/tmp/2556770.1.noble-login.q/ipykernel_969924/1117261479.py:17: FutureWarning: DataFrame.applymap has been deprecated. Use DataFrame.map instead.\n",
      "  tmt_meta = tmt_meta.applymap(splitter)\n",
      "/tmp/2556770.1.noble-login.q/ipykernel_969924/1117261479.py:17: FutureWarning: DataFrame.applymap has been deprecated. Use DataFrame.map instead.\n",
      "  tmt_meta = tmt_meta.applymap(splitter)\n",
      "/tmp/2556770.1.noble-login.q/ipykernel_969924/1117261479.py:17: FutureWarning: DataFrame.applymap has been deprecated. Use DataFrame.map instead.\n",
      "  tmt_meta = tmt_meta.applymap(splitter)\n",
      "/tmp/2556770.1.noble-login.q/ipykernel_969924/1117261479.py:17: FutureWarning: DataFrame.applymap has been deprecated. Use DataFrame.map instead.\n",
      "  tmt_meta = tmt_meta.applymap(splitter)\n",
      "/tmp/2556770.1.noble-login.q/ipykernel_969924/1117261479.py:17: FutureWarning: DataFrame.applymap has been deprecated. Use DataFrame.map instead.\n",
      "  tmt_meta = tmt_meta.applymap(splitter)\n",
      "/tmp/2556770.1.noble-login.q/ipykernel_969924/1117261479.py:17: FutureWarning: DataFrame.applymap has been deprecated. Use DataFrame.map instead.\n",
      "  tmt_meta = tmt_meta.applymap(splitter)\n",
      "/tmp/2556770.1.noble-login.q/ipykernel_969924/1117261479.py:17: FutureWarning: DataFrame.applymap has been deprecated. Use DataFrame.map instead.\n",
      "  tmt_meta = tmt_meta.applymap(splitter)\n",
      "/tmp/2556770.1.noble-login.q/ipykernel_969924/1117261479.py:17: FutureWarning: DataFrame.applymap has been deprecated. Use DataFrame.map instead.\n",
      "  tmt_meta = tmt_meta.applymap(splitter)\n",
      "/tmp/2556770.1.noble-login.q/ipykernel_969924/1117261479.py:17: FutureWarning: DataFrame.applymap has been deprecated. Use DataFrame.map instead.\n",
      "  tmt_meta = tmt_meta.applymap(splitter)\n",
      "/tmp/2556770.1.noble-login.q/ipykernel_969924/1117261479.py:17: FutureWarning: DataFrame.applymap has been deprecated. Use DataFrame.map instead.\n",
      "  tmt_meta = tmt_meta.applymap(splitter)\n",
      "/tmp/2556770.1.noble-login.q/ipykernel_969924/1117261479.py:17: FutureWarning: DataFrame.applymap has been deprecated. Use DataFrame.map instead.\n",
      "  tmt_meta = tmt_meta.applymap(splitter)\n",
      "/tmp/2556770.1.noble-login.q/ipykernel_969924/1117261479.py:17: FutureWarning: DataFrame.applymap has been deprecated. Use DataFrame.map instead.\n",
      "  tmt_meta = tmt_meta.applymap(splitter)\n",
      "/tmp/2556770.1.noble-login.q/ipykernel_969924/1117261479.py:17: FutureWarning: DataFrame.applymap has been deprecated. Use DataFrame.map instead.\n",
      "  tmt_meta = tmt_meta.applymap(splitter)\n",
      "/tmp/2556770.1.noble-login.q/ipykernel_969924/1117261479.py:17: FutureWarning: DataFrame.applymap has been deprecated. Use DataFrame.map instead.\n",
      "  tmt_meta = tmt_meta.applymap(splitter)\n",
      "/tmp/2556770.1.noble-login.q/ipykernel_969924/1117261479.py:17: FutureWarning: DataFrame.applymap has been deprecated. Use DataFrame.map instead.\n",
      "  tmt_meta = tmt_meta.applymap(splitter)\n",
      "/tmp/2556770.1.noble-login.q/ipykernel_969924/1117261479.py:17: FutureWarning: DataFrame.applymap has been deprecated. Use DataFrame.map instead.\n",
      "  tmt_meta = tmt_meta.applymap(splitter)\n",
      "/tmp/2556770.1.noble-login.q/ipykernel_969924/1117261479.py:17: FutureWarning: DataFrame.applymap has been deprecated. Use DataFrame.map instead.\n",
      "  tmt_meta = tmt_meta.applymap(splitter)\n",
      "/tmp/2556770.1.noble-login.q/ipykernel_969924/1117261479.py:17: FutureWarning: DataFrame.applymap has been deprecated. Use DataFrame.map instead.\n",
      "  tmt_meta = tmt_meta.applymap(splitter)\n",
      "/tmp/2556770.1.noble-login.q/ipykernel_969924/1117261479.py:17: FutureWarning: DataFrame.applymap has been deprecated. Use DataFrame.map instead.\n",
      "  tmt_meta = tmt_meta.applymap(splitter)\n",
      "/tmp/2556770.1.noble-login.q/ipykernel_969924/1117261479.py:17: FutureWarning: DataFrame.applymap has been deprecated. Use DataFrame.map instead.\n",
      "  tmt_meta = tmt_meta.applymap(splitter)\n",
      "/tmp/2556770.1.noble-login.q/ipykernel_969924/1117261479.py:17: FutureWarning: DataFrame.applymap has been deprecated. Use DataFrame.map instead.\n",
      "  tmt_meta = tmt_meta.applymap(splitter)\n",
      "/tmp/2556770.1.noble-login.q/ipykernel_969924/1117261479.py:17: FutureWarning: DataFrame.applymap has been deprecated. Use DataFrame.map instead.\n",
      "  tmt_meta = tmt_meta.applymap(splitter)\n"
     ]
    }
   ],
   "source": [
    "tmt_mapping_meta_path=\"/net/noble/vol2/home/lincolnh/data/quant-data/TMT-batch-to-sample/\"\n",
    "ftail = \"_reagent_label_to_biospecimine_mapping.tsv\"\n",
    "cohorts_w_meta = [\"PDC000110\", \"PDC000117\", \"PDC000118\", \n",
    "                  \"PDC000119\", \"PDC000120\", \"PDC000121\", \n",
    "                  \"PDC000127\", \"PDC000128\", \"PDC000149\", \n",
    "                  \"PDC000153\", \"PDC000176\", \"PDC000180\", \n",
    "                  \"PDC000198\", \"PDC000199\", \"PDC000204\", \n",
    "                  \"PDC000205\", \"PDC000221\", \"PDC000222\", \n",
    "                  \"PDC000224\", \"PDC000232\", \"PDC000237\", \n",
    "                  \"PDC000239\", \"PDC000245\", \"PDC000250\", \n",
    "                  \"PDC000251\", \"PDC000270\", \"PDC000325\"]\n",
    "\n",
    "tmt_batch_dict = {}\n",
    "for cohort in cohorts_w_meta: \n",
    "    tmt_meta = pd.read_csv(tmt_mapping_meta_path + cohort + ftail, sep=\"\\t\")\n",
    "    tmt_meta = tmt_meta.drop(columns=[\"Number of Fractions\"])\n",
    "    tmt_meta = tmt_meta.applymap(splitter)\n",
    "    \n",
    "    curr_dict = get_tmt_batch_dict(tmt_meta)\n",
    "    \n",
    "    tmt_batch_dict.update(curr_dict)"
   ]
  },
  {
   "cell_type": "markdown",
   "id": "a5b129ca-d479-454a-bce8-1787ff07c8e4",
   "metadata": {},
   "source": [
    "#### Read in the imputed and unimputed joint quants"
   ]
  },
  {
   "cell_type": "code",
   "execution_count": 38,
   "id": "d0d174f8-0837-480e-bee2-6508594505a5",
   "metadata": {},
   "outputs": [],
   "source": [
    "lupine_recon = pd.read_csv(lupine_recon_path, index_col=0)\n",
    "joint_unimputed = pd.read_csv(joint_fname, index_col=0)\n",
    "\n",
    "lupine_recon.columns = joint_unimputed.columns\n",
    "lupine_recon.index = joint_unimputed.index"
   ]
  },
  {
   "cell_type": "markdown",
   "id": "3d617015-5005-4f11-8943-1bf4739161e6",
   "metadata": {},
   "source": [
    "#### Remove extraneous rows and columns from the unimputed matrix"
   ]
  },
  {
   "cell_type": "code",
   "execution_count": 39,
   "id": "2d17258c-d652-4ac0-8bd7-d01a4a10ed25",
   "metadata": {
    "scrolled": true
   },
   "outputs": [],
   "source": [
    "# Remove some of these extraneous runs\n",
    "keywords = [\"RefInt\", \"QC\", \"pool\", \"Tumor\", \"Pooled\", \n",
    "            \"Pool\", \"Reference\", \"NCI\", \"NX\", \"Ref\"]\n",
    "to_drop = []\n",
    "\n",
    "for sample_id in list(joint_unimputed.columns):\n",
    "    exclude=False\n",
    "    for kw in keywords:\n",
    "        if kw in sample_id:\n",
    "            exclude=True\n",
    "            break\n",
    "    to_drop.append(exclude)\n",
    "\n",
    "keep_cols = np.array(joint_unimputed.columns)[~np.array(to_drop)]\n",
    "unimputed = joint_unimputed[keep_cols]\n",
    "\n",
    "unimputed = np.array(unimputed)\n",
    "\n",
    "# Remove proteins with too many missing values\n",
    "num_present = np.sum(~np.isnan(unimputed), axis=1)\n",
    "discard = num_present < min_pres\n",
    "unimputed = np.delete(unimputed, discard, axis=0)\n",
    "keep_prots = np.array(joint_unimputed.index)[~discard]\n",
    "\n",
    "unimputed = pd.DataFrame(unimputed, index=keep_prots, columns=keep_cols)"
   ]
  },
  {
   "cell_type": "markdown",
   "id": "ad9f40b0-c234-449d-9b36-5e94bd86bfc7",
   "metadata": {},
   "source": [
    "#### Repeat for the Lupine imputed quants matrix"
   ]
  },
  {
   "cell_type": "code",
   "execution_count": 40,
   "id": "e14f71c1-edd2-48f8-8f32-09484d13bccd",
   "metadata": {},
   "outputs": [
    {
     "name": "stdout",
     "output_type": "stream",
     "text": [
      "(17219, 1755)\n",
      "(17219, 1755)\n"
     ]
    }
   ],
   "source": [
    "lupine_recon = lupine_recon[keep_cols].loc[keep_prots]\n",
    "\n",
    "print(unimputed.shape)\n",
    "print(lupine_recon.shape)"
   ]
  },
  {
   "cell_type": "markdown",
   "id": "53850e1d-36ea-4526-a7e0-d8a82cbc294b",
   "metadata": {},
   "source": [
    "#### Remove proteins with >50% missingness at the cohort level "
   ]
  },
  {
   "cell_type": "code",
   "execution_count": 41,
   "id": "98a13e85-4324-4b1c-bd83-c1b6aec2b608",
   "metadata": {},
   "outputs": [],
   "source": [
    "# pres_frac_thresh=0.5\n",
    "\n",
    "# num_present = np.sum(~np.isnan(unimputed), axis=1)\n",
    "# pres_fracs = num_present / unimputed.shape[1]\n",
    "\n",
    "# unimputed = unimputed[pres_fracs >= pres_frac_thresh]\n",
    "# lupine_recon = lupine_recon[pres_fracs >= pres_frac_thresh]\n",
    "# print(unimputed.shape)\n",
    "# print(lupine_recon.shape)\n",
    "\n",
    "# keep_prots_cohort = list(unimputed.index)"
   ]
  },
  {
   "cell_type": "markdown",
   "id": "72b172db-c08f-4f3e-9c78-1d27fd362749",
   "metadata": {},
   "source": [
    "#### Impute with Gaussian random sample"
   ]
  },
  {
   "cell_type": "code",
   "execution_count": 42,
   "id": "b59d24d6-34e7-4929-ae34-6b39c456ee0b",
   "metadata": {},
   "outputs": [],
   "source": [
    "grs_imputed = np.apply_along_axis(random_draw_impute, 0, np.array(unimputed))\n",
    "#grs_imputed = min_impute(np.array(unimputed))\n",
    "grs_imputed = pd.DataFrame(grs_imputed, index=unimputed.index, \n",
    "                                  columns=unimputed.columns)"
   ]
  },
  {
   "cell_type": "markdown",
   "id": "8c51f4a5-e6ad-46fa-86d1-9c847cc94191",
   "metadata": {},
   "source": [
    "#### Get the global UMAP coordinates\n",
    "For both imputation methods. "
   ]
  },
  {
   "cell_type": "code",
   "execution_count": 43,
   "id": "f50a0b02-35f3-4148-a0af-db8b5067025f",
   "metadata": {},
   "outputs": [
    {
     "name": "stderr",
     "output_type": "stream",
     "text": [
      "/net/noble/vol2/home/lincolnh/miniconda3/envs/deep-impute/lib/python3.9/site-packages/umap/umap_.py:1943: UserWarning: n_jobs value -1 overridden to 1 by setting random_state. Use no seed for parallelism.\n",
      "  warn(f\"n_jobs value {self.n_jobs} overridden to 1 by setting random_state. Use no seed for parallelism.\")\n",
      "/net/noble/vol2/home/lincolnh/miniconda3/envs/deep-impute/lib/python3.9/site-packages/sklearn/manifold/_spectral_embedding.py:329: UserWarning: Graph is not fully connected, spectral embedding may not work as expected.\n",
      "  warnings.warn(\n",
      "/net/noble/vol2/home/lincolnh/miniconda3/envs/deep-impute/lib/python3.9/site-packages/umap/umap_.py:1943: UserWarning: n_jobs value -1 overridden to 1 by setting random_state. Use no seed for parallelism.\n",
      "  warn(f\"n_jobs value {self.n_jobs} overridden to 1 by setting random_state. Use no seed for parallelism.\")\n",
      "/net/noble/vol2/home/lincolnh/miniconda3/envs/deep-impute/lib/python3.9/site-packages/sklearn/manifold/_spectral_embedding.py:329: UserWarning: Graph is not fully connected, spectral embedding may not work as expected.\n",
      "  warnings.warn(\n"
     ]
    }
   ],
   "source": [
    "umapper_lupine = run_umap(lupine_recon)\n",
    "umapper_grs = run_umap(grs_imputed)"
   ]
  },
  {
   "cell_type": "markdown",
   "id": "126e0c7a-4fe8-4c40-9d03-5f4d28a60f60",
   "metadata": {},
   "source": [
    "#### Construct a dataframe to hold UMAP coords along with associated metadata"
   ]
  },
  {
   "cell_type": "code",
   "execution_count": 44,
   "id": "b97c96c2-5c7c-4c8d-9a08-9a48a1be58f4",
   "metadata": {
    "scrolled": true
   },
   "outputs": [],
   "source": [
    "cols = [\"aliquot_ID\", \"sample_ID\", \"sample_type\", \"primary_site\", \"disease_type\", \"cohort\", \n",
    "        \"UMAP1_Lupine\", \"UMAP2_Lupine\", \"UMAP1_GRS\", \"UMAP2_GRS\", ]\n",
    "umapper_joint = pd.DataFrame(columns=cols)\n",
    "\n",
    "umapper_joint[\"UMAP1_Lupine\"] = umapper_lupine[\"UMAP1\"]\n",
    "umapper_joint[\"UMAP2_Lupine\"] = umapper_lupine[\"UMAP2\"]\n",
    "\n",
    "umapper_joint[\"UMAP1_GRS\"] = umapper_grs[\"UMAP1\"]\n",
    "umapper_joint[\"UMAP2_GRS\"] = umapper_grs[\"UMAP2\"]"
   ]
  },
  {
   "cell_type": "markdown",
   "id": "16fa1081-3437-4a2f-ab78-f754ba3ce644",
   "metadata": {},
   "source": [
    "#### Map on the sample IDs, sample types and cohorts"
   ]
  },
  {
   "cell_type": "code",
   "execution_count": 45,
   "id": "21127327-6dc0-470b-802c-86ebfaa509ee",
   "metadata": {
    "scrolled": true
   },
   "outputs": [],
   "source": [
    "umapper_joint[\"aliquot_ID\"] = lupine_recon.columns\n",
    "sample_ids = []\n",
    "sample_types = []\n",
    "cohorts = []\n",
    "\n",
    "for idx in range(0, umapper_joint.shape[0]):\n",
    "    a_id = umapper_joint.iloc[idx][\"aliquot_ID\"]\n",
    "    meta_row = meta[meta[\"aliquot_ID\"] == a_id]\n",
    "    s_id = meta_row[\"sample_ID\"].item()\n",
    "    s_type = meta_row[\"sample_type\"].item()\n",
    "    cohort = meta_row[\"cohort\"].item()\n",
    "\n",
    "    sample_ids.append(s_id)\n",
    "    sample_types.append(s_type)\n",
    "    cohorts.append(cohort)\n",
    "\n",
    "umapper_joint[\"sample_ID\"] = sample_ids\n",
    "umapper_joint[\"sample_type\"] = sample_types\n",
    "umapper_joint[\"cohort\"] = cohorts"
   ]
  },
  {
   "cell_type": "markdown",
   "id": "c5e5bddd-832f-499f-9450-dd26e405ad1d",
   "metadata": {},
   "source": [
    "#### Add the TMT batch IDs"
   ]
  },
  {
   "cell_type": "code",
   "execution_count": 46,
   "id": "1f6ecb1b-cff1-4ba8-841a-99d4123e7696",
   "metadata": {},
   "outputs": [],
   "source": [
    "umapper_joint[\"TMT_batch\"] = None\n",
    "\n",
    "for idx in range(0, umapper_joint.shape[0]):\n",
    "    s_id = umapper_joint.iloc[idx][\"sample_ID\"]\n",
    "    if s_id in tmt_batch_dict:\n",
    "        tmt_batch = tmt_batch_dict[s_id]\n",
    "        umapper_joint.loc[idx, \"TMT_batch\"] = tmt_batch"
   ]
  },
  {
   "cell_type": "markdown",
   "id": "ee5a8ccc-4088-4015-8d9a-4182244973e3",
   "metadata": {},
   "source": [
    "#### Get the 2x2 batch effects plot for a single cohort\n",
    "This will have two columns: Lupine colored by sample type, GRS colored by sample type and\n",
    "GRS colored by TMT batch. "
   ]
  },
  {
   "cell_type": "code",
   "execution_count": 54,
   "id": "ba90a14d-4874-491f-bb01-541475ef1e27",
   "metadata": {},
   "outputs": [
    {
     "name": "stderr",
     "output_type": "stream",
     "text": [
      "/tmp/2556770.1.noble-login.q/ipykernel_969924/1125627812.py:29: MatplotlibDeprecationWarning: The legendHandles attribute was deprecated in Matplotlib 3.7 and will be removed two minor releases later. Use legend_handles instead.\n",
      "  for lh in leg1.legendHandles:\n",
      "/tmp/2556770.1.noble-login.q/ipykernel_969924/1125627812.py:58: MatplotlibDeprecationWarning: The legendHandles attribute was deprecated in Matplotlib 3.7 and will be removed two minor releases later. Use legend_handles instead.\n",
      "  for lh in leg2.legendHandles:\n"
     ]
    },
    {
     "data": {
      "image/png": "[encoded data removed]",
      "text/plain": [
       "<Figure size 1000x300 with 3 Axes>"
      ]
     },
     "metadata": {},
     "output_type": "display_data"
    }
   ],
   "source": [
    "fig, (ax1,ax2,ax3) = plt.subplots(1,3,figsize=(10,3))\n",
    "\n",
    "# LUPINE - COLOR BY SAMPLE TYPE\n",
    "sns.scatterplot(\n",
    "    data=umapper_joint,\n",
    "    x=\"UMAP1_Lupine\",\n",
    "    y=\"UMAP2_Lupine\",\n",
    "    alpha=1.0,\n",
    "    hue=\"cohort\",\n",
    "    palette=\"tab10\",\n",
    "    linewidth=0.01,\n",
    "    ax=ax1\n",
    ")\n",
    "ax1.set_title(\"Cohort\", pad=12, size=20)\n",
    "ax1.set_xlabel(\"UMAP1\", labelpad=4, size=11)\n",
    "ax1.set_ylabel(\"UMAP2\", labelpad=4, size=11)\n",
    "\n",
    "ax1.get_xaxis().set_ticks([])\n",
    "ax1.get_yaxis().set_ticks([])\n",
    "#ax1.get_legend().remove()\n",
    "\n",
    "leg1 = ax1.legend(\n",
    "            loc=\"upper center\", \n",
    "            bbox_to_anchor=(0.5, -0.15), \n",
    "            fancybox=True,\n",
    "            edgecolor=\"k\", \n",
    "            prop={\"size\":10}, ncol=2,\n",
    ")\n",
    "for lh in leg1.legendHandles: \n",
    "    lh.set_alpha(1)\n",
    "\n",
    "# LUPINE - COLOR BY TMT BATCH \n",
    "sns.scatterplot(\n",
    "    data=umapper_joint,\n",
    "    x=\"UMAP1_Lupine\",\n",
    "    y=\"UMAP2_Lupine\",\n",
    "    alpha=1.0,\n",
    "    hue=\"sample_type\",\n",
    "    palette=\"tab10\",\n",
    "    linewidth=0.01,\n",
    "    ax=ax2,\n",
    ")\n",
    "ax2.set_title(\"Sample Type\", pad=12, size=20)\n",
    "ax2.set_xlabel(\"UMAP1\", labelpad=4, size=11)\n",
    "ax2.set_ylabel(\"UMAP2\", labelpad=4, size=11)\n",
    "\n",
    "ax2.get_xaxis().set_ticks([])\n",
    "ax2.get_yaxis().set_ticks([])\n",
    "ax2.get_legend().remove()\n",
    "\n",
    "leg2 = ax2.legend(\n",
    "            loc=\"upper center\", \n",
    "            bbox_to_anchor=(0.5, -0.15), \n",
    "            fancybox=True,\n",
    "            edgecolor=\"k\", \n",
    "            prop={\"size\":10},\n",
    ")\n",
    "for lh in leg2.legendHandles: \n",
    "    lh.set_alpha(1)\n",
    "\n",
    "# NAIVE - COLOR BY SAMPLE TYPE\n",
    "sns.scatterplot(\n",
    "    data=umapper_joint,\n",
    "    x=\"UMAP1_Lupine\",\n",
    "    y=\"UMAP2_Lupine\",\n",
    "    alpha=1.0,\n",
    "    hue=\"TMT_batch\",\n",
    "    palette=\"tab10\",\n",
    "    linewidth=0.01,\n",
    "    ax=ax3,\n",
    ")\n",
    "ax3.set_title(\"TMT Batch\", pad=12, size=20)\n",
    "ax3.set_xlabel(\"UMAP1\", labelpad=4, size=11)\n",
    "ax3.set_ylabel(\"UMAP2\", labelpad=4, size=11)\n",
    "\n",
    "ax3.get_xaxis().set_ticks([])\n",
    "ax3.get_yaxis().set_ticks([])\n",
    "ax3.get_legend().remove()\n",
    "\n",
    "plt.show()\n",
    "#plt.savefig(\"../figures/global-umaps.png\", bbox_inches=\"tight\", dpi=250)\n",
    "#plt.savefig(\"../figures/global-umaps-v1.pdf\", bbox_inches=\"tight\")"
   ]
  },
  {
   "cell_type": "code",
   "execution_count": null,
   "id": "785e9436-b275-4421-b616-25cc3d82fad3",
   "metadata": {},
   "outputs": [],
   "source": []
  }
 ],
 "metadata": {
  "kernelspec": {
   "display_name": "deep-impute",
   "language": "python",
   "name": "deep-impute"
  },
  "language_info": {
   "codemirror_mode": {
    "name": "ipython",
    "version": 3
   },
   "file_extension": ".py",
   "mimetype": "text/x-python",
   "name": "python",
   "nbconvert_exporter": "python",
   "pygments_lexer": "ipython3",
   "version": "3.9.19"
  }
 },
 "nbformat": 4,
 "nbformat_minor": 5
}
