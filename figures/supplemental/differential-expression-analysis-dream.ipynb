{
 "cells": [
  {
   "cell_type": "markdown",
   "id": "5f4669df-0771-482b-a4c6-16b9566b26d7",
   "metadata": {},
   "source": [
    "# differential-expression-analysis-dream\n",
    "8.12.24\n",
    "\n",
    "Running on standard DE analysis on DreamAI imputed quants, for each CPTAC cohort separately. \n",
    "We just need to make sure that we're comparing the same proteins when we compare Lupine, DreamAI and no imputation/naive imputation. "
   ]
  },
  {
   "cell_type": "code",
   "execution_count": 1,
   "id": "8e6e0ff7-279c-452a-b40d-adc8bea0fc4a",
   "metadata": {},
   "outputs": [],
   "source": [
    "import pandas as pd\n",
    "import numpy as np \n",
    "from tqdm import tqdm\n",
    "from Bio import SeqIO\n",
    "from scipy import stats\n",
    "from adjustText import adjust_text\n",
    "\n",
    "import matplotlib.pyplot as plt\n",
    "import seaborn as sns\n",
    "\n",
    "# plotting templates\n",
    "sns.set(context=\"talk\", style=\"ticks\") \n",
    "pal = sns.color_palette(\"tab10\")"
   ]
  },
  {
   "cell_type": "markdown",
   "id": "e0b3d811-8cfc-44c5-bcf0-3d84d333fc18",
   "metadata": {},
   "source": [
    "#### Configs"
   ]
  },
  {
   "cell_type": "code",
   "execution_count": 2,
   "id": "66dcec42-68b9-44ba-b12d-083eb50de45d",
   "metadata": {},
   "outputs": [],
   "source": [
    "# The unimputed joint quants matrix\n",
    "joint_fname=\"/net/noble/vol2/home/lincolnh/data/quant-data/UMich-normalized/joint-quants-normalized-shifted.csv\"\n",
    "min_pres=18\n",
    "\n",
    "# The Ensemble (GENCODEv44) fasta\n",
    "ensembl_path=\"/net/noble/vol2/home/lincolnh/code/2023_harris_deep_impute/results/2023-11-13_UMich_dataset/fastas/\"\n",
    "ensembl_df=\"gencode.v44.pc_translations.fa\"\n",
    "\n",
    "# The HGNC database file\n",
    "hgnc_database_path=\"/net/noble/vol2/home/lincolnh/data/quant-data/HGNC_database.txt\"\n",
    "\n",
    "# The metadata dictionary, previously created\n",
    "meta_path=\"/net/noble/vol2/home/lincolnh/code/2023_harris_deep_impute/results/2024-05-10_metadata_mapping/meta-dict.csv\"\n",
    "\n",
    "cohort_ids=[\"BRCA\", \"CCRCC\", \"COAD\", \"GBM\", \"HGSC\", \n",
    "            \"HNSCC\", \"LSCC\", \"LUAD\", \"PDAC\", \"UCEC\"]\n",
    "\n",
    "# Set the thresholds\n",
    "adjusted_alpha=1e-2\n",
    "fc_thresh=0.5\n",
    "pres_frac_thresh=0.5 # Default here is 50%\n",
    "\n",
    "curr_cohort = \"CCRCC\"\n",
    "\n",
    "rng = np.random.default_rng(seed=18)"
   ]
  },
  {
   "cell_type": "markdown",
   "id": "681dbc33-1bb6-41ec-8068-eda0f57d32c9",
   "metadata": {},
   "source": [
    "#### Functions"
   ]
  },
  {
   "cell_type": "code",
   "execution_count": 3,
   "id": "61e12a90-ca16-4508-bd7f-f43b799e6915",
   "metadata": {},
   "outputs": [],
   "source": [
    "def bh_adjustment(pvals):\n",
    "    \"\"\"\n",
    "    Performs the Benjamini-Hochberg procedure\n",
    "    for p-value ADJUSTMENT. So this means we actually \n",
    "    return a list of corrected p-values, not just a \n",
    "    boolean specifying which p-values to keep per the\n",
    "    FDR controlled at some threshold. \n",
    "    \n",
    "    Parameters\n",
    "    ----------\n",
    "    pvals : np.ndarray, \n",
    "        The sorted list of uncorrected p-values. Sorted\n",
    "        from smallest to largest\n",
    "\n",
    "    Returns\n",
    "    -----------\n",
    "    pvals_adjusted : list, \n",
    "        A list of the BH adjusted p-values\n",
    "    \"\"\"\n",
    "    pvals_adjusted = []\n",
    "\n",
    "    for i in range(0, len(pvals)):\n",
    "        rank = i + 1\n",
    "        curr_pval = pvals[i]\n",
    "        pval_adj = (curr_pval * len(pvals)) / rank\n",
    "        pvals_adjusted.append(pval_adj)        \n",
    "\n",
    "    return pvals_adjusted"
   ]
  },
  {
   "cell_type": "markdown",
   "id": "06a615a7-6395-4fcc-955e-e1bfea4a21f7",
   "metadata": {},
   "source": [
    "#### Subset metadata to a single cohort, get the tumor and nontumor IDs"
   ]
  },
  {
   "cell_type": "code",
   "execution_count": 4,
   "id": "1b1389f3-2f33-4b03-80b9-786bc011fb8a",
   "metadata": {},
   "outputs": [
    {
     "name": "stdout",
     "output_type": "stream",
     "text": [
      "110\n",
      "84\n"
     ]
    }
   ],
   "source": [
    "# Might need `index_col=0` here\n",
    "meta_dict = pd.read_csv(meta_path)\n",
    "meta_dict = meta_dict[meta_dict[\"cohort\"] == curr_cohort]\n",
    "meta_dict = meta_dict.reset_index(drop=True)\n",
    "\n",
    "tumor_samples_meta = meta_dict[(meta_dict[\"sample_type\"] == \"Primary Tumor\") | (meta_dict[\"sample_type\"] == \"Tumor\")]\n",
    "nontumor_samples_meta = meta_dict[(meta_dict[\"sample_type\"] != \"Primary Tumor\") & (meta_dict[\"sample_type\"] != \"Tumor\")]\n",
    "\n",
    "tumor_IDs = list(tumor_samples_meta[\"aliquot_ID\"])\n",
    "nontumor_IDs = list(nontumor_samples_meta[\"aliquot_ID\"])\n",
    "\n",
    "print(len(tumor_IDs))\n",
    "print(len(nontumor_IDs))"
   ]
  },
  {
   "cell_type": "markdown",
   "id": "cefe812f-63e4-4a8f-82db-46977861dece",
   "metadata": {},
   "source": [
    "#### Pre-process the unimputed joint quants matrix"
   ]
  },
  {
   "cell_type": "code",
   "execution_count": 5,
   "id": "6b5e2ac8-656e-43cc-b762-1d2696453612",
   "metadata": {},
   "outputs": [
    {
     "name": "stdout",
     "output_type": "stream",
     "text": [
      "joint quants mat shape, post-filter: (18162, 1755)\n"
     ]
    }
   ],
   "source": [
    "# Read in the joint quants matrix\n",
    "joint_mat = pd.read_csv(joint_fname, index_col=0)\n",
    "\n",
    "# Remove some of these extraneous runs\n",
    "keywords = [\"RefInt\", \"QC\", \"pool\", \"Tumor\", \"Pooled\", \n",
    "            \"Pool\", \"Reference\", \"NCI\", \"NX\", \"Ref\"]\n",
    "to_drop = []\n",
    "\n",
    "for sample_id in list(joint_mat.columns):\n",
    "    exclude=False\n",
    "    for kw in keywords:\n",
    "        if kw in sample_id:\n",
    "            exclude=True\n",
    "            break\n",
    "    to_drop.append(exclude)\n",
    "\n",
    "keep_cols = np.array(joint_mat.columns)[~np.array(to_drop)]\n",
    "joint_mat = joint_mat[keep_cols]\n",
    "\n",
    "joint = np.array(joint_mat)\n",
    "\n",
    "# Remove proteins with too many missing values\n",
    "num_present = np.sum(~np.isnan(joint), axis=1)\n",
    "discard = num_present < min_pres\n",
    "joint = np.delete(joint, discard, axis=0)\n",
    "keep_prots = np.array(joint_mat.index)[~discard]\n",
    "\n",
    "print(f\"joint quants mat shape, post-filter: {joint.shape}\")\n",
    "\n",
    "joint_start = pd.DataFrame(joint, columns=keep_cols, index=keep_prots)"
   ]
  },
  {
   "cell_type": "markdown",
   "id": "192ce78c-713f-48ea-8306-e544e0df67c1",
   "metadata": {},
   "source": [
    "#### Read in a DreamAI imputed quants matrix and attach row/column IDs"
   ]
  },
  {
   "cell_type": "code",
   "execution_count": 6,
   "id": "9fcd13e7-2278-476a-bc41-ab50216b51d4",
   "metadata": {
    "scrolled": true
   },
   "outputs": [
    {
     "name": "stdout",
     "output_type": "stream",
     "text": [
      "(11821, 194)\n"
     ]
    }
   ],
   "source": [
    "dream_imputed_cohort = pd.read_csv(\"imputed/\" + curr_cohort + \"_dreamAI_recon.csv\", index_col=0)\n",
    "unimputed_cohort = pd.read_csv(\"unimputed/\" + curr_cohort + \"_unimputed_annotated.csv\", index_col=0)\n",
    "\n",
    "dream_imputed_cohort.index = unimputed_cohort.index\n",
    "dream_imputed_cohort.columns = unimputed_cohort.columns\n",
    "\n",
    "print(dream_imputed_cohort.shape)"
   ]
  },
  {
   "cell_type": "markdown",
   "id": "a08695ff-6cf6-4b70-bca3-462a3f6c0328",
   "metadata": {},
   "source": [
    "#### Remove proteins with an initial missingness fraction >50% from the current cohort matrix"
   ]
  },
  {
   "cell_type": "code",
   "execution_count": 7,
   "id": "d7b2f5f2-5fa8-4687-83a9-6d12f6df9262",
   "metadata": {},
   "outputs": [
    {
     "name": "stdout",
     "output_type": "stream",
     "text": [
      "(9324, 194)\n"
     ]
    }
   ],
   "source": [
    "cohort_quants_start = joint_start[tumor_IDs + nontumor_IDs]\n",
    "\n",
    "num_present = np.sum(~np.isnan(cohort_quants_start), axis=1)\n",
    "pres_fracs = num_present / cohort_quants_start.shape[1]\n",
    "\n",
    "cohort_quants_start = cohort_quants_start[pres_fracs >= pres_frac_thresh]\n",
    "print(cohort_quants_start.shape)\n",
    "\n",
    "keep_prots_cohort = list(cohort_quants_start.index)"
   ]
  },
  {
   "cell_type": "markdown",
   "id": "a58f6027-a765-4015-9e04-3e7e3aba43d1",
   "metadata": {},
   "source": [
    "#### Subset the DreamAI imputed quants by the initial missingnesss fraction"
   ]
  },
  {
   "cell_type": "code",
   "execution_count": 8,
   "id": "e2b70a30-04b7-4b1d-bbf3-7fae438f3ecc",
   "metadata": {},
   "outputs": [
    {
     "name": "stdout",
     "output_type": "stream",
     "text": [
      "(9324, 194)\n"
     ]
    }
   ],
   "source": [
    "dream_imputed_cohort = dream_imputed_cohort.loc[keep_prots_cohort]\n",
    "print(dream_imputed_cohort.shape)"
   ]
  },
  {
   "cell_type": "markdown",
   "id": "519428b7-6cc4-4530-8b77-38c6d8369549",
   "metadata": {},
   "source": [
    "#### Exponentiate to get the original, untransformed intensities\n",
    "These quants have previously been log2 transformed, so here we're inversing that transformation "
   ]
  },
  {
   "cell_type": "code",
   "execution_count": 9,
   "id": "a19f6040-e9ff-405c-aa0b-913d4a981f4b",
   "metadata": {},
   "outputs": [],
   "source": [
    "joint_start = np.power(2, joint_start)\n",
    "dream_imputed_cohort = np.power(2, dream_imputed_cohort)"
   ]
  },
  {
   "cell_type": "markdown",
   "id": "282d61ef-dbf9-450d-93aa-c535b04ac155",
   "metadata": {},
   "source": [
    "#### Get quants matrices for tumor and non-tumor samples"
   ]
  },
  {
   "cell_type": "code",
   "execution_count": 10,
   "id": "9e3142e6-bf4f-4962-8cf8-89e04eeea73a",
   "metadata": {},
   "outputs": [
    {
     "name": "stdout",
     "output_type": "stream",
     "text": [
      "(9324, 110)\n",
      "(9324, 84)\n"
     ]
    }
   ],
   "source": [
    "tumor_quants = dream_imputed_cohort[tumor_IDs]\n",
    "nontumor_quants = dream_imputed_cohort[nontumor_IDs]\n",
    "\n",
    "tumor_mat = np.array(tumor_quants)\n",
    "nontumor_mat = np.array(nontumor_quants)\n",
    "\n",
    "print(tumor_mat.shape)\n",
    "print(nontumor_mat.shape)"
   ]
  },
  {
   "cell_type": "markdown",
   "id": "125c78b6-f50a-4bb1-a009-87cd8a4c4113",
   "metadata": {},
   "source": [
    "#### Calculate the Wilcoxon rank sum statistics"
   ]
  },
  {
   "cell_type": "code",
   "execution_count": 11,
   "id": "84597bcf-198d-4357-907f-b294a13bc46d",
   "metadata": {},
   "outputs": [],
   "source": [
    "pvals = []\n",
    "rs_stats = []\n",
    "\n",
    "for i in range(0, tumor_mat.shape[0]):\n",
    "    stat, pval = stats.ranksums(tumor_mat[i], nontumor_mat[i], nan_policy=\"omit\")\n",
    "    pvals.append(pval)\n",
    "    rs_stats.append(stat)\n",
    "\n",
    "# Init a dataframe to hold the p-values and adjusted p-values\n",
    "stats_df = pd.DataFrame(columns = [\"ENSP\", \"pval\", \"adj_pval\", \"orig_idx\"])\n",
    "stats_df[\"ENSP\"] = list(tumor_quants.index)\n",
    "stats_df[\"pval\"] = pvals"
   ]
  },
  {
   "cell_type": "markdown",
   "id": "1f015832-9693-4dfb-b118-ae93aa09dc31",
   "metadata": {},
   "source": [
    "#### Do the Benjamini Hochberg correction "
   ]
  },
  {
   "cell_type": "code",
   "execution_count": 12,
   "id": "b8ad918b-348a-462d-8333-b4fd41c47268",
   "metadata": {},
   "outputs": [],
   "source": [
    "# Sort by uncorrected p-values\n",
    "stats_df = stats_df.sort_values(by=\"pval\")\n",
    "# Do the BH adjustment\n",
    "pvals_corrected = bh_adjustment(np.array(stats_df[\"pval\"]))\n",
    "stats_df[\"adj_pval\"] = pvals_corrected\n",
    "stats_df[\"orig_idx\"] = list(stats_df.index)\n",
    "\n",
    "# Return to the initial order\n",
    "stats_df = stats_df.sort_values(by=\"orig_idx\")"
   ]
  },
  {
   "cell_type": "markdown",
   "id": "ab591bef-c52d-4f93-9e63-af14c8a357f4",
   "metadata": {},
   "source": [
    "#### Get the log2 fold changes"
   ]
  },
  {
   "cell_type": "code",
   "execution_count": 13,
   "id": "76578d33-714a-4b29-a960-28a60c6dd82e",
   "metadata": {},
   "outputs": [],
   "source": [
    "tumor_expr_means = np.nanmean(tumor_mat, axis=1)\n",
    "nontumor_expr_means = np.nanmean(nontumor_mat, axis=1)\n",
    "\n",
    "log_fold_changes = np.log2(tumor_expr_means / nontumor_expr_means)\n",
    "\n",
    "fdr = -np.log10(np.array(stats_df[\"adj_pval\"]))"
   ]
  },
  {
   "cell_type": "markdown",
   "id": "cfd1e9b0-a867-4360-8579-390b60bcfb95",
   "metadata": {},
   "source": [
    "#### Create an aggregated dataframe for analysis"
   ]
  },
  {
   "cell_type": "code",
   "execution_count": 14,
   "id": "e977438b-d603-46ef-8fa5-c6d653b79aad",
   "metadata": {},
   "outputs": [],
   "source": [
    "aggregated = pd.DataFrame(columns=[\"ENSP\", \"HGNC\", \"p-value\", \"FC\"])\n",
    "aggregated[\"ENSP\"] = list(tumor_quants.index)\n",
    "aggregated[\"p-value\"] = np.array(stats_df[\"adj_pval\"])\n",
    "aggregated[\"FC\"] = log_fold_changes\n",
    "aggregated[\"FDR\"] = fdr\n",
    "#aggregated.head(5)"
   ]
  },
  {
   "cell_type": "markdown",
   "id": "431a7b76-8b45-46ba-9ecf-622de13a91c2",
   "metadata": {},
   "source": [
    "#### Create a dictionary mapping ENSPs to HGNCs"
   ]
  },
  {
   "cell_type": "code",
   "execution_count": 15,
   "id": "5362cbb7-dac3-4e49-befb-95389071accd",
   "metadata": {},
   "outputs": [
    {
     "name": "stderr",
     "output_type": "stream",
     "text": [
      "/tmp/ipykernel_1910342/1917651185.py:2: DtypeWarning: Columns (31,38) have mixed types. Specify dtype option on import or set low_memory=False.\n",
      "  hgnc_db = pd.read_csv(hgnc_database_path, sep=\"\\t\")\n"
     ]
    }
   ],
   "source": [
    "# Read in the HGNC database file\n",
    "hgnc_db = pd.read_csv(hgnc_database_path, sep=\"\\t\")\n",
    "\n",
    "# Read in the ENSEMBL fasta\n",
    "ensembl_fasta = ensembl_path + ensembl_df\n",
    "fasta_seqs = SeqIO.parse(open(ensembl_fasta), \"fasta\")\n",
    "\n",
    "# Init both dictionaries\n",
    "gene_x_prot = {}\n",
    "prot_x_gene = {}\n",
    "\n",
    "# Fill in the dictionary \n",
    "for fasta in fasta_seqs:\n",
    "    name, descript, sequence = \\\n",
    "        fasta.id, fasta.description, str(fasta.seq)\n",
    "    # Get the ENSP and ENSG IDs\n",
    "    ensp_id = name.split(\"|\")[0]\n",
    "    ensg_id = name.split(\"|\")[2]\n",
    "    # Strip the \".x\" characters. Hope this is ok.\n",
    "    ensp_id = ensp_id.split(\".\")[0]\n",
    "    ensg_id = ensg_id.split(\".\")[0]\n",
    "    \n",
    "    # Update the first dictionary\n",
    "    prot_x_gene[ensp_id] = ensg_id\n",
    "    \n",
    "    # Update the second\n",
    "    if ensg_id in gene_x_prot:\n",
    "        gene_x_prot[ensg_id].append(ensp_id)\n",
    "    else:\n",
    "        gene_x_prot[ensg_id] = [ensp_id]"
   ]
  },
  {
   "cell_type": "markdown",
   "id": "b78a8bb2-f47c-4738-af4d-7f5ca868db28",
   "metadata": {},
   "source": [
    "#### Append the HGNC IDs to the aggregated df"
   ]
  },
  {
   "cell_type": "code",
   "execution_count": 16,
   "id": "8cced6f0-a4f7-487f-aa71-5f7504b48e95",
   "metadata": {},
   "outputs": [],
   "source": [
    "for idx in range(0, aggregated.shape[0]):\n",
    "    curr = aggregated.iloc[idx]\n",
    "    curr_ensp = curr[\"ENSP\"]\n",
    "    try:\n",
    "        curr_ensg = prot_x_gene[curr_ensp]\n",
    "    except KeyError:\n",
    "        curr_ensg = None\n",
    "\n",
    "    # Add the ENSG ID\n",
    "    aggregated.loc[idx, \"ENSG\"] = curr_ensg\n",
    "\n",
    "    # Add in the HGNC gene ID as well \n",
    "    if curr_ensg is not None:\n",
    "        try:\n",
    "            hgnc_row = hgnc_db[hgnc_db[\"ensembl_gene_id\"] == curr_ensg]\n",
    "            hgnc_id = hgnc_row[\"symbol\"].item()\n",
    "\n",
    "            aggregated.loc[idx, \"HGNC\"] = hgnc_id\n",
    "        except ValueError:\n",
    "            pass"
   ]
  },
  {
   "cell_type": "markdown",
   "id": "bea64f9c-aa44-4131-bb77-85002efa8289",
   "metadata": {},
   "source": [
    "#### Define up- and down-regulated genes/proteins\n",
    "According to our adjusted p-value threshold and log FC threshold. "
   ]
  },
  {
   "cell_type": "code",
   "execution_count": 17,
   "id": "fe0fa9e9-3b67-499a-8b01-feb3a0f4682f",
   "metadata": {},
   "outputs": [
    {
     "name": "stdout",
     "output_type": "stream",
     "text": [
      "num up-reg: 96\n",
      "num down-reg: 425\n"
     ]
    }
   ],
   "source": [
    "up_df = aggregated[(aggregated[\"p-value\"] < adjusted_alpha) & (aggregated[\"FC\"] >= fc_thresh)]\n",
    "down_df = aggregated[(aggregated[\"p-value\"] < adjusted_alpha) & (aggregated[\"FC\"] <= -fc_thresh)]\n",
    "\n",
    "print(f\"num up-reg: {up_df.shape[0]}\")\n",
    "print(f\"num down-reg: {down_df.shape[0]}\")"
   ]
  },
  {
   "cell_type": "markdown",
   "id": "5e7d4f19-f132-4217-a566-b8dae2b3177c",
   "metadata": {},
   "source": [
    "---\n",
    "## Fucking around\n",
    "For CCRCC. "
   ]
  },
  {
   "cell_type": "markdown",
   "id": "89df921d-472e-4c7c-a413-66b404042c48",
   "metadata": {},
   "source": [
    "#### Get lists of up-regulated proteins after Dream and Lupine imputation. "
   ]
  },
  {
   "cell_type": "code",
   "execution_count": 18,
   "id": "d51eacab-6d56-4f88-a2e5-255241dc9b4e",
   "metadata": {},
   "outputs": [],
   "source": [
    "up_reg_dream = list(up_df[\"HGNC\"])\n",
    "\n",
    "up_reg_lupine = ['PARVG', 'LOX', 'POSTN', 'ABCG1', 'NUPR1', 'POSTN', 'APBB1IP', \n",
    "                 'ADAMTS7', 'GPX8', 'LOXL2', 'TNFAIP6', 'CDH4', 'ARHGAP22', 'GBP2', \n",
    "                 'ANGPTL4', 'SLC2A1', 'NNMT', 'EPX', 'INTU', 'HK2', 'GYPA', 'SEMA5B', \n",
    "                 'HAVCR1', 'PLOD2', 'FCER1G', 'SLC2A3', 'LAIR1', 'IKBIP', 'PFKP', np.nan, \n",
    "                 'GBP5', 'SCARB1', 'FCGR3A', 'CTHRC1', 'IDO1', 'SCGN', 'TMSB10', \n",
    "                 'HLA-DQB2', 'POSTN', 'IL32', 'PNCK', 'HAPLN1', 'SLC4A1', 'SLC16A3', \n",
    "                 'FTH1', 'CAV1', 'ANGPT2', 'FHL1', 'P4HA2', 'P4HA1', 'TYMP', 'ALOX5', \n",
    "                 np.nan, 'ENO2', 'ENPP3', 'LPCAT1', 'EMILIN2', 'SPTA1', 'ITGB2', 'CYP2J2', \n",
    "                 'IKBIP', 'SLC43A3', 'BTN3A2', 'PLIN2', 'SDS', 'C4orf3', 'ALB', 'TYROBP', \n",
    "                 np.nan, 'ITGAX', 'SIRPA', 'ANXA4', 'TMEM243', 'CD70', 'PDK1', 'CYBB', \n",
    "                 'AHNAK2', 'ESM1', 'TGM2', 'NT5DC3', 'FABP6', 'CA9', 'COL23A1', 'MFSD13A', \n",
    "                 'THBS2', 'FABP7', 'SCD', 'NCK1', 'NDUFA4L2', 'HBE1', 'RAB42', 'SPATA18', \n",
    "                 'P2RX7', 'H1-5', 'CCND1', 'PYGL', 'POSTN', np.nan, 'SPATA18', 'PNMA2', \n",
    "                 'FTL', 'BIRC3']"
   ]
  },
  {
   "cell_type": "markdown",
   "id": "e2d58354-d90f-416d-9fae-c57517a4067a",
   "metadata": {},
   "source": [
    "#### Get rid of the NaNs\n",
    "This is not the most elegant solution. "
   ]
  },
  {
   "cell_type": "code",
   "execution_count": 19,
   "id": "82a6bd8a-d0dd-4d02-b36f-a09f09daf3f8",
   "metadata": {},
   "outputs": [
    {
     "name": "stdout",
     "output_type": "stream",
     "text": [
      "92\n",
      "86\n"
     ]
    }
   ],
   "source": [
    "up_reg_lupine = set(up_reg_lupine)\n",
    "up_reg_dream = set(up_reg_dream)\n",
    "\n",
    "up_reg_lupine = list(up_reg_lupine)[1:-1]\n",
    "up_reg_dream = list(up_reg_dream)[1:-1]\n",
    "\n",
    "print(len(up_reg_lupine))\n",
    "print(len(up_reg_dream))"
   ]
  },
  {
   "cell_type": "markdown",
   "id": "a61006b3-38c8-4f33-9ff6-43bf7092cd39",
   "metadata": {},
   "source": [
    "#### Get the intersection and Lupine exclusive sets"
   ]
  },
  {
   "cell_type": "code",
   "execution_count": 20,
   "id": "cba2d128-0e33-4d59-8d5f-7dfc57541822",
   "metadata": {},
   "outputs": [
    {
     "name": "stdout",
     "output_type": "stream",
     "text": [
      "85\n"
     ]
    },
    {
     "data": {
      "text/plain": [
       "['INTU', 'HLA-DQB2', 'IL32', 'BTN3A2', 'CDH4', 'ARHGAP22', 'BIRC3']"
      ]
     },
     "execution_count": 20,
     "metadata": {},
     "output_type": "execute_result"
    }
   ],
   "source": [
    "inter = np.intersect1d(up_reg_lupine, up_reg_dream)\n",
    "print(len(inter))\n",
    "\n",
    "lupine_exclusive = list(set(up_reg_lupine) - set(up_reg_dream))\n",
    "\n",
    "lupine_exclusive"
   ]
  },
  {
   "cell_type": "markdown",
   "id": "304479f4-fd7e-4d16-abfd-a0f45fd9695b",
   "metadata": {},
   "source": [
    "#### What if we could attach the imputed/unimputed quants? \n",
    "So we could ask whether any of these proteins are low-abundance. "
   ]
  },
  {
   "cell_type": "code",
   "execution_count": 21,
   "id": "f5c94156-fb51-4964-8742-6a0c4f178a21",
   "metadata": {},
   "outputs": [],
   "source": [
    "tumor_quant_means = np.mean(tumor_quants, axis=1)\n",
    "nontumor_quant_means = np.mean(nontumor_quants, axis=1)\n",
    "\n",
    "aggregated[\"tumor_means\"] = list(tumor_quant_means)\n",
    "aggregated[\"nontumor_means\"] = list(nontumor_quant_means)\n",
    "\n",
    "agg_lupine_sub = aggregated[aggregated[\"HGNC\"].isin(lupine_exclusive)]"
   ]
  },
  {
   "cell_type": "markdown",
   "id": "7534d5dd-bd45-481f-9baa-566cb581be0c",
   "metadata": {},
   "source": [
    "#### Get some vital stats"
   ]
  },
  {
   "cell_type": "code",
   "execution_count": 22,
   "id": "dbdf6633-da29-4eab-aba0-3bad2be2b88f",
   "metadata": {},
   "outputs": [
    {
     "name": "stdout",
     "output_type": "stream",
     "text": [
      "87.84673915766685\n",
      "10.218958895941745\n",
      "603.6274307679147\n"
     ]
    }
   ],
   "source": [
    "quants_mean = np.mean(aggregated[\"tumor_means\"])\n",
    "quants_min = np.min(aggregated[\"tumor_means\"])\n",
    "quants_max = np.max(aggregated[\"tumor_means\"])\n",
    "\n",
    "print(quants_mean)\n",
    "print(quants_min)\n",
    "print(quants_max)"
   ]
  },
  {
   "cell_type": "markdown",
   "id": "cc412828-9fcd-4494-b0be-6ef63c58ec9b",
   "metadata": {},
   "source": [
    "#### I wonder if we could make the case that these six DE proteins are \"low-abundance\"?"
   ]
  },
  {
   "cell_type": "code",
   "execution_count": 23,
   "id": "bc3b967d-8fb0-4cc1-b028-5c0c6d5a34e8",
   "metadata": {},
   "outputs": [
    {
     "data": {
      "text/html": [
       "<div>\n",
       "<style scoped>\n",
       "    .dataframe tbody tr th:only-of-type {\n",
       "        vertical-align: middle;\n",
       "    }\n",
       "\n",
       "    .dataframe tbody tr th {\n",
       "        vertical-align: top;\n",
       "    }\n",
       "\n",
       "    .dataframe thead th {\n",
       "        text-align: right;\n",
       "    }\n",
       "</style>\n",
       "<table border=\"1\" class=\"dataframe\">\n",
       "  <thead>\n",
       "    <tr style=\"text-align: right;\">\n",
       "      <th></th>\n",
       "      <th>ENSP</th>\n",
       "      <th>HGNC</th>\n",
       "      <th>p-value</th>\n",
       "      <th>FC</th>\n",
       "      <th>FDR</th>\n",
       "      <th>ENSG</th>\n",
       "      <th>tumor_means</th>\n",
       "      <th>nontumor_means</th>\n",
       "    </tr>\n",
       "  </thead>\n",
       "  <tbody>\n",
       "    <tr>\n",
       "      <th>638</th>\n",
       "      <td>ENSP00000443301</td>\n",
       "      <td>CDH4</td>\n",
       "      <td>1.895278e-21</td>\n",
       "      <td>0.472038</td>\n",
       "      <td>20.722327</td>\n",
       "      <td>ENSG00000179242</td>\n",
       "      <td>24.774652</td>\n",
       "      <td>17.861177</td>\n",
       "    </tr>\n",
       "    <tr>\n",
       "      <th>672</th>\n",
       "      <td>ENSP00000249601</td>\n",
       "      <td>ARHGAP22</td>\n",
       "      <td>3.801962e-26</td>\n",
       "      <td>0.491907</td>\n",
       "      <td>25.419992</td>\n",
       "      <td>ENSG00000128805</td>\n",
       "      <td>26.457371</td>\n",
       "      <td>18.813425</td>\n",
       "    </tr>\n",
       "    <tr>\n",
       "      <th>1614</th>\n",
       "      <td>ENSP00000334003</td>\n",
       "      <td>INTU</td>\n",
       "      <td>8.497643e-16</td>\n",
       "      <td>0.496679</td>\n",
       "      <td>15.070702</td>\n",
       "      <td>ENSG00000164066</td>\n",
       "      <td>30.602475</td>\n",
       "      <td>21.689082</td>\n",
       "    </tr>\n",
       "    <tr>\n",
       "      <th>3209</th>\n",
       "      <td>ENSP00000396330</td>\n",
       "      <td>HLA-DQB2</td>\n",
       "      <td>7.312075e-26</td>\n",
       "      <td>0.460004</td>\n",
       "      <td>25.135959</td>\n",
       "      <td>ENSG00000232629</td>\n",
       "      <td>29.414726</td>\n",
       "      <td>21.384040</td>\n",
       "    </tr>\n",
       "    <tr>\n",
       "      <th>3487</th>\n",
       "      <td>ENSP00000324742</td>\n",
       "      <td>IL32</td>\n",
       "      <td>1.086267e-11</td>\n",
       "      <td>0.488842</td>\n",
       "      <td>10.964064</td>\n",
       "      <td>ENSG00000008517</td>\n",
       "      <td>81.163298</td>\n",
       "      <td>57.836692</td>\n",
       "    </tr>\n",
       "    <tr>\n",
       "      <th>5922</th>\n",
       "      <td>ENSP00000348751</td>\n",
       "      <td>BTN3A2</td>\n",
       "      <td>5.522555e-27</td>\n",
       "      <td>0.493148</td>\n",
       "      <td>26.257860</td>\n",
       "      <td>ENSG00000186470</td>\n",
       "      <td>41.460355</td>\n",
       "      <td>29.456461</td>\n",
       "    </tr>\n",
       "    <tr>\n",
       "      <th>9166</th>\n",
       "      <td>ENSP00000263464</td>\n",
       "      <td>BIRC3</td>\n",
       "      <td>1.208733e-27</td>\n",
       "      <td>0.453889</td>\n",
       "      <td>26.917670</td>\n",
       "      <td>ENSG00000023445</td>\n",
       "      <td>19.229287</td>\n",
       "      <td>14.038770</td>\n",
       "    </tr>\n",
       "  </tbody>\n",
       "</table>\n",
       "</div>"
      ],
      "text/plain": [
       "                 ENSP      HGNC       p-value        FC        FDR  \\\n",
       "638   ENSP00000443301      CDH4  1.895278e-21  0.472038  20.722327   \n",
       "672   ENSP00000249601  ARHGAP22  3.801962e-26  0.491907  25.419992   \n",
       "1614  ENSP00000334003      INTU  8.497643e-16  0.496679  15.070702   \n",
       "3209  ENSP00000396330  HLA-DQB2  7.312075e-26  0.460004  25.135959   \n",
       "3487  ENSP00000324742      IL32  1.086267e-11  0.488842  10.964064   \n",
       "5922  ENSP00000348751    BTN3A2  5.522555e-27  0.493148  26.257860   \n",
       "9166  ENSP00000263464     BIRC3  1.208733e-27  0.453889  26.917670   \n",
       "\n",
       "                 ENSG  tumor_means  nontumor_means  \n",
       "638   ENSG00000179242    24.774652       17.861177  \n",
       "672   ENSG00000128805    26.457371       18.813425  \n",
       "1614  ENSG00000164066    30.602475       21.689082  \n",
       "3209  ENSG00000232629    29.414726       21.384040  \n",
       "3487  ENSG00000008517    81.163298       57.836692  \n",
       "5922  ENSG00000186470    41.460355       29.456461  \n",
       "9166  ENSG00000023445    19.229287       14.038770  "
      ]
     },
     "execution_count": 23,
     "metadata": {},
     "output_type": "execute_result"
    }
   ],
   "source": [
    "agg_lupine_sub"
   ]
  },
  {
   "cell_type": "code",
   "execution_count": null,
   "id": "64527609-fb93-48c4-8b9f-26b379acff6f",
   "metadata": {},
   "outputs": [],
   "source": []
  }
 ],
 "metadata": {
  "kernelspec": {
   "display_name": "deep-impute",
   "language": "python",
   "name": "deep-impute"
  },
  "language_info": {
   "codemirror_mode": {
    "name": "ipython",
    "version": 3
   },
   "file_extension": ".py",
   "mimetype": "text/x-python",
   "name": "python",
   "nbconvert_exporter": "python",
   "pygments_lexer": "ipython3",
   "version": "3.9.19"
  }
 },
 "nbformat": 4,
 "nbformat_minor": 5
}
