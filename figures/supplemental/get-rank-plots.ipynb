{
 "cells": [
  {
   "cell_type": "markdown",
   "id": "78f92d59-56fc-4951-88ed-326c90fcbc04",
   "metadata": {},
   "source": [
    "# get-rank-plots\n",
    "8.23.24"
   ]
  },
  {
   "cell_type": "code",
   "execution_count": 1,
   "id": "ddf4797c-fcd4-43e5-abba-7397da07caf5",
   "metadata": {},
   "outputs": [],
   "source": [
    "import pandas as pd\n",
    "import numpy as np \n",
    "from tqdm import tqdm\n",
    "from Bio import SeqIO\n",
    "from scipy import stats\n",
    "from adjustText import adjust_text\n",
    "\n",
    "import matplotlib.pyplot as plt\n",
    "import seaborn as sns\n",
    "\n",
    "# plotting templates\n",
    "sns.set(context=\"talk\", style=\"ticks\") \n",
    "pal = sns.color_palette(\"tab10\")"
   ]
  },
  {
   "cell_type": "markdown",
   "id": "2d5c89d6-e060-4473-bc75-59fb08bba26b",
   "metadata": {},
   "source": [
    "#### Configs"
   ]
  },
  {
   "cell_type": "code",
   "execution_count": 63,
   "id": "22af2d92-145b-4b3a-9321-44a2585b95b4",
   "metadata": {},
   "outputs": [],
   "source": [
    "# The unimputed joint quants matrix\n",
    "joint_fname=\"/net/noble/vol2/home/lincolnh/data/quant-data/UMich-normalized/joint-quants-normalized-shifted.csv\"\n",
    "min_pres=18\n",
    "\n",
    "# The Lupine recon matrix\n",
    "lupine_recon_ensembled_path=\"/net/noble/vol2/home/lincolnh/code/2023_harris_deep_impute/results/2024-05-30_DE_sandbox/results/lupine-ensemble-imputed.csv\"\n",
    "\n",
    "# The Ensemble (GENCODEv44) fasta\n",
    "ensembl_path=\"/net/noble/vol2/home/lincolnh/code/2023_harris_deep_impute/results/2023-11-13_UMich_dataset/fastas/\"\n",
    "ensembl_df=\"gencode.v44.pc_translations.fa\"\n",
    "\n",
    "# The HGNC database file\n",
    "hgnc_database_path=\"/net/noble/vol2/home/lincolnh/data/quant-data/HGNC_database.txt\"\n",
    "\n",
    "# The metadata dictionary, previously created\n",
    "meta_path=\"/net/noble/vol2/home/lincolnh/code/2023_harris_deep_impute/results/2024-05-10_metadata_mapping/meta-dict.csv\"\n",
    "\n",
    "cohort_ids=[\"BRCA\", \"CCRCC\", \"COAD\", \"GBM\", \"HGSC\", \n",
    "            \"HNSCC\", \"LSCC\", \"LUAD\", \"PDAC\", \"UCEC\"]\n",
    "\n",
    "# Set the thresholds\n",
    "adjusted_alpha=1e-2\n",
    "fc_thresh=0.5\n",
    "pres_frac_thresh=0.5 # Default here is 50%\n",
    "\n",
    "curr_cohort = \"UCEC\"\n",
    "\n",
    "rng = np.random.default_rng(seed=18)"
   ]
  },
  {
   "cell_type": "markdown",
   "id": "fb392631-6f1a-40ad-99e1-0c257e3cc0f0",
   "metadata": {},
   "source": [
    "#### Functions"
   ]
  },
  {
   "cell_type": "code",
   "execution_count": 64,
   "id": "2d1131c7-1da2-4a93-9509-265a1b7a6581",
   "metadata": {},
   "outputs": [],
   "source": [
    "def random_draw_impute(vec):\n",
    "    \"\"\"\n",
    "    Imputes for a single *column* at a time using the Gaussian\n",
    "    random draw procedure. This closely resembles the Perseus\n",
    "    procedure described here: \n",
    "    https://cox-labs.github.io/coxdocs/replacemissingfromgaussian.html\n",
    "    \n",
    "    Parameters\n",
    "    ----------\n",
    "    vec : np.array, \n",
    "        A 1D vector, that is, column from the matrix\n",
    "        to be imputed. \n",
    "\n",
    "    Returns\n",
    "    ----------\n",
    "    vec_recon : np.array, \n",
    "        The imputed vector\n",
    "    \"\"\"\n",
    "    width_param=0.3\n",
    "    downshift_param=1.8\n",
    "    #print(len(vec))\n",
    "    \n",
    "    # Get the means and std\n",
    "    v_mean = np.nanmean(vec)\n",
    "    v_std = np.nanstd(vec)\n",
    "    \n",
    "    # Get the locations of the MVs\n",
    "    nans = np.isnan(vec)\n",
    "    vec_recon = vec.copy()\n",
    "    \n",
    "    # How many total MVs? \n",
    "    n_mv = np.count_nonzero(nans)\n",
    "    \n",
    "    center = v_mean - (v_std * downshift_param)\n",
    "\n",
    "    # Replace missing values with random draws\n",
    "    vec_recon[nans] = rng.normal(\n",
    "                        loc=center,\n",
    "                        scale=v_std*width_param,\n",
    "                        size=n_mv\n",
    "    )\n",
    "    # Make sure we don't have any negative values\n",
    "    vec_recon = np.abs(vec_recon)\n",
    "    \n",
    "    return vec_recon\n",
    "    \n",
    "def bh_adjustment(pvals):\n",
    "    \"\"\"\n",
    "    Performs the Benjamini-Hochberg procedure\n",
    "    for p-value ADJUSTMENT. So this means we actually \n",
    "    return a list of corrected p-values, not just a \n",
    "    boolean specifying which p-values to keep per the\n",
    "    FDR controlled at some threshold. \n",
    "    \n",
    "    Parameters\n",
    "    ----------\n",
    "    pvals : np.ndarray, \n",
    "        The sorted list of uncorrected p-values. Sorted\n",
    "        from smallest to largest\n",
    "\n",
    "    Returns\n",
    "    -----------\n",
    "    pvals_adjusted : list, \n",
    "        A list of the BH adjusted p-values\n",
    "    \"\"\"\n",
    "    pvals_adjusted = []\n",
    "\n",
    "    for i in range(0, len(pvals)):\n",
    "        rank = i + 1\n",
    "        curr_pval = pvals[i]\n",
    "        pval_adj = (curr_pval * len(pvals)) / rank\n",
    "        pvals_adjusted.append(pval_adj)        \n",
    "\n",
    "    return pvals_adjusted\n",
    "\n",
    "def add_hgnc_ids(df, d):\n",
    "    \"\"\"\n",
    "    Our protein quants matrices have Ensemble (ENSP) IDs. We\n",
    "    need to map on HGNC IDs to the differential expression stats\n",
    "    dataframes. \n",
    "    \n",
    "    Parameters\n",
    "    ----------\n",
    "    df : pandas.DataFrame,\n",
    "        A dataframe with differential expression statistics for a \n",
    "        single imputation method\n",
    "    d : dict, \n",
    "        A dictionary mapping ENSPs to HGNC IDs\n",
    "\n",
    "    Returns\n",
    "    ----------\n",
    "    df : pandas.DataFrame, \n",
    "        The ammended dataframe.     \n",
    "    \"\"\"\n",
    "    for idx in range(0, df.shape[0]):\n",
    "        curr = df.iloc[idx]\n",
    "        curr_ensp = curr[\"ENSP\"]\n",
    "        try:\n",
    "            curr_ensg = d[curr_ensp]\n",
    "        except KeyError:\n",
    "            curr_ensg = None\n",
    "    \n",
    "        # Add the ENSG ID\n",
    "        df.loc[idx, \"ENSG\"] = curr_ensg\n",
    "    \n",
    "        # Add in the HGNC gene ID as well \n",
    "        if curr_ensg is not None:\n",
    "            try:\n",
    "                hgnc_row = hgnc_db[hgnc_db[\"ensembl_gene_id\"] == curr_ensg]\n",
    "                hgnc_id = hgnc_row[\"symbol\"].item()\n",
    "    \n",
    "                df.loc[idx, \"HGNC\"] = hgnc_id\n",
    "            except ValueError:\n",
    "                pass\n",
    "\n",
    "    return df"
   ]
  },
  {
   "cell_type": "markdown",
   "id": "15a61020-5475-46e5-a38a-bf6473b34b58",
   "metadata": {},
   "source": [
    "#### Subset metadata to a single cohort, get tumor and nontumor IDs"
   ]
  },
  {
   "cell_type": "code",
   "execution_count": 65,
   "id": "a0441cc0-362a-424f-ac3a-a91ca1a8b2a2",
   "metadata": {},
   "outputs": [
    {
     "name": "stdout",
     "output_type": "stream",
     "text": [
      "104\n",
      "31\n"
     ]
    }
   ],
   "source": [
    "# Might need `index_col=0` here\n",
    "meta_dict = pd.read_csv(meta_path)\n",
    "meta_dict = meta_dict[meta_dict[\"cohort\"] == curr_cohort]\n",
    "meta_dict = meta_dict.reset_index(drop=True)\n",
    "\n",
    "tumor_samples_meta = meta_dict[(meta_dict[\"sample_type\"] == \"Primary Tumor\") | (meta_dict[\"sample_type\"] == \"Tumor\")]\n",
    "nontumor_samples_meta = meta_dict[(meta_dict[\"sample_type\"] != \"Primary Tumor\") & (meta_dict[\"sample_type\"] != \"Tumor\")]\n",
    "\n",
    "tumor_IDs = list(tumor_samples_meta[\"aliquot_ID\"])\n",
    "nontumor_IDs = list(nontumor_samples_meta[\"aliquot_ID\"])\n",
    "\n",
    "print(len(tumor_IDs))\n",
    "print(len(nontumor_IDs))"
   ]
  },
  {
   "cell_type": "markdown",
   "id": "2ac3a5a2-8512-4c9c-8e10-31224f12df77",
   "metadata": {},
   "source": [
    "#### Pre-process the unimputed joint quants matrix"
   ]
  },
  {
   "cell_type": "code",
   "execution_count": 66,
   "id": "eacdaef9-2dd8-4e24-b5ea-a92ce6e111ae",
   "metadata": {},
   "outputs": [
    {
     "name": "stdout",
     "output_type": "stream",
     "text": [
      "joint quants mat shape, post-filter: (18162, 1755)\n"
     ]
    }
   ],
   "source": [
    "# Read in the joint quants matrix\n",
    "joint_mat = pd.read_csv(joint_fname, index_col=0)\n",
    "\n",
    "# Remove some of these extraneous runs\n",
    "keywords = [\"RefInt\", \"QC\", \"pool\", \"Tumor\", \"Pooled\", \n",
    "            \"Pool\", \"Reference\", \"NCI\", \"NX\", \"Ref\"]\n",
    "to_drop = []\n",
    "\n",
    "for sample_id in list(joint_mat.columns):\n",
    "    exclude=False\n",
    "    for kw in keywords:\n",
    "        if kw in sample_id:\n",
    "            exclude=True\n",
    "            break\n",
    "    to_drop.append(exclude)\n",
    "\n",
    "keep_cols = np.array(joint_mat.columns)[~np.array(to_drop)]\n",
    "joint_mat = joint_mat[keep_cols]\n",
    "\n",
    "joint = np.array(joint_mat)\n",
    "\n",
    "# Remove proteins with too many missing values\n",
    "num_present = np.sum(~np.isnan(joint), axis=1)\n",
    "discard = num_present < min_pres\n",
    "joint = np.delete(joint, discard, axis=0)\n",
    "keep_prots = np.array(joint_mat.index)[~discard]\n",
    "\n",
    "print(f\"joint quants mat shape, post-filter: {joint.shape}\")\n",
    "\n",
    "joint_start = pd.DataFrame(joint, columns=keep_cols, index=keep_prots)"
   ]
  },
  {
   "cell_type": "markdown",
   "id": "9ccb3389-901b-4270-a142-46764791bc00",
   "metadata": {},
   "source": [
    "#### Remove proteins with >50% missingness"
   ]
  },
  {
   "cell_type": "code",
   "execution_count": 67,
   "id": "7d65541b-080f-474c-9051-028a6d595ced",
   "metadata": {},
   "outputs": [
    {
     "name": "stdout",
     "output_type": "stream",
     "text": [
      "(10108, 135)\n"
     ]
    }
   ],
   "source": [
    "cohort_quants_start = joint_start[tumor_IDs + nontumor_IDs]\n",
    "\n",
    "num_present = np.sum(~np.isnan(cohort_quants_start), axis=1)\n",
    "pres_fracs = num_present / cohort_quants_start.shape[1]\n",
    "\n",
    "cohort_quants_start = cohort_quants_start[pres_fracs >= pres_frac_thresh]\n",
    "print(cohort_quants_start.shape)\n",
    "\n",
    "keep_prots_cohort = list(cohort_quants_start.index)"
   ]
  },
  {
   "cell_type": "markdown",
   "id": "1bbd96fc-c6a1-4f16-b0e9-bc0178e3d0ef",
   "metadata": {},
   "source": [
    "#### Pre-process the DreamAI and Lupine imputed quants matrices"
   ]
  },
  {
   "cell_type": "code",
   "execution_count": 68,
   "id": "bd1e57d1-8888-4c91-a263-769fccdece00",
   "metadata": {},
   "outputs": [
    {
     "name": "stdout",
     "output_type": "stream",
     "text": [
      "(12505, 135)\n",
      "(10108, 1755)\n"
     ]
    }
   ],
   "source": [
    "dream_imputed_cohort = pd.read_csv(\"imputed/\" + curr_cohort + \"_dreamAI_recon.csv\", index_col=0)\n",
    "unimputed_cohort = pd.read_csv(\"unimputed/\" + curr_cohort + \"_unimputed_annotated.csv\", index_col=0)\n",
    "\n",
    "dream_imputed_cohort.index = unimputed_cohort.index\n",
    "dream_imputed_cohort.columns = unimputed_cohort.columns\n",
    "\n",
    "lupine_recon = pd.read_csv(lupine_recon_ensembled_path, index_col=0)\n",
    "lupine_recon = lupine_recon.loc[keep_prots_cohort]\n",
    "\n",
    "print(dream_imputed_cohort.shape)\n",
    "print(lupine_recon.shape)"
   ]
  },
  {
   "cell_type": "markdown",
   "id": "84e33dec-4ec7-41ad-ab74-a7d346aedf81",
   "metadata": {},
   "source": [
    "#### Exponentiate to get the original, untransformed intensities"
   ]
  },
  {
   "cell_type": "code",
   "execution_count": 69,
   "id": "c3f29fb0-3c2a-4da6-a31b-518f234e4619",
   "metadata": {},
   "outputs": [],
   "source": [
    "joint_start = np.power(2, joint_start)\n",
    "lupine_recon = np.power(2, lupine_recon)\n",
    "dream_imputed_cohort = np.power(2, dream_imputed_cohort)"
   ]
  },
  {
   "cell_type": "markdown",
   "id": "5344c3e5-4c6c-441b-a083-25d71cedb3c3",
   "metadata": {},
   "source": [
    "#### Get imputed/unimputed quants matrices for tumor and non-tumor samples\n",
    "Shapes should match up now. "
   ]
  },
  {
   "cell_type": "code",
   "execution_count": 70,
   "id": "b6a23cb6-992c-4835-8e94-6cf5093cefa0",
   "metadata": {},
   "outputs": [
    {
     "name": "stdout",
     "output_type": "stream",
     "text": [
      "(10108, 104)\n",
      "(10108, 104)\n",
      "(10108, 104)\n",
      "\n",
      "(10108, 31)\n",
      "(10108, 31)\n",
      "(10108, 31)\n"
     ]
    }
   ],
   "source": [
    "# Retain only the proteins with initial mv fracs <0.5\n",
    "lupine_recon = lupine_recon.loc[keep_prots_cohort]\n",
    "dream_imputed_cohort = dream_imputed_cohort.loc[keep_prots_cohort]\n",
    "unimputed_cohort = joint_start.loc[keep_prots_cohort]\n",
    "\n",
    "# Create separate matrices for tumor and non-tumor quants\n",
    "lupine_tumor = lupine_recon[tumor_IDs]\n",
    "lupine_nontumor = lupine_recon[nontumor_IDs]\n",
    "dream_tumor = dream_imputed_cohort[tumor_IDs]\n",
    "dream_nontumor = dream_imputed_cohort[nontumor_IDs]\n",
    "\n",
    "# For unimputed as well \n",
    "unimputed_tumor = unimputed_cohort[tumor_IDs]\n",
    "unimputed_nontumor = unimputed_cohort[nontumor_IDs]\n",
    "\n",
    "# Convert to numpy arrays\n",
    "lupine_tumor_mat = np.array(lupine_tumor)\n",
    "lupine_nontumor_mat = np.array(lupine_nontumor)\n",
    "dream_tumor_mat = np.array(dream_tumor)\n",
    "dream_nontumor_mat = np.array(dream_nontumor)\n",
    "\n",
    "unimputed_tumor_mat = np.array(unimputed_tumor)\n",
    "unimputed_nontumor_mat = np.array(unimputed_nontumor)\n",
    "\n",
    "print(lupine_tumor_mat.shape)\n",
    "print(dream_tumor_mat.shape)\n",
    "print(unimputed_tumor_mat.shape)\n",
    "print(\"\")\n",
    "\n",
    "print(lupine_nontumor_mat.shape)\n",
    "print(dream_nontumor_mat.shape)\n",
    "print(unimputed_nontumor_mat.shape)"
   ]
  },
  {
   "cell_type": "markdown",
   "id": "51622f9a-0b38-4c6c-bb6d-6f2eae8b7741",
   "metadata": {},
   "source": [
    "#### Apply Gaussian random sampling imputation "
   ]
  },
  {
   "cell_type": "code",
   "execution_count": 71,
   "id": "97785920-01c7-4ae7-a9e8-457254d62836",
   "metadata": {},
   "outputs": [],
   "source": [
    "grs_tumor_mat = np.apply_along_axis(random_draw_impute, 0, unimputed_tumor_mat)\n",
    "grs_nontumor_mat = np.apply_along_axis(random_draw_impute, 0, unimputed_nontumor_mat)"
   ]
  },
  {
   "cell_type": "markdown",
   "id": "f3daab1e-8f3f-43e2-8ad1-44b60f0da3df",
   "metadata": {},
   "source": [
    "#### DE testing for Lupine imputed quants"
   ]
  },
  {
   "cell_type": "code",
   "execution_count": 72,
   "id": "8dfd0de1-be34-4d4c-aa44-d2910f16caeb",
   "metadata": {},
   "outputs": [],
   "source": [
    "lupine_pvals = []\n",
    "lupine_rs_stats = []\n",
    "\n",
    "for i in range(0, lupine_tumor_mat.shape[0]):\n",
    "    stat, pval = stats.ranksums(lupine_tumor_mat[i], lupine_nontumor_mat[i], nan_policy=\"omit\")\n",
    "    lupine_pvals.append(pval)\n",
    "    lupine_rs_stats.append(stat)\n",
    "\n",
    "# Init a dataframe to hold the p-values and adjusted p-values\n",
    "lupine_stats = pd.DataFrame(columns = [\"ENSP\", \"pval\", \"adj_pval\", \"orig_idx\"])\n",
    "lupine_stats[\"ENSP\"] = list(lupine_tumor.index)\n",
    "lupine_stats[\"pval\"] = lupine_pvals"
   ]
  },
  {
   "cell_type": "markdown",
   "id": "d756623e-a263-4d69-b912-98e223839efb",
   "metadata": {},
   "source": [
    "#### DE testing for DreamAI imputed quants"
   ]
  },
  {
   "cell_type": "code",
   "execution_count": 73,
   "id": "c2754ae8-ad7f-4db2-bea7-ebb8b7361587",
   "metadata": {},
   "outputs": [],
   "source": [
    "dream_pvals = []\n",
    "dream_rs_stats = []\n",
    "\n",
    "for i in range(0, dream_tumor_mat.shape[0]):\n",
    "    stat, pval = stats.ranksums(dream_tumor_mat[i], dream_nontumor_mat[i], nan_policy=\"omit\")\n",
    "    dream_pvals.append(pval)\n",
    "    dream_rs_stats.append(stat)\n",
    "\n",
    "# Init a dataframe to hold the p-values and adjusted p-values\n",
    "dream_stats = pd.DataFrame(columns = [\"ENSP\", \"pval\", \"adj_pval\", \"orig_idx\"])\n",
    "dream_stats[\"ENSP\"] = list(dream_tumor.index)\n",
    "dream_stats[\"pval\"] = dream_pvals"
   ]
  },
  {
   "cell_type": "markdown",
   "id": "53cafa02-d98f-4c21-a583-0d02813df330",
   "metadata": {},
   "source": [
    "#### DE testing for Gaussian random sampling imputed quants"
   ]
  },
  {
   "cell_type": "code",
   "execution_count": 74,
   "id": "85dd5daa-3e18-4972-a297-f0e0f2a778d8",
   "metadata": {},
   "outputs": [],
   "source": [
    "grs_pvals = []\n",
    "grs_rs_stats = []\n",
    "\n",
    "for i in range(0, grs_tumor_mat.shape[0]):\n",
    "    stat, pval = stats.ranksums(grs_tumor_mat[i], grs_nontumor_mat[i], nan_policy=\"omit\")\n",
    "    grs_pvals.append(pval)\n",
    "    grs_rs_stats.append(stat)\n",
    "\n",
    "# Init a dataframe to hold the p-values and adjusted p-values\n",
    "grs_stats = pd.DataFrame(columns = [\"ENSP\", \"pval\", \"adj_pval\", \"orig_idx\"])\n",
    "grs_stats[\"ENSP\"] = list(unimputed_tumor.index)\n",
    "grs_stats[\"pval\"] = grs_pvals"
   ]
  },
  {
   "cell_type": "markdown",
   "id": "565cd902-e2c2-42fe-97f9-94d55f375251",
   "metadata": {},
   "source": [
    "#### Do Benjamani-Hochberg correction for Lupine imputed quants"
   ]
  },
  {
   "cell_type": "code",
   "execution_count": 75,
   "id": "02572a7d-ee3e-468d-98b2-03004c5917d2",
   "metadata": {},
   "outputs": [],
   "source": [
    "# Sort by uncorrected p-values\n",
    "lupine_stats = lupine_stats.sort_values(by=\"pval\")\n",
    "# Do the BH adjustment\n",
    "lupine_pvals_corrected = bh_adjustment(np.array(lupine_stats[\"pval\"]))\n",
    "lupine_stats[\"adj_pval\"] = lupine_pvals_corrected\n",
    "lupine_stats[\"orig_idx\"] = list(lupine_stats.index)\n",
    "\n",
    "# Return to the initial order\n",
    "lupine_stats = lupine_stats.sort_values(by=\"orig_idx\")"
   ]
  },
  {
   "cell_type": "markdown",
   "id": "64d3e4dc-0677-4c5c-8cfa-e0e50fd8b58e",
   "metadata": {},
   "source": [
    "#### And BH correction for DreamAI imputed quants"
   ]
  },
  {
   "cell_type": "code",
   "execution_count": 76,
   "id": "1c50d91d-6dcc-4b92-b47f-661d3dc7116c",
   "metadata": {},
   "outputs": [],
   "source": [
    "# Sort by uncorrected p-values\n",
    "dream_stats = dream_stats.sort_values(by=\"pval\")\n",
    "# Do the BH adjustment\n",
    "dream_pvals_corrected = bh_adjustment(np.array(dream_stats[\"pval\"]))\n",
    "dream_stats[\"adj_pval\"] = dream_pvals_corrected\n",
    "dream_stats[\"orig_idx\"] = list(dream_stats.index)\n",
    "\n",
    "# Return to the initial order\n",
    "dream_stats = dream_stats.sort_values(by=\"orig_idx\")"
   ]
  },
  {
   "cell_type": "markdown",
   "id": "5f7320cb-e419-4ded-a066-1f2a523528ac",
   "metadata": {},
   "source": [
    "#### And BH correction for Gaussian random sample imputed quants"
   ]
  },
  {
   "cell_type": "code",
   "execution_count": 77,
   "id": "d298de52-eb93-4437-bb74-c5c870dba4b5",
   "metadata": {},
   "outputs": [],
   "source": [
    "# Sort by uncorrected p-values\n",
    "grs_stats = grs_stats.sort_values(by=\"pval\")\n",
    "# Do the BH adjustment\n",
    "grs_pvals_corrected = bh_adjustment(np.array(grs_stats[\"pval\"]))\n",
    "grs_stats[\"adj_pval\"] = grs_pvals_corrected\n",
    "grs_stats[\"orig_idx\"] = list(grs_stats.index)\n",
    "\n",
    "# Return to the initial order\n",
    "grs_stats = grs_stats.sort_values(by=\"orig_idx\")"
   ]
  },
  {
   "cell_type": "markdown",
   "id": "0bd67e59-6ce4-4a8a-b35c-7a80f368992d",
   "metadata": {},
   "source": [
    "#### Get the log2 fold changes for Lupine imputed quants"
   ]
  },
  {
   "cell_type": "code",
   "execution_count": 78,
   "id": "0d81e9a8-0940-4b9f-90bc-99d89468c744",
   "metadata": {},
   "outputs": [],
   "source": [
    "lupine_tumor_means = np.nanmean(lupine_tumor_mat, axis=1)\n",
    "lupine_nontumor_means = np.nanmean(lupine_nontumor_mat, axis=1)\n",
    "\n",
    "lupine_fc = np.log2(lupine_tumor_means / lupine_nontumor_means)\n",
    "\n",
    "lupine_fdr = -np.log10(np.array(lupine_stats[\"adj_pval\"]))\n",
    "\n",
    "lupine_stats[\"FC\"] = lupine_fc\n",
    "lupine_stats[\"FDR\"] = lupine_fdr"
   ]
  },
  {
   "cell_type": "markdown",
   "id": "3ff95fca-8f02-4bf4-920d-d7679bfb36a5",
   "metadata": {},
   "source": [
    "#### And the log2 fold changes for DreamAI"
   ]
  },
  {
   "cell_type": "code",
   "execution_count": 79,
   "id": "080a0eec-809a-4648-9dee-3452785dcc91",
   "metadata": {},
   "outputs": [],
   "source": [
    "dream_tumor_means = np.nanmean(dream_tumor_mat, axis=1)\n",
    "dream_nontumor_means = np.nanmean(dream_nontumor_mat, axis=1)\n",
    "\n",
    "dream_fc = np.log2(dream_tumor_means / dream_nontumor_means)\n",
    "\n",
    "dream_fdr = -np.log10(np.array(dream_stats[\"adj_pval\"]))\n",
    "\n",
    "dream_stats[\"FC\"] = dream_fc\n",
    "dream_stats[\"FDR\"] = dream_fdr"
   ]
  },
  {
   "cell_type": "markdown",
   "id": "e94df2f7-43b3-40f8-b957-c18fd5737fc5",
   "metadata": {},
   "source": [
    "#### And the log2 fold changes for Gaussian random sample"
   ]
  },
  {
   "cell_type": "code",
   "execution_count": 80,
   "id": "bc1a6b4f-0ff0-466c-90de-c6aab01b3942",
   "metadata": {},
   "outputs": [],
   "source": [
    "grs_tumor_means = np.nanmean(grs_tumor_mat, axis=1)\n",
    "grs_nontumor_means = np.nanmean(grs_nontumor_mat, axis=1)\n",
    "\n",
    "grs_fc = np.log2(grs_tumor_means / grs_nontumor_means)\n",
    "\n",
    "grs_fdr = -np.log10(np.array(grs_stats[\"adj_pval\"]))\n",
    "\n",
    "grs_stats[\"FC\"] = grs_fc\n",
    "grs_stats[\"FDR\"] = grs_fdr"
   ]
  },
  {
   "cell_type": "markdown",
   "id": "ab058e15-48e6-4a28-b47a-16d558117fb0",
   "metadata": {},
   "source": [
    "#### Create a dictionary mapping ENSPs to HGNCs"
   ]
  },
  {
   "cell_type": "code",
   "execution_count": 81,
   "id": "d490ca37-5199-4f4d-b570-7cbee7cf0601",
   "metadata": {},
   "outputs": [
    {
     "name": "stderr",
     "output_type": "stream",
     "text": [
      "/tmp/ipykernel_2227498/1917651185.py:2: DtypeWarning: Columns (31,38) have mixed types. Specify dtype option on import or set low_memory=False.\n",
      "  hgnc_db = pd.read_csv(hgnc_database_path, sep=\"\\t\")\n"
     ]
    }
   ],
   "source": [
    "# Read in the HGNC database file\n",
    "hgnc_db = pd.read_csv(hgnc_database_path, sep=\"\\t\")\n",
    "\n",
    "# Read in the ENSEMBL fasta\n",
    "ensembl_fasta = ensembl_path + ensembl_df\n",
    "fasta_seqs = SeqIO.parse(open(ensembl_fasta), \"fasta\")\n",
    "\n",
    "# Init both dictionaries\n",
    "gene_x_prot = {}\n",
    "prot_x_gene = {}\n",
    "\n",
    "# Fill in the dictionary \n",
    "for fasta in fasta_seqs:\n",
    "    name, descript, sequence = \\\n",
    "        fasta.id, fasta.description, str(fasta.seq)\n",
    "    # Get the ENSP and ENSG IDs\n",
    "    ensp_id = name.split(\"|\")[0]\n",
    "    ensg_id = name.split(\"|\")[2]\n",
    "    # Strip the \".x\" characters. Hope this is ok.\n",
    "    ensp_id = ensp_id.split(\".\")[0]\n",
    "    ensg_id = ensg_id.split(\".\")[0]\n",
    "    \n",
    "    # Update the first dictionary\n",
    "    prot_x_gene[ensp_id] = ensg_id\n",
    "    \n",
    "    # Update the second\n",
    "    if ensg_id in gene_x_prot:\n",
    "        gene_x_prot[ensg_id].append(ensp_id)\n",
    "    else:\n",
    "        gene_x_prot[ensg_id] = [ensp_id]"
   ]
  },
  {
   "cell_type": "markdown",
   "id": "e715f8a4-5c72-4966-8bc2-84c1262c71bf",
   "metadata": {},
   "source": [
    "#### Append the HGNC IDs to each method's stats dataframe"
   ]
  },
  {
   "cell_type": "code",
   "execution_count": 82,
   "id": "3e6793d2-a3c0-488e-b96d-aa484991bf98",
   "metadata": {},
   "outputs": [],
   "source": [
    "lupine_stats = add_hgnc_ids(lupine_stats, prot_x_gene)\n",
    "dream_stats = add_hgnc_ids(dream_stats, prot_x_gene)\n",
    "grs_stats = add_hgnc_ids(grs_stats, prot_x_gene)"
   ]
  },
  {
   "cell_type": "markdown",
   "id": "531f111a-ec8b-43e6-872a-819c89e0ba7f",
   "metadata": {},
   "source": [
    "#### Log2 transform the protein intensities?\n",
    "Should probably do this before computing the means. "
   ]
  },
  {
   "cell_type": "code",
   "execution_count": 83,
   "id": "f7bd2dcd-fb27-49d8-8adb-dbc2eff01cca",
   "metadata": {},
   "outputs": [],
   "source": [
    "lupine_tumor_mat = np.log2(lupine_tumor_mat)\n",
    "lupine_nontumor_mat = np.log2(lupine_nontumor_mat)\n",
    "\n",
    "dream_tumor_mat = np.log2(dream_tumor_mat)\n",
    "dream_nontumor_mat = np.log2(dream_nontumor_mat)\n",
    "\n",
    "grs_tumor_mat = np.log2(grs_tumor_mat)\n",
    "grs_nontumor_mat = np.log2(grs_nontumor_mat)"
   ]
  },
  {
   "cell_type": "markdown",
   "id": "e0c44fba-18fd-4ebc-9953-9c2ce4918cbe",
   "metadata": {},
   "source": [
    "#### Get tumor/non-tumor protein mean intensities, for all three methods"
   ]
  },
  {
   "cell_type": "code",
   "execution_count": 84,
   "id": "18516e49-8e19-4d34-bff6-8e23c792aab0",
   "metadata": {},
   "outputs": [],
   "source": [
    "# FOR LUPINE\n",
    "lupine_tumor_means = np.mean(lupine_tumor_mat, axis=1)\n",
    "lupine_nontumor_means = np.mean(lupine_nontumor_mat, axis=1)\n",
    "\n",
    "lupine_stats[\"tumor_means\"] = list(lupine_tumor_means)\n",
    "lupine_stats[\"nontumor_means\"] = list(lupine_nontumor_means)\n",
    "\n",
    "# FOR DREAM\n",
    "dream_tumor_means = np.mean(dream_tumor_mat, axis=1)\n",
    "dream_nontumor_means = np.mean(dream_nontumor_mat, axis=1)\n",
    "\n",
    "dream_stats[\"tumor_means\"] = list(dream_tumor_means)\n",
    "dream_stats[\"nontumor_means\"] = list(dream_nontumor_means)\n",
    "\n",
    "# FOR GAUSSIAN RANDOM SAMPLE \n",
    "grs_tumor_means = np.mean(grs_tumor_mat, axis=1)\n",
    "grs_nontumor_means = np.mean(grs_nontumor_mat, axis=1)\n",
    "\n",
    "grs_stats[\"tumor_means\"] = list(grs_tumor_means)\n",
    "grs_stats[\"nontumor_means\"] = list(grs_nontumor_means)"
   ]
  },
  {
   "cell_type": "markdown",
   "id": "0b9cd59f-0f87-4d21-a2ea-eef22bf1c912",
   "metadata": {},
   "source": [
    "#### Sort, then attach y-coordinates\n",
    "Just for the Lupine matrix"
   ]
  },
  {
   "cell_type": "code",
   "execution_count": 85,
   "id": "a37e631f-b83e-479f-b90e-a571cffca9a7",
   "metadata": {
    "scrolled": true
   },
   "outputs": [],
   "source": [
    "lupine_stats = lupine_stats.sort_values(by=\"nontumor_means\")\n",
    "y_coords = list(range(0, lupine_stats.shape[0], 1))\n",
    "y_coords.reverse()\n",
    "lupine_stats[\"y_coord\"] = y_coords"
   ]
  },
  {
   "cell_type": "markdown",
   "id": "ad0ac8d1-0db8-40a7-8d64-53e32bf1066b",
   "metadata": {},
   "source": [
    "#### Get the most basic rank plot\n",
    "For Lupine imputed quants"
   ]
  },
  {
   "cell_type": "code",
   "execution_count": 86,
   "id": "56050a77-919e-49b1-9b8f-5c7c8c9793ae",
   "metadata": {},
   "outputs": [
    {
     "data": {
      "image/png": "[encoded data removed]",
      "text/plain": [
       "<Figure size 640x480 with 1 Axes>"
      ]
     },
     "metadata": {},
     "output_type": "display_data"
    }
   ],
   "source": [
    "plt.figure()\n",
    "\n",
    "sns.scatterplot(data=lupine_stats, x=\"nontumor_means\", y=\"y_coord\", alpha=1.0, linewidth=0.0)\n",
    "\n",
    "plt.xlabel(\"Average Protein Intensity\", labelpad=10)\n",
    "plt.ylabel(\"Rank\", labelpad=10)\n",
    "plt.title(curr_cohort, pad=14, size=24)\n",
    "\n",
    "plt.yticks([], [])\n",
    "\n",
    "plt.show()"
   ]
  },
  {
   "cell_type": "markdown",
   "id": "ed3221a0-ee46-4644-90c1-6b43f3ce53f3",
   "metadata": {},
   "source": [
    "---\n",
    "## Now map on the Lupine-unique DE proteins"
   ]
  },
  {
   "cell_type": "markdown",
   "id": "3e1ca0ed-7fa0-4330-b330-e957ddce7fbb",
   "metadata": {},
   "source": [
    "#### Start by getting the up-and down-regulated proteins for each method"
   ]
  },
  {
   "cell_type": "code",
   "execution_count": 87,
   "id": "974d70e8-86a0-423f-a93a-4ccc09e4f8a8",
   "metadata": {},
   "outputs": [
    {
     "name": "stdout",
     "output_type": "stream",
     "text": [
      "Lupine up-reg: 33\n",
      "Lupine down-reg: 344\n",
      "\n",
      "Dream up-reg: 29\n",
      "Dream down-reg: 334\n",
      "\n",
      "Gaussian random sample up-reg: 29\n",
      "Gaussian random sample down-reg: 334\n"
     ]
    }
   ],
   "source": [
    "# FOR LUPINE\n",
    "lupine_up_reg = lupine_stats[(lupine_stats[\"adj_pval\"] < adjusted_alpha) & \\\n",
    "                    (lupine_stats[\"FC\"] >= fc_thresh)]\n",
    "lupine_down_reg = lupine_stats[(lupine_stats[\"adj_pval\"] < adjusted_alpha) & \\\n",
    "                    (lupine_stats[\"FC\"] <= -fc_thresh)]\n",
    "\n",
    "# FOR DREAM\n",
    "dream_up_reg = dream_stats[(dream_stats[\"adj_pval\"] < adjusted_alpha) & \\\n",
    "                    (dream_stats[\"FC\"] >= fc_thresh)]\n",
    "dream_down_reg = dream_stats[(dream_stats[\"adj_pval\"] < adjusted_alpha) & \\\n",
    "                    (dream_stats[\"FC\"] <= -fc_thresh)]\n",
    "\n",
    "# FOR GAUSSIAN RANDOM SAMPLE \n",
    "grs_up_reg = grs_stats[(grs_stats[\"adj_pval\"] < adjusted_alpha) & \\\n",
    "                    (grs_stats[\"FC\"] >= fc_thresh)]\n",
    "grs_down_reg = grs_stats[(grs_stats[\"adj_pval\"] < adjusted_alpha) & \\\n",
    "                    (grs_stats[\"FC\"] <= -fc_thresh)]\n",
    "\n",
    "print(f\"Lupine up-reg: {lupine_up_reg.shape[0]}\")\n",
    "print(f\"Lupine down-reg: {lupine_down_reg.shape[0]}\\n\")\n",
    "\n",
    "print(f\"Dream up-reg: {dream_up_reg.shape[0]}\")\n",
    "print(f\"Dream down-reg: {dream_down_reg.shape[0]}\\n\")\n",
    "\n",
    "print(f\"Gaussian random sample up-reg: {dream_up_reg.shape[0]}\")\n",
    "print(f\"Gaussian random sample down-reg: {dream_down_reg.shape[0]}\")"
   ]
  },
  {
   "cell_type": "markdown",
   "id": "d4c46cce-96cb-40ba-9b68-cea6b6015ab7",
   "metadata": {},
   "source": [
    "#### Get the intersections between Lupine and Dream"
   ]
  },
  {
   "cell_type": "code",
   "execution_count": 88,
   "id": "ab1c2d0b-029b-4677-bcaa-0af41f0cf681",
   "metadata": {},
   "outputs": [
    {
     "name": "stdout",
     "output_type": "stream",
     "text": [
      "Up-reg intersection: 27\n",
      "Up-reg Lupine unique: 5\n",
      "\n",
      "Down-reg intersection: 301\n",
      "Down-reg Lupine unique: 15\n"
     ]
    }
   ],
   "source": [
    "lupine_up_ids = list(lupine_up_reg[\"HGNC\"])\n",
    "lupine_down_ids = list(lupine_down_reg[\"HGNC\"])\n",
    "\n",
    "dream_up_ids = list(dream_up_reg[\"HGNC\"])\n",
    "dream_down_ids = list(dream_down_reg[\"HGNC\"])\n",
    "\n",
    "up_reg_inter = set(np.intersect1d(lupine_up_ids, dream_up_ids))\n",
    "down_reg_inter = set(np.intersect1d(lupine_down_ids, dream_down_ids))\n",
    "\n",
    "# This (hopefully?) takes care of the NaNs\n",
    "#up_reg_inter = list(up_reg_inter)[:-1]\n",
    "#down_reg_inter = list(down_reg_inter)[:-1]\n",
    "\n",
    "lupine_only_up = list(set(lupine_up_ids) - set(up_reg_inter))\n",
    "lupine_only_down = list(set(lupine_down_ids) - set(down_reg_inter))\n",
    "\n",
    "print(f\"Up-reg intersection: {len(up_reg_inter)}\")\n",
    "print(f\"Up-reg Lupine unique: {len(lupine_only_up)}\\n\")\n",
    "\n",
    "print(f\"Down-reg intersection: {len(down_reg_inter)}\")\n",
    "print(f\"Down-reg Lupine unique: {len(lupine_only_down)}\")"
   ]
  },
  {
   "cell_type": "markdown",
   "id": "4a163517-9eff-4ae4-9673-4629fe1cf850",
   "metadata": {},
   "source": [
    "#### And also the intersections between Lupine and Gaussian random sample impute"
   ]
  },
  {
   "cell_type": "code",
   "execution_count": 89,
   "id": "3440a7be-787b-4542-9ca6-88a29316b296",
   "metadata": {},
   "outputs": [
    {
     "name": "stdout",
     "output_type": "stream",
     "text": [
      "4\n",
      "8\n",
      "['AKAP6', 'CXCL17', 'KNL1', 'HOXB4']\n"
     ]
    }
   ],
   "source": [
    "grs_up_ids = list(grs_up_reg[\"HGNC\"])\n",
    "grs_down_ids = list(grs_down_reg[\"HGNC\"])\n",
    "\n",
    "exclude_up = np.intersect1d(grs_up_ids, lupine_only_up)\n",
    "exclude_down = np.intersect1d(grs_down_ids, lupine_only_down)\n",
    "\n",
    "lupine_unique_up = set(lupine_only_up) - set(exclude_up)\n",
    "lupine_unique_down = set(lupine_only_down) - set(exclude_down)\n",
    "\n",
    "# Hopefully get rid of NaNs\n",
    "lupine_unique_up = list(lupine_unique_up)[1:]\n",
    "\n",
    "print(len(lupine_unique_up))\n",
    "print(len(lupine_unique_down))\n",
    "\n",
    "print(lupine_unique_up)"
   ]
  },
  {
   "cell_type": "markdown",
   "id": "ac61e763-14b7-4353-b8a5-bba26d54c55e",
   "metadata": {},
   "source": [
    "#### Get a separate stats dataframe for the Lupine unique proteins"
   ]
  },
  {
   "cell_type": "code",
   "execution_count": 90,
   "id": "8a8f1535-39b5-4b4b-9911-94301231202d",
   "metadata": {},
   "outputs": [],
   "source": [
    "unique_idx = lupine_stats[\"HGNC\"].isin(lupine_unique_up)\n",
    "lupine_stats_unique = lupine_stats[unique_idx]"
   ]
  },
  {
   "cell_type": "markdown",
   "id": "39c67d91-b3e4-47a6-8e00-ec04d355e9de",
   "metadata": {},
   "source": [
    "#### And plot again "
   ]
  },
  {
   "cell_type": "code",
   "execution_count": 91,
   "id": "9a55e92f-e101-4761-b244-47d3976a4e90",
   "metadata": {},
   "outputs": [
    {
     "data": {
      "image/png": "[encoded data removed]",
      "text/plain": [
       "<Figure size 640x480 with 1 Axes>"
      ]
     },
     "metadata": {},
     "output_type": "display_data"
    }
   ],
   "source": [
    "plt.figure()\n",
    "\n",
    "sns.scatterplot(\n",
    "    data=lupine_stats, \n",
    "    x=\"nontumor_means\", \n",
    "    y=\"y_coord\", \n",
    "    alpha=0.5, \n",
    "    linewidth=0.0,\n",
    "    color=\"#1f77b4\",\n",
    ")\n",
    "sns.scatterplot(\n",
    "    data=lupine_stats_unique, \n",
    "    x=\"nontumor_means\", \n",
    "    y=\"y_coord\", \n",
    "    alpha=1.0, \n",
    "    linewidth=0.4,\n",
    "    color=\"#ff7f0e\"\n",
    ")\n",
    "\n",
    "plt.xlabel(\"Average Protein Intensity\", labelpad=10)\n",
    "plt.ylabel(\"Rank\", labelpad=10)\n",
    "plt.title(curr_cohort, pad=14, size=24)\n",
    "\n",
    "plt.yticks([], [])\n",
    "\n",
    "plt.show()"
   ]
  },
  {
   "cell_type": "markdown",
   "id": "dddc0861-1e99-4924-a6f2-53ea6f6c7c69",
   "metadata": {},
   "source": [
    "#### Do this for all three cohorts? \n",
    "Is there a less hacky way to do this? "
   ]
  },
  {
   "cell_type": "code",
   "execution_count": 92,
   "id": "f9d20b4c-5ae6-4b62-a04a-4c620afb5cdd",
   "metadata": {},
   "outputs": [],
   "source": [
    "# lupine_stats_PDAC = lupine_stats\n",
    "# lupine_stats_unique_PDAC = lupine_stats_unique\n",
    "\n",
    "# lupine_stats_CCRCC = lupine_stats\n",
    "# lupine_stats_unique_CCRCC = lupine_stats_unique\n",
    "\n",
    "lupine_stats_UCEC = lupine_stats\n",
    "lupine_stats_unique_UCEC = lupine_stats_unique"
   ]
  },
  {
   "cell_type": "markdown",
   "id": "f9f8d2b6-af23-4fa8-8e6a-2b779f781a2d",
   "metadata": {},
   "source": [
    "#### Get three-way plot"
   ]
  },
  {
   "cell_type": "code",
   "execution_count": 93,
   "id": "4e390d71-f3fa-403c-8e8e-fe5b475dcf1d",
   "metadata": {},
   "outputs": [
    {
     "name": "stderr",
     "output_type": "stream",
     "text": [
      "/tmp/ipykernel_2227498/2221635751.py:85: MatplotlibDeprecationWarning: The legendHandles attribute was deprecated in Matplotlib 3.7 and will be removed two minor releases later. Use legend_handles instead.\n",
      "  for lh in leg3.legendHandles:\n"
     ]
    },
    {
     "data": {
      "image/png": "[encoded data removed]",
      "text/plain": [
       "<Figure size 1400x400 with 3 Axes>"
      ]
     },
     "metadata": {},
     "output_type": "display_data"
    }
   ],
   "source": [
    "# fig, (ax1, ax2, ax3) = plt.subplots(1,3, figsize=(14,4), sharex=True)\n",
    "\n",
    "# # THE FIRST COHORT -- PDAC\n",
    "# sns.scatterplot(\n",
    "#     data=lupine_stats_PDAC, \n",
    "#     x=\"nontumor_means\", \n",
    "#     y=\"y_coord\", \n",
    "#     alpha=0.1, \n",
    "#     linewidth=0.0,\n",
    "#     color=\"#1f77b4\",\n",
    "#     ax=ax1\n",
    "# )\n",
    "# sns.scatterplot(\n",
    "#     data=lupine_stats_unique_PDAC, \n",
    "#     x=\"nontumor_means\", \n",
    "#     y=\"y_coord\", \n",
    "#     alpha=1.0, \n",
    "#     linewidth=0.4,\n",
    "#     color=\"#ff7f0e\",\n",
    "#     ax=ax1\n",
    "# )\n",
    "# ax1.set_yticks([], [])\n",
    "# ax1.set_title(\"PDAC\", pad=14, size=24)\n",
    "# ax1.set_xlabel(\"\")\n",
    "# ax1.set_ylabel(\"Rank\", labelpad=12, size=20)\n",
    "\n",
    "# # THE SECOND COHORT -- CCRCC\n",
    "# sns.scatterplot(\n",
    "#     data=lupine_stats_CCRCC, \n",
    "#     x=\"nontumor_means\", \n",
    "#     y=\"y_coord\", \n",
    "#     alpha=0.1, \n",
    "#     linewidth=0.0,\n",
    "#     color=\"#1f77b4\",\n",
    "#     ax=ax2,\n",
    "# )\n",
    "# sns.scatterplot(\n",
    "#     data=lupine_stats_unique_CCRCC, \n",
    "#     x=\"nontumor_means\", \n",
    "#     y=\"y_coord\", \n",
    "#     alpha=1.0, \n",
    "#     linewidth=0.4,\n",
    "#     color=\"#ff7f0e\",\n",
    "#     ax=ax2,\n",
    "# )\n",
    "# ax2.set_yticks([], [])\n",
    "# ax2.set_title(\"CCRCC\", pad=14, size=24)\n",
    "# ax2.set_xlabel(\"\")\n",
    "# ax2.set_ylabel(\"\")\n",
    "\n",
    "# # THE THIRD COHORT -- UCEC\n",
    "# sns.scatterplot(\n",
    "#     data=lupine_stats_UCEC, \n",
    "#     x=\"nontumor_means\", \n",
    "#     y=\"y_coord\", \n",
    "#     alpha=0.1, \n",
    "#     linewidth=0.0,\n",
    "#     color=\"#1f77b4\",\n",
    "#     ax=ax3,\n",
    "# )\n",
    "# sns.scatterplot(\n",
    "#     data=lupine_stats_unique_UCEC, \n",
    "#     x=\"nontumor_means\", \n",
    "#     y=\"y_coord\", \n",
    "#     alpha=1.0, \n",
    "#     linewidth=0.4,\n",
    "#     color=\"#ff7f0e\",\n",
    "#     ax=ax3,\n",
    "# )\n",
    "# ax3.set_yticks([], [])\n",
    "# ax3.set_title(\"UCEC\", pad=14, size=24)\n",
    "# ax3.set_xlabel(\"\")\n",
    "# ax3.set_ylabel(\"\")\n",
    "\n",
    "# fig.text(0.5, -0.09, \"Log$_{2}$ Mean Protein Intensity\", ha='center', size=20)\n",
    "\n",
    "# leg3 = ax3.legend(\n",
    "#             title=\"\", \n",
    "#             edgecolor=\"k\", \n",
    "#             fancybox=True,\n",
    "#             prop={'size': 12}, \n",
    "#             bbox_to_anchor=(1.0, 1.0),\n",
    "#             labels=[\"Shared\", \"Lupine \\nunique\"],\n",
    "# )\n",
    "# for lh in leg3.legendHandles:\n",
    "#     lh.set_alpha(1)\n",
    "\n",
    "# plt.show()\n",
    "# #plt.savefig(\"../figures/lupine-DE-rankplots.pdf\", bbox_inches=\"tight\")"
   ]
  },
  {
   "cell_type": "markdown",
   "id": "a31ac57c-e08f-45dc-868a-064169f133fb",
   "metadata": {},
   "source": [
    "#### What if we tried to add the names of the proteins? \n",
    "This one looks really good. "
   ]
  },
  {
   "cell_type": "code",
   "execution_count": 109,
   "id": "dd87fbeb-09f2-4b38-8985-f5bb93670891",
   "metadata": {},
   "outputs": [
    {
     "name": "stderr",
     "output_type": "stream",
     "text": [
      "/tmp/ipykernel_2227498/1574073558.py:121: MatplotlibDeprecationWarning: The legendHandles attribute was deprecated in Matplotlib 3.7 and will be removed two minor releases later. Use legend_handles instead.\n",
      "  for lh in leg3.legendHandles:\n"
     ]
    },
    {
     "data": {
      "image/png": "[encoded data removed]",
      "text/plain": [
       "<Figure size 1400x400 with 3 Axes>"
      ]
     },
     "metadata": {},
     "output_type": "display_data"
    }
   ],
   "source": [
    "fig, (ax1, ax2, ax3) = plt.subplots(1,3, figsize=(14,4), sharex=True)\n",
    "\n",
    "# THE FIRST COHORT -- PDAC\n",
    "sns.scatterplot(\n",
    "    data=lupine_stats_PDAC, \n",
    "    x=\"nontumor_means\", \n",
    "    y=\"y_coord\", \n",
    "    alpha=0.1, \n",
    "    linewidth=0.0,\n",
    "    color=\"#1f77b4\",\n",
    "    ax=ax1\n",
    ")\n",
    "sns.scatterplot(\n",
    "    data=lupine_stats_unique_PDAC, \n",
    "    x=\"nontumor_means\", \n",
    "    y=\"y_coord\", \n",
    "    alpha=1.0, \n",
    "    linewidth=0.4,\n",
    "    color=\"#ff7f0e\",\n",
    "    ax=ax1\n",
    ")\n",
    "ax1.set_yticks([], [])\n",
    "ax1.set_title(\"PDAC\", pad=14, size=24)\n",
    "ax1.set_xlabel(\"\")\n",
    "ax1.set_ylabel(\"Rank\", labelpad=12, size=20)\n",
    "\n",
    "# Annotate the gene IDs\n",
    "for idx, row in lupine_stats_unique_PDAC.iterrows():\n",
    "    x_coord = row[\"nontumor_means\"]\n",
    "    y_coord = row[\"y_coord\"]\n",
    "    ax1.annotate(\n",
    "        text=row[\"HGNC\"],\n",
    "        xy=(x_coord, y_coord), \n",
    "        xytext=(x_coord, y_coord-2000),\n",
    "        fontsize=12, \n",
    "        rotation=90,\n",
    "    )\n",
    "\n",
    "# THE SECOND COHORT -- CCRCC\n",
    "sns.scatterplot(\n",
    "    data=lupine_stats_CCRCC, \n",
    "    x=\"nontumor_means\", \n",
    "    y=\"y_coord\", \n",
    "    alpha=0.1, \n",
    "    linewidth=0.0,\n",
    "    color=\"#1f77b4\",\n",
    "    ax=ax2,\n",
    ")\n",
    "sns.scatterplot(\n",
    "    data=lupine_stats_unique_CCRCC, \n",
    "    x=\"nontumor_means\", \n",
    "    y=\"y_coord\", \n",
    "    alpha=1.0, \n",
    "    linewidth=0.4,\n",
    "    color=\"#ff7f0e\",\n",
    "    ax=ax2,\n",
    ")\n",
    "ax2.set_yticks([], [])\n",
    "ax2.set_title(\"CCRCC\", pad=14, size=24)\n",
    "ax2.set_xlabel(\"\")\n",
    "ax2.set_ylabel(\"\")\n",
    "\n",
    "# Annotate the gene IDs\n",
    "for idx, row in lupine_stats_unique_CCRCC.iterrows():\n",
    "    x_coord = row[\"nontumor_means\"]\n",
    "    y_coord = row[\"y_coord\"]\n",
    "    ax2.annotate(\n",
    "        text=row[\"HGNC\"],\n",
    "        xy=(x_coord, y_coord), \n",
    "        xytext=(x_coord, y_coord-2000),\n",
    "        fontsize=12, \n",
    "        rotation=90,\n",
    "    )\n",
    "\n",
    "# THE THIRD COHORT -- UCEC\n",
    "sns.scatterplot(\n",
    "    data=lupine_stats_UCEC, \n",
    "    x=\"nontumor_means\", \n",
    "    y=\"y_coord\", \n",
    "    alpha=0.1, \n",
    "    linewidth=0.0,\n",
    "    color=\"#1f77b4\",\n",
    "    ax=ax3,\n",
    ")\n",
    "sns.scatterplot(\n",
    "    data=lupine_stats_unique_UCEC, \n",
    "    x=\"nontumor_means\", \n",
    "    y=\"y_coord\", \n",
    "    alpha=1.0, \n",
    "    linewidth=0.4,\n",
    "    color=\"#ff7f0e\",\n",
    "    ax=ax3,\n",
    ")\n",
    "ax3.set_yticks([], [])\n",
    "ax3.set_title(\"UCEC\", pad=14, size=24)\n",
    "ax3.set_xlabel(\"\")\n",
    "ax3.set_ylabel(\"\")\n",
    "\n",
    "# Annotate the gene IDs\n",
    "for idx, row in lupine_stats_unique_UCEC.iterrows():\n",
    "    x_coord = row[\"nontumor_means\"]\n",
    "    y_coord = row[\"y_coord\"]\n",
    "    ax3.annotate(\n",
    "        text=row[\"HGNC\"],\n",
    "        xy=(x_coord, y_coord), \n",
    "        xytext=(x_coord, y_coord-2000),\n",
    "        fontsize=12, \n",
    "        rotation=90,\n",
    "    )\n",
    "\n",
    "fig.text(0.5, -0.09, \"Log$_{2}$ Mean Protein Intensity\", ha='center', size=20)\n",
    "\n",
    "leg3 = ax3.legend(\n",
    "            title=\"\", \n",
    "            edgecolor=\"k\", \n",
    "            fancybox=True,\n",
    "            prop={'size': 14}, \n",
    "            bbox_to_anchor=(1.0, 1.0),\n",
    "            labels=[\"Shared\", \"Lupine \\nunique\"],\n",
    ")\n",
    "for lh in leg3.legendHandles:\n",
    "    lh.set_alpha(1)\n",
    "\n",
    "plt.show()\n",
    "#plt.savefig(\"../figures/lupine-DE-rankplots.pdf\", bbox_inches=\"tight\")"
   ]
  },
  {
   "cell_type": "code",
   "execution_count": null,
   "id": "c57042da-0448-4e98-aa32-7d3e2620ac8c",
   "metadata": {},
   "outputs": [],
   "source": []
  }
 ],
 "metadata": {
  "kernelspec": {
   "display_name": "deep-impute",
   "language": "python",
   "name": "deep-impute"
  },
  "language_info": {
   "codemirror_mode": {
    "name": "ipython",
    "version": 3
   },
   "file_extension": ".py",
   "mimetype": "text/x-python",
   "name": "python",
   "nbconvert_exporter": "python",
   "pygments_lexer": "ipython3",
   "version": "3.9.19"
  }
 },
 "nbformat": 4,
 "nbformat_minor": 5
}
